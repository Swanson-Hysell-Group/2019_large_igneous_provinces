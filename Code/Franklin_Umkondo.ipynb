{
 "cells": [
  {
   "cell_type": "markdown",
   "metadata": {},
   "source": [
    "# Franklin Umkondo\n",
    "\n",
    "Just assess Franklin and Umkondo."
   ]
  },
  {
   "cell_type": "code",
   "execution_count": 1,
   "metadata": {},
   "outputs": [
    {
     "data": {
      "text/plain": [
       "sys.version_info(major=2, minor=7, micro=15, releaselevel='final', serial=0)"
      ]
     },
     "execution_count": 1,
     "metadata": {},
     "output_type": "execute_result"
    }
   ],
   "source": [
    "import sys\n",
    "sys.version_info"
   ]
  },
  {
   "cell_type": "code",
   "execution_count": 2,
   "metadata": {},
   "outputs": [
    {
     "name": "stderr",
     "output_type": "stream",
     "text": [
      "/Users/yuempark/anaconda3/envs/py27/lib/python2.7/site-packages/ipykernel_launcher.py:2: DeprecationWarning: numpy.core.umath_tests is an internal NumPy module and should not be imported. It will be removed in a future NumPy release.\n",
      "  \n"
     ]
    }
   ],
   "source": [
    "import numpy as np\n",
    "from numpy.core.umath_tests import inner1d\n",
    "import pandas as pd\n",
    "import matplotlib.pyplot as plt\n",
    "import matplotlib.patches as patches\n",
    "import math\n",
    "import pygplates\n",
    "\n",
    "import cartopy\n",
    "import cartopy.crs as ccrs\n",
    "from shapely.geometry.polygon import Polygon\n",
    "\n",
    "from cartopy.io.shapereader import Reader\n",
    "from cartopy.feature import ShapelyFeature\n",
    "\n",
    "from tqdm import tqdm_notebook\n",
    "\n",
    "from netCDF4 import Dataset"
   ]
  },
  {
   "cell_type": "code",
   "execution_count": 3,
   "metadata": {},
   "outputs": [],
   "source": [
    "from recon_tools import lat_lon_2_cart\n",
    "from recon_tools import cart_2_lat_lon\n",
    "from recon_tools import fast_cross\n",
    "from recon_tools import cross_and_normalize\n",
    "from recon_tools import intersection\n",
    "from recon_tools import check_polygon_in_band\n",
    "from recon_tools import get_area_in_band\n",
    "from recon_tools import get_areas_in_bands\n",
    "from recon_tools import get_length_in_band\n",
    "from recon_tools import get_lengths_in_bands\n",
    "from recon_tools import plot_reconstruction\n",
    "from recon_tools import plot_polygons"
   ]
  },
  {
   "cell_type": "code",
   "execution_count": 4,
   "metadata": {},
   "outputs": [],
   "source": [
    "def get_LIP_areas_in_bands(reconstructed_feature_geometries, lat_mins, lat_maxs,\n",
    "                           halflife, cover_removal, cover_halflife):\n",
    "    \"\"\"\n",
    "    Get the area of all features in each latitude band, with optional calculations for:\n",
    "    - features decaying exponentially\n",
    "    - covered features disappearing and other features decaying exponentially\n",
    "\n",
    "    Parameters\n",
    "    ----------\n",
    "    reconstructed_feature_geometries : list\n",
    "        list of reconstructed features\n",
    "    lat_mins : array-like\n",
    "        array-like of latitude minimums\n",
    "    lat_maxs : array_like\n",
    "        array_like of latitude maximums\n",
    "    halflife : array-like\n",
    "        half life of exponential decay\n",
    "    cover_removal : list of booleans\n",
    "        if True, instantly remove, if False, remove 50% instantly\n",
    "    cover_halflife : array-like\n",
    "        halflife of the uncovered features\n",
    "\n",
    "    Returns\n",
    "    -------\n",
    "    areas : array\n",
    "        list of total area in each latitude band\n",
    "    area_polygons : list\n",
    "        list of all polygons for which areas were calculated\n",
    "    areas_decay : list of arrays\n",
    "        list of total area in each latitude band, accounting for exponential decay method\n",
    "    areas_cover : list of arrays\n",
    "        list of total area in each latitude band, accounting for cover method\n",
    "    \"\"\"\n",
    "    # storage vectors\n",
    "    areas = np.array([])\n",
    "    area_polygons = []\n",
    "    \n",
    "    areas_decay_temp = []\n",
    "    # convert halflife to decay constant\n",
    "    lamb = np.log(2)/halflife\n",
    "    \n",
    "    areas_cover_temp = []\n",
    "    cover_lamb = np.log(2)/cover_halflife\n",
    "\n",
    "    # iterate over each latitude band\n",
    "    for i in range(len(lat_mins)):\n",
    "\n",
    "        accumulated_area = 0\n",
    "\n",
    "        accumulated_area_decay = np.zeros(len(halflife))\n",
    "        accumulated_area_cover = np.zeros(len(cover_halflife))\n",
    "\n",
    "        # iterate over each polygon\n",
    "        for j in range(len(reconstructed_feature_geometries)):\n",
    "\n",
    "            # get the begin date, reconstruction date, and feature age\n",
    "            begin_date, end_date = reconstructed_feature_geometries[j].get_feature().get_valid_time()\n",
    "            now_date = reconstructed_feature_geometries[j].get_reconstruction_time()\n",
    "            feature_age = begin_date - now_date\n",
    "            feature_name = reconstructed_feature_geometries[j].get_feature().get_name()\n",
    "            feature_Id = reconstructed_feature_geometries[j].get_feature().get_feature_id().get_string()\n",
    "\n",
    "            # get the actual polygon\n",
    "            current_polygon = reconstructed_feature_geometries[j].get_reconstructed_geometry()\n",
    "\n",
    "            # check if the polygon is in the band\n",
    "            in_band = check_polygon_in_band(current_polygon, lat_mins[i], lat_maxs[i])\n",
    "\n",
    "            if in_band:\n",
    "                # do the calculation\n",
    "                area, band_polygon = get_area_in_band(current_polygon, lat_mins[i], lat_maxs[i])\n",
    "\n",
    "                # store results\n",
    "                if begin_date<=520:\n",
    "                    accumulated_area = accumulated_area + area\n",
    "                area_polygons.append(band_polygon)\n",
    "\n",
    "                # decay method\n",
    "                for k in range(len(halflife)):\n",
    "                    # scale the area based on the exponential decay equation\n",
    "                    decay_area = area * np.exp(-lamb[k]*feature_age)\n",
    "                    accumulated_area_decay[k] = accumulated_area_decay[k] + decay_area\n",
    "                        \n",
    "                # cover method\n",
    "                if feature_name in covered_LIP_names:\n",
    "                    for k in range(len(cover_halflife)):\n",
    "                        if cover_removal[k]:\n",
    "                            pass\n",
    "                        else:\n",
    "                            decay_area = area/2 * np.exp(-cover_lamb[k]*feature_age)\n",
    "                            accumulated_area_cover[k] = accumulated_area_cover[k] + decay_area\n",
    "                else:\n",
    "                    for k in range(len(cover_halflife)):\n",
    "                        # scale the area based on the exponential decay equation\n",
    "                        decay_area = area * np.exp(-cover_lamb[k]*feature_age)\n",
    "                        accumulated_area_cover[k] = accumulated_area_cover[k] + decay_area\n",
    "                        \n",
    "        # store total area for the band\n",
    "        areas = np.append(areas, accumulated_area)\n",
    "\n",
    "        areas_decay_temp.append(accumulated_area_decay)\n",
    "        areas_cover_temp.append(accumulated_area_cover)\n",
    "\n",
    "    # basically, flip our outputs so that each array in our list is for a given input /halflife\n",
    "    areas_decay = []\n",
    "    for i in range(len(halflife)):\n",
    "        this_array = np.array([])\n",
    "        for j in range(len(areas_decay_temp)):\n",
    "            this_array = np.append(this_array, areas_decay_temp[j][i])\n",
    "        areas_decay.append(this_array)\n",
    "    areas_cover = []\n",
    "    for i in range(len(cover_halflife)):\n",
    "        this_array = np.array([])\n",
    "        for j in range(len(areas_cover_temp)):\n",
    "            this_array = np.append(this_array, areas_cover_temp[j][i])\n",
    "        areas_cover.append(this_array)\n",
    "\n",
    "    # returns\n",
    "    return areas, area_polygons, areas_decay, areas_cover"
   ]
  },
  {
   "cell_type": "code",
   "execution_count": 5,
   "metadata": {},
   "outputs": [],
   "source": [
    "# change this root to the dropbox folder\n",
    "root = '/Users/yuempark/Dropbox/Ophiolite_Compilation/'\n",
    "\n",
    "Franklin = pygplates.FeatureCollection.read(root+'Paleogeo_models/LIPs_current/Ernst_lipshapefiles/Franklin.shp')\n",
    "Umkondo = pygplates.FeatureCollection.read(root+'Paleogeo_models/LIPs_current/Ernst_lipshapefiles/Umkondo.shp')\n",
    "model = '../../Rodinia_Model/Reconstruction/Rodinia_Model.rot'"
   ]
  },
  {
   "cell_type": "markdown",
   "metadata": {},
   "source": [
    "## Franklin"
   ]
  },
  {
   "cell_type": "code",
   "execution_count": 6,
   "metadata": {},
   "outputs": [],
   "source": [
    "# create the latitude bands\n",
    "# band_width must be a factor of 90\n",
    "band_width = 5\n",
    "lat_mins = np.arange(-90           , 90           , band_width)\n",
    "lat_maxs = np.arange(-90+band_width, 90+band_width, band_width)\n",
    "lat_mids = lat_mins + (lat_maxs-lat_mins)/2"
   ]
  },
  {
   "cell_type": "code",
   "execution_count": 7,
   "metadata": {},
   "outputs": [],
   "source": [
    "# input parameters\n",
    "t = 720     #reconstruction time\n",
    "anchor = 1  #anchor plate ID\n",
    "\n",
    "# carry out the reconstruction for the LIPs\n",
    "reconstructed_LIPs = []\n",
    "pygplates.reconstruct(Franklin, model, reconstructed_LIPs, t, anchor)"
   ]
  },
  {
   "cell_type": "code",
   "execution_count": 8,
   "metadata": {},
   "outputs": [],
   "source": [
    "# perform the calculations for LIPs\n",
    "areas_LIPs, area_polygons_LIPs = get_areas_in_bands(reconstructed_LIPs, lat_mins, lat_maxs)"
   ]
  },
  {
   "cell_type": "code",
   "execution_count": 9,
   "metadata": {},
   "outputs": [
    {
     "data": {
      "image/png": "[encoded data removed]",
      "text/plain": [
       "<Figure size 432x288 with 1 Axes>"
      ]
     },
     "metadata": {
      "needs_background": "light"
     },
     "output_type": "display_data"
    }
   ],
   "source": [
    "cols = ['area_km2','minimum_latitude','maximum_latitude']\n",
    "\n",
    "df_LIPs = pd.DataFrame({'minimum_latitude':lat_mins, 'maximum_latitude':lat_maxs, 'area_km2':areas_LIPs})\n",
    "df_LIPs = df_LIPs[cols]\n",
    "\n",
    "fig, ax = plt.subplots()\n",
    "ax.plot((df_LIPs['minimum_latitude']+(df_LIPs['maximum_latitude']-df_LIPs['minimum_latitude'])/2), \\\n",
    "        df_LIPs['area_km2'], 'r+-', label='LIPs')\n",
    "ax.set_xlabel('latitude [$^{\\circ}$]')\n",
    "ax.set_ylabel('area [km$^{2}$]')\n",
    "ax.set_xlim(-90,90)\n",
    "ax.set_xticks([-90,-60,-30,0,30,60,90])\n",
    "ax.legend()\n",
    "plt.show(fig)"
   ]
  },
  {
   "cell_type": "code",
   "execution_count": 10,
   "metadata": {},
   "outputs": [
    {
     "data": {
      "text/plain": [
       "2620997.0487505244"
      ]
     },
     "execution_count": 10,
     "metadata": {},
     "output_type": "execute_result"
    }
   ],
   "source": [
    "np.sum(df_LIPs[(df_LIPs['minimum_latitude']>=-15)&(df_LIPs['maximum_latitude']<=15)]['area_km2'])"
   ]
  },
  {
   "cell_type": "markdown",
   "metadata": {},
   "source": [
    "### Umkondo"
   ]
  },
  {
   "cell_type": "code",
   "execution_count": 11,
   "metadata": {},
   "outputs": [],
   "source": [
    "# create the latitude bands\n",
    "# band_width must be a factor of 90\n",
    "band_width = 5\n",
    "lat_mins = np.arange(-90           , 90           , band_width)\n",
    "lat_maxs = np.arange(-90+band_width, 90+band_width, band_width)\n",
    "lat_mids = lat_mins + (lat_maxs-lat_mins)/2"
   ]
  },
  {
   "cell_type": "code",
   "execution_count": 12,
   "metadata": {},
   "outputs": [],
   "source": [
    "# input parameters\n",
    "t = 1109     #reconstruction time\n",
    "anchor = 1  #anchor plate ID\n",
    "\n",
    "# carry out the reconstruction for the LIPs\n",
    "reconstructed_LIPs = []\n",
    "pygplates.reconstruct(Umkondo, model, reconstructed_LIPs, t, anchor)"
   ]
  },
  {
   "cell_type": "code",
   "execution_count": 13,
   "metadata": {},
   "outputs": [],
   "source": [
    "# perform the calculations for LIPs\n",
    "areas_LIPs, area_polygons_LIPs = get_areas_in_bands(reconstructed_LIPs, lat_mins, lat_maxs)"
   ]
  },
  {
   "cell_type": "code",
   "execution_count": 14,
   "metadata": {},
   "outputs": [
    {
     "data": {
      "image/png": "[encoded data removed]",
      "text/plain": [
       "<Figure size 432x288 with 1 Axes>"
      ]
     },
     "metadata": {
      "needs_background": "light"
     },
     "output_type": "display_data"
    }
   ],
   "source": [
    "cols = ['area_km2','minimum_latitude','maximum_latitude']\n",
    "\n",
    "df_LIPs = pd.DataFrame({'minimum_latitude':lat_mins, 'maximum_latitude':lat_maxs, 'area_km2':areas_LIPs})\n",
    "df_LIPs = df_LIPs[cols]\n",
    "\n",
    "fig, ax = plt.subplots()\n",
    "ax.plot((df_LIPs['minimum_latitude']+(df_LIPs['maximum_latitude']-df_LIPs['minimum_latitude'])/2), \\\n",
    "        df_LIPs['area_km2'], 'r+-', label='LIPs')\n",
    "ax.set_xlabel('latitude [$^{\\circ}$]')\n",
    "ax.set_ylabel('area [km$^{2}$]')\n",
    "ax.set_xlim(-90,90)\n",
    "ax.set_xticks([-90,-60,-30,0,30,60,90])\n",
    "ax.legend()\n",
    "plt.show(fig)"
   ]
  },
  {
   "cell_type": "code",
   "execution_count": 15,
   "metadata": {},
   "outputs": [
    {
     "data": {
      "text/plain": [
       "2002627.6139613984"
      ]
     },
     "execution_count": 15,
     "metadata": {},
     "output_type": "execute_result"
    }
   ],
   "source": [
    "np.sum(df_LIPs[(df_LIPs['minimum_latitude']>=-15)&(df_LIPs['maximum_latitude']<=15)]['area_km2'])"
   ]
  }
 ],
 "metadata": {
  "kernelspec": {
   "display_name": "Python 2",
   "language": "python",
   "name": "python2"
  },
  "language_info": {
   "codemirror_mode": {
    "name": "ipython",
    "version": 2
   },
   "file_extension": ".py",
   "mimetype": "text/x-python",
   "name": "python",
   "nbconvert_exporter": "python",
   "pygments_lexer": "ipython2",
   "version": "2.7.15"
  },
  "toc": {
   "nav_menu": {},
   "number_sections": false,
   "sideBar": true,
   "skip_h1_title": false,
   "title_cell": "Table of Contents",
   "title_sidebar": "Contents",
   "toc_cell": false,
   "toc_position": {},
   "toc_section_display": true,
   "toc_window_display": false
  }
 },
 "nbformat": 4,
 "nbformat_minor": 2
}
