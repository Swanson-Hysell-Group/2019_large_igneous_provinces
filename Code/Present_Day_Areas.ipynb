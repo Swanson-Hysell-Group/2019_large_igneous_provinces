{
 "cells": [
  {
   "cell_type": "markdown",
   "metadata": {},
   "source": [
    "# Present Day Areas\n",
    "\n",
    "This Jupyter notebook assesses the present day areas of large igneous provinces and builds up the LIP summary table used in the manuscript."
   ]
  },
  {
   "cell_type": "code",
   "execution_count": 1,
   "metadata": {},
   "outputs": [],
   "source": [
    "import pandas as pd\n",
    "import matplotlib.pyplot as plt\n",
    "import numpy as np\n",
    "from scipy.optimize import curve_fit\n",
    "from sklearn.metrics import mean_squared_error"
   ]
  },
  {
   "cell_type": "markdown",
   "metadata": {},
   "source": [
    "## Data Files"
   ]
  },
  {
   "cell_type": "code",
   "execution_count": 2,
   "metadata": {},
   "outputs": [],
   "source": [
    "original = pd.read_csv('../Data/LIP_Outline.csv')\n",
    "original.sort_values('AGE',inplace=True)\n",
    "original.reset_index(inplace=True,drop=True)"
   ]
  },
  {
   "cell_type": "code",
   "execution_count": 3,
   "metadata": {},
   "outputs": [],
   "source": [
    "present = pd.read_csv('../Data/LIP_current_extent.csv')\n",
    "present.sort_values('X_BARCDAGE',inplace=True)\n",
    "present.reset_index(inplace=True,drop=True)"
   ]
  },
  {
   "cell_type": "markdown",
   "metadata": {},
   "source": [
    "## LIPs"
   ]
  },
  {
   "cell_type": "markdown",
   "metadata": {},
   "source": [
    "Start a dataframe:"
   ]
  },
  {
   "cell_type": "code",
   "execution_count": 4,
   "metadata": {},
   "outputs": [],
   "source": [
    "summary = pd.DataFrame(columns=['name',\n",
    "                                'type',\n",
    "                                'age',\n",
    "                                'age ref.',\n",
    "                                'original area km2',\n",
    "                                'present area km2',\n",
    "                                'present area ref.',\n",
    "                                'present/original',\n",
    "                                'buried'])"
   ]
  },
  {
   "cell_type": "markdown",
   "metadata": {},
   "source": [
    "Template:"
   ]
  },
  {
   "cell_type": "raw",
   "metadata": {},
   "source": [
    "summary.loc[''] = \\\n",
    "    pd.Series({'name':'',\n",
    "               'type':'',\n",
    "               'age':,\n",
    "               'age ref.':'',\n",
    "               'original area km2':,\n",
    "               'present area km2':,\n",
    "               'present area ref.':'',\n",
    "               'present/original':,\n",
    "               'buried':''})"
   ]
  },
  {
   "cell_type": "markdown",
   "metadata": {},
   "source": [
    "### Columbia River Basalts\n",
    "\n",
    "Present extent shapefile has data from both Buchan and Ernst (2004) as well as the PLATES database - we chose to use the Buchan and Ernst (2004) (which has `['CAPT_SCALE']==2000000`) since they had more detail and included the Eastern Snake River Plain which is included in the original broad LIP outline."
   ]
  },
  {
   "cell_type": "code",
   "execution_count": 5,
   "metadata": {},
   "outputs": [],
   "source": [
    "original_CRB = original[original['NAME_EVENT']=='Columbia River']\n",
    "present_CRB = present[(present['X_BARCDAGE']==17)&(present['CAPT_SCALE']==2000000)]"
   ]
  },
  {
   "cell_type": "code",
   "execution_count": 6,
   "metadata": {},
   "outputs": [],
   "source": [
    "summary.loc['CRB'] = \\\n",
    "    pd.Series({'name':'Columbia River',\n",
    "               'type':'basaltic',\n",
    "               'age':16.3,\n",
    "               'age ref.':'Kasbohm and Schoene (2018)',\n",
    "               'original area km2':np.sum(original_CRB['area_km2']),\n",
    "               'present area km2':np.sum(present_CRB['area_km2']),\n",
    "               'present area ref.':'Buchan and Ernst (2004)',\n",
    "               'present/original':np.sum(present_CRB['area_km2']) / np.sum(original_CRB['area_km2']),\n",
    "               'buried':'no'})"
   ]
  },
  {
   "cell_type": "markdown",
   "metadata": {},
   "source": [
    "### Afar\n",
    "\n",
    "The present-day extent for the Afar LIP is from the PLATES database:\n",
    "\n",
    "> Coffin, M.F., Duncan, R.A., Eldholm, O., Fitton, J.G., Frey, F.A., Larsen, H.C., Mahoney, J.J., Saunders, A.D., Schlich, R., and Wallace, P.J., 2006. Large igneous provinces and scientific ocean drilling: Status quo and a look ahead, Oceanography, vol. 19(4), pp. 150-160.\n",
    "\n",
    "The original extent polygon extends much further north than the exposure of the Ethiopian Traps and includes the Red Sea and its flanks where there are no current exposures included in the PLATES polygons — despite there being some exposure of LIP-related volcanics along the Red Sea flanks. This portion of the LIP could be considered to be buried with the Ethiopian and Yemen plateau volcanics being exposed."
   ]
  },
  {
   "cell_type": "code",
   "execution_count": 7,
   "metadata": {},
   "outputs": [],
   "source": [
    "original_Afar = original[original['NAME_EVENT']=='Afro-Arabian']\n",
    "present_Afar = present[present['X_BARCDAGE']==30]"
   ]
  },
  {
   "cell_type": "code",
   "execution_count": 8,
   "metadata": {},
   "outputs": [],
   "source": [
    "summary.loc['Afar'] = \\\n",
    "    pd.Series({'name':'Afar',\n",
    "               'type':'basaltic',\n",
    "               'age':30,\n",
    "               'age ref.':'Courtillot and Renne (2003)',\n",
    "               'original area km2':np.sum(original_Afar['area_km2']),\n",
    "               'present area km2':np.sum(present_Afar['area_km2']),\n",
    "               'present area ref.':'Coffin et al. (2006)',\n",
    "               'present/original':np.sum(present_Afar['area_km2']) / np.sum(original_Afar['area_km2']),\n",
    "               'buried':'partial'})"
   ]
  },
  {
   "cell_type": "markdown",
   "metadata": {},
   "source": [
    "### Sierra Madre Occidental\n",
    "\n",
    "The Sierra Madre Occidental is a silic large igneous province, but along with the rhyolitic volcanics there was mafic and intermediate volcanism. The first major pulse of magmatism was 34 Ma (Bryan and Ferrari, 2013)."
   ]
  },
  {
   "cell_type": "code",
   "execution_count": 9,
   "metadata": {},
   "outputs": [],
   "source": [
    "original_SMO = original[original['NAME_EVENT']=='Sierra Madre Occidental (SLIP)']\n",
    "present_SMO = present[present['LIPID']==101]"
   ]
  },
  {
   "cell_type": "code",
   "execution_count": 10,
   "metadata": {},
   "outputs": [
    {
     "name": "stderr",
     "output_type": "stream",
     "text": [
      "/Users/yuempark/anaconda3/lib/python3.6/site-packages/ipykernel_launcher.py:9: RuntimeWarning: divide by zero encountered in true_divide\n",
      "  if __name__ == '__main__':\n"
     ]
    }
   ],
   "source": [
    "summary.loc['SMO'] = \\\n",
    "    pd.Series({'name':'Sierra Madre Occidental',\n",
    "               'type':'silicic/bimodal',\n",
    "               'age':34,\n",
    "               'age ref.':'Bryan and Ferrari (2013)',\n",
    "               'original area km2':np.sum(original_SMO['area_km2']),\n",
    "               'present area km2':np.sum(present_SMO['area_km2']),\n",
    "               'present area ref.':'Bryan and Ferrari (2013)',\n",
    "               'present/original':np.sum(present_SMO['area_km2']) / np.sum(original_SMO['area_km2']),\n",
    "               'buried':'no'})"
   ]
  },
  {
   "cell_type": "markdown",
   "metadata": {},
   "source": [
    "### NAIP (North Atlantic Volcanic Province)\n",
    "\n",
    "The North Atlantic Volcanic Province was associated with succesful rifting. In the Ernst current extent database there were duplicates for nearly all of the polygons with ages assigned both at 62 Ma and 60 Ma. There were also abundant polygons that are within the North Atlantic and are not exposed. These duplicates and submerged polygons were removes in order to determine area. Its extent will be anomalously low due to the potential of coverage by the Greenland ice sheet including the burial of much of it due to successful rifting.\n",
    "\n",
    "> Larsen, L., Pedersen, A., Tegner, C., Duncan, R., Hald, N. and Larsen, J., 2016. Age of Tertiary volcanic rocks on the West Greenland continental margin: volcanic evolution and event correlation to other parts of the North Atlantic Igneous Province. Geological Magazine: 1-25."
   ]
  },
  {
   "cell_type": "code",
   "execution_count": 11,
   "metadata": {},
   "outputs": [],
   "source": [
    "original_NAIP = original[original['AGE']==62]\n",
    "present_NAIP = present[present['X_BARCDAGE']==62]"
   ]
  },
  {
   "cell_type": "code",
   "execution_count": 12,
   "metadata": {},
   "outputs": [],
   "source": [
    "summary.loc['NAIP'] = \\\n",
    "    pd.Series({'name':'North Atlantic',\n",
    "               'type':'basaltic',\n",
    "               'age':62,\n",
    "               'age ref.':'Larsen et al. (2016)',\n",
    "               'original area km2':np.sum(original_NAIP['area_km2']),\n",
    "               'present area km2':np.sum(present_NAIP['area_km2']),\n",
    "               'present area ref.':'Buchan and Ernst (2004), Coffin et al. (2006)',\n",
    "               'present/original':np.sum(present_NAIP['area_km2']) / np.sum(original_NAIP['area_km2']),\n",
    "               'buried':'partial'})"
   ]
  },
  {
   "cell_type": "markdown",
   "metadata": {},
   "source": [
    "### Deccan"
   ]
  },
  {
   "cell_type": "code",
   "execution_count": 13,
   "metadata": {},
   "outputs": [],
   "source": [
    "original_Deccan = original[original['NAME_PART']=='Deccan']\n",
    "present_Deccan = present[present['X_BARCDAGE']==65]"
   ]
  },
  {
   "cell_type": "code",
   "execution_count": 14,
   "metadata": {},
   "outputs": [],
   "source": [
    "summary.loc['Deccan'] = \\\n",
    "    pd.Series({'name':'Deccan',\n",
    "               'type':'basaltic',\n",
    "               'age':66,\n",
    "               'age ref.':'Schoene (2015)',\n",
    "               'original area km2':np.sum(original_Deccan['area_km2']),\n",
    "               'present area km2':np.sum(present_Deccan['area_km2']),\n",
    "               'present area ref.':'Coffin et al. (2006)',\n",
    "               'present/original':np.sum(present_Deccan['area_km2']) / np.sum(original_Deccan['area_km2']),\n",
    "               'buried':'no'})"
   ]
  },
  {
   "cell_type": "markdown",
   "metadata": {},
   "source": [
    "### Seychelles"
   ]
  },
  {
   "cell_type": "code",
   "execution_count": 15,
   "metadata": {},
   "outputs": [],
   "source": [
    "original_Seychelles = original[original['NAME_PART']=='Chagos-Laccadive (3000M & gravity contour)']"
   ]
  },
  {
   "cell_type": "code",
   "execution_count": 16,
   "metadata": {},
   "outputs": [],
   "source": [
    "summary.loc['Seychelles'] = \\\n",
    "    pd.Series({'name':'Seychelles',\n",
    "               'type':'basaltic',\n",
    "               'age':66,\n",
    "               'age ref.':'Schoene (2015)',\n",
    "               'original area km2':np.sum(original_Seychelles['area_km2']),\n",
    "               'present area km2':0,\n",
    "               'present area ref.':'Coffin et al. (2006)',\n",
    "               'present/original':0,\n",
    "               'buried':'yes'})"
   ]
  },
  {
   "cell_type": "markdown",
   "metadata": {},
   "source": [
    "### Madagascar"
   ]
  },
  {
   "cell_type": "code",
   "execution_count": 17,
   "metadata": {},
   "outputs": [],
   "source": [
    "original_Madagascar = original[original['NAME_EVENT']=='Madagascar']\n",
    "present_Madagascar = present[present['X_BARCDAGE']==91]"
   ]
  },
  {
   "cell_type": "code",
   "execution_count": 18,
   "metadata": {},
   "outputs": [],
   "source": [
    "summary.loc['Madagascar'] = \\\n",
    "    pd.Series({'name':'Madagascar',\n",
    "               'type':'basaltic',\n",
    "               'age':90,\n",
    "               'age ref.':'Cucciniello et al. (2010)',\n",
    "               'original area km2':np.sum(original_Madagascar['area_km2']),\n",
    "               'present area km2':np.sum(present_Madagascar['area_km2']),\n",
    "               'present area ref.':'Coffin et al. (2006)',\n",
    "               'present/original':np.sum(present_Madagascar['area_km2']) / np.sum(original_Madagascar['area_km2']),\n",
    "               'buried':'no'})"
   ]
  },
  {
   "cell_type": "markdown",
   "metadata": {},
   "source": [
    "### Carribean-Columbian"
   ]
  },
  {
   "cell_type": "code",
   "execution_count": 19,
   "metadata": {},
   "outputs": [],
   "source": [
    "original_Carribean_Columbian = original[original['NAME_EVENT']=='Caribbean-Colombian']\n",
    "present_Carribean_Columbian = present[present['X_BARCDAGE']==88]"
   ]
  },
  {
   "cell_type": "code",
   "execution_count": 20,
   "metadata": {},
   "outputs": [],
   "source": [
    "summary.loc['Carribean_Columbian'] = \\\n",
    "    pd.Series({'name':'Carribean-Columbian',\n",
    "               'type':'basaltic',\n",
    "               'age':94,\n",
    "               'age ref.':'Loewen et al. (2013)',\n",
    "               'original area km2':np.sum(original_Carribean_Columbian['area_km2']),\n",
    "               'present area km2':np.sum(present_Carribean_Columbian['area_km2']),\n",
    "               'present area ref.':'Coffin et al. (2006)',\n",
    "               'present/original':np.sum(present_Carribean_Columbian['area_km2']) / np.sum(original_Carribean_Columbian['area_km2']),\n",
    "               'buried':'no'})"
   ]
  },
  {
   "cell_type": "markdown",
   "metadata": {},
   "source": [
    "### High Arctic\n",
    "\n",
    "Used LiMW to get the present day area - basaltic polygons corresponding to the HALIP."
   ]
  },
  {
   "cell_type": "code",
   "execution_count": 21,
   "metadata": {},
   "outputs": [],
   "source": [
    "original_HALIP = original[original['AGE_TEXT']=='120-90 Ma']\n",
    "present_HALIP = pd.read_csv('../Data/HALIP_extent.csv')"
   ]
  },
  {
   "cell_type": "code",
   "execution_count": 22,
   "metadata": {},
   "outputs": [],
   "source": [
    "summary.loc['HALIP'] = \\\n",
    "    pd.Series({'name':'High Arctic',\n",
    "               'type':'basaltic',\n",
    "               'age':95,\n",
    "               'age ref.':'Kingsbury et al. (2018)',\n",
    "               'original area km2':np.sum(original_HALIP['area_km2']),\n",
    "               'present area km2':np.sum(present_HALIP['area_km2']),\n",
    "               'present area ref.':'Moosdorf and Hartmann (2015)',\n",
    "               'present/original':np.sum(present_HALIP['area_km2']) / np.sum(original_HALIP['area_km2']),\n",
    "               'buried':'no'})"
   ]
  },
  {
   "cell_type": "markdown",
   "metadata": {},
   "source": [
    "### Whitsunday\n",
    "\n",
    "Not pulling present day area since silicic."
   ]
  },
  {
   "cell_type": "code",
   "execution_count": 23,
   "metadata": {},
   "outputs": [],
   "source": [
    "original_Whitsunday = original[original['AGE_TEXT']=='120-105']"
   ]
  },
  {
   "cell_type": "code",
   "execution_count": 24,
   "metadata": {},
   "outputs": [],
   "source": [
    "summary.loc['Whitsunday'] = \\\n",
    "    pd.Series({'name':'Whitsunday',\n",
    "               'type':'silicic',\n",
    "               'age':120,\n",
    "               'age ref.':'Bryan et al. (2000)',\n",
    "               'original area km2':np.sum(original_Whitsunday['area_km2']),\n",
    "               'present area km2':np.nan,\n",
    "               'present area ref.':'n/a',\n",
    "               'present/original':np.nan,\n",
    "               'buried':'no'})"
   ]
  },
  {
   "cell_type": "markdown",
   "metadata": {},
   "source": [
    "### Maud Rise\n",
    "\n",
    "Does not intersect the CEED6 polygons."
   ]
  },
  {
   "cell_type": "markdown",
   "metadata": {},
   "source": [
    "### Comei\n",
    "\n",
    "Original area manually georeferenced from Ernst et al. (2017).\n",
    "\n",
    "No current compilation of present day exposure."
   ]
  },
  {
   "cell_type": "code",
   "execution_count": 25,
   "metadata": {},
   "outputs": [],
   "source": [
    "original_Comei = original[original['NAME_EVENT']=='Comei']"
   ]
  },
  {
   "cell_type": "code",
   "execution_count": 26,
   "metadata": {},
   "outputs": [],
   "source": [
    "summary.loc['Comei'] = \\\n",
    "    pd.Series({'name':'Comei',\n",
    "               'type':'basaltic',\n",
    "               'age':132,\n",
    "               'age ref.':'Zhu et al. (2009)',\n",
    "               'original area km2':np.sum(original_Comei['area_km2']),\n",
    "               'present area km2':np.nan,\n",
    "               'present area ref.':'n/a',\n",
    "               'present/original':np.nan,\n",
    "               'buried':'no'})"
   ]
  },
  {
   "cell_type": "markdown",
   "metadata": {},
   "source": [
    "### Bunbury\n",
    "\n",
    "Original area manually georeferenced from Ernst et al. (2017)."
   ]
  },
  {
   "cell_type": "code",
   "execution_count": 27,
   "metadata": {},
   "outputs": [],
   "source": [
    "original_Bunbury = original[original['NAME_EVENT']=='Bunbury']\n",
    "present_Bunbury = present[(present['X_NAME_EVE']=='Bunbury')&(present['X_NAME_UNI']=='Bunbury Basalt')]"
   ]
  },
  {
   "cell_type": "code",
   "execution_count": 28,
   "metadata": {},
   "outputs": [],
   "source": [
    "summary.loc['Bunbury'] = \\\n",
    "    pd.Series({'name':'Bunbury',\n",
    "               'type':'basaltic',\n",
    "               'age':132,\n",
    "               'age ref.':'Zhu et al. (2009)',\n",
    "               'original area km2':np.sum(original_Bunbury['area_km2']),\n",
    "               'present area km2':np.sum(present_Bunbury['area_km2']),\n",
    "               'present area ref.':'???',\n",
    "               'present/original':np.sum(present_Bunbury['area_km2']) / np.sum(original_Bunbury['area_km2']),\n",
    "               'buried':'no'})"
   ]
  },
  {
   "cell_type": "markdown",
   "metadata": {},
   "source": [
    "### EQUAMP"
   ]
  },
  {
   "cell_type": "code",
   "execution_count": 29,
   "metadata": {},
   "outputs": [],
   "source": [
    "original_EQUAMP = original[original['NAME_EVENT']=='EQUAMP (Equatorial Atlantic Magmatic Province)']\n",
    "present_EQUAMP = present[(present['X_NAME_EVE']=='130 Ma (EQUAMP)')|(present['X_NAME_EVE']=='EQUAMP (Equatorial Atlantic Magmatic Province)')]"
   ]
  },
  {
   "cell_type": "code",
   "execution_count": 30,
   "metadata": {},
   "outputs": [],
   "source": [
    "summary.loc['EQUAMP'] = \\\n",
    "    pd.Series({'name':'Equatorial Atlantic Magmatic Province',\n",
    "               'type':'basaltic',\n",
    "               'age':131,\n",
    "               'age ref.':'Hollanda et al. (2016)',\n",
    "               'original area km2':np.sum(original_EQUAMP['area_km2']),\n",
    "               'present area km2':np.sum(present_EQUAMP['area_km2']),\n",
    "               'present area ref.':'Hollanda et al. (2016)',\n",
    "               'present/original':np.sum(present_EQUAMP['area_km2']) / np.sum(original_EQUAMP['area_km2']),\n",
    "               'buried':'no'})"
   ]
  },
  {
   "cell_type": "markdown",
   "metadata": {},
   "source": [
    "### Parana-Etendeka"
   ]
  },
  {
   "cell_type": "code",
   "execution_count": 31,
   "metadata": {},
   "outputs": [],
   "source": [
    "original_Parana_Etendeka = original[(original['AGE']==134)&(original['NAME_EVENT']!='EQUAMP (Equatorial Atlantic Magmatic Province)')]\n",
    "present_Parana = present[(present['X_BARCDAGE']==134)&(present['X_NAME_EVE']!='130 Ma (EQUAMP)')&(present['X_NAME_EVE']!='EQUAMP (Equatorial Atlantic Magmatic Province)')]\n",
    "present_Etendeka = present[present['X_BARCDAGE']==138]"
   ]
  },
  {
   "cell_type": "code",
   "execution_count": 32,
   "metadata": {},
   "outputs": [],
   "source": [
    "summary.loc['Parana_Etendeka'] = \\\n",
    "    pd.Series({'name':'Parana-Etendeka',\n",
    "               'type':'basaltic',\n",
    "               'age':135,\n",
    "               'age ref.':'Florisbal et al. (2014)',\n",
    "               'original area km2':np.sum(original_Parana_Etendeka['area_km2']),\n",
    "               'present area km2':np.sum(present_Parana['area_km2'])+np.sum(present_Etendeka['area_km2']),\n",
    "               'present area ref.':'Coffin et al. (2016), Teixeira and Albrez (2017)',\n",
    "               'present/original':(np.sum(present_Parana['area_km2'])+np.sum(present_Etendeka['area_km2'])) / np.sum(original_Parana_Etendeka['area_km2']),\n",
    "               'buried':'partial'})"
   ]
  },
  {
   "cell_type": "markdown",
   "metadata": {},
   "source": [
    "### Trap\n",
    "\n",
    "The only exposure of the Trap are dikes (no flood basalts)."
   ]
  },
  {
   "cell_type": "code",
   "execution_count": 33,
   "metadata": {},
   "outputs": [],
   "source": [
    "original_Trap = original[original['NAME_EVENT']=='Trap']"
   ]
  },
  {
   "cell_type": "code",
   "execution_count": 34,
   "metadata": {},
   "outputs": [],
   "source": [
    "summary.loc['Trap'] = \\\n",
    "    pd.Series({'name':'Trap',\n",
    "               'type':'basaltic',\n",
    "               'age':140,\n",
    "               'age ref.':'Ernst et al. (2001)',\n",
    "               'original area km2':np.sum(original_Trap['area_km2']),\n",
    "               'present area km2':0,\n",
    "               'present area ref.':'Ernst and Buchan (2001)',\n",
    "               'present/original':0,\n",
    "               'buried':'no'})"
   ]
  },
  {
   "cell_type": "markdown",
   "metadata": {},
   "source": [
    "### Sorachi\n",
    "\n",
    "Not included since it is an accreted oceanic plateau."
   ]
  },
  {
   "cell_type": "markdown",
   "metadata": {},
   "source": [
    "### NW Australia Margin\n",
    "\n",
    "There are offshore intrusions and basalts, but no current exposure on land."
   ]
  },
  {
   "cell_type": "code",
   "execution_count": 35,
   "metadata": {},
   "outputs": [],
   "source": [
    "original_NW_Aus = original[original['NAME_EVENT']=='NW Australian Margin']"
   ]
  },
  {
   "cell_type": "code",
   "execution_count": 36,
   "metadata": {},
   "outputs": [],
   "source": [
    "summary.loc['NW_Aus'] = \\\n",
    "    pd.Series({'name':'NW Australia Margin',\n",
    "               'type':'basaltic',\n",
    "               'age':160,\n",
    "               'age ref.':'',\n",
    "               'original area km2':np.sum(original_NW_Aus['area_km2']),\n",
    "               'present area km2':0,\n",
    "               'present area ref.':'Coffin et al. (2006)',\n",
    "               'present/original':0,\n",
    "               'buried':'yes'})"
   ]
  },
  {
   "cell_type": "markdown",
   "metadata": {},
   "source": [
    "### Chon Aike\n",
    "\n",
    "Original area manually georeferenced from Ernst et al. (2017).\n",
    "\n",
    "No current compilation of present day exposure."
   ]
  },
  {
   "cell_type": "code",
   "execution_count": 37,
   "metadata": {},
   "outputs": [],
   "source": [
    "original_Chon_Aike = original[original['NAME_EVENT']=='Chon Aike']"
   ]
  },
  {
   "cell_type": "code",
   "execution_count": 38,
   "metadata": {},
   "outputs": [],
   "source": [
    "summary.loc['Chon_Aike'] = \\\n",
    "    pd.Series({'name':'Chon Aike',\n",
    "               'type':'silicic',\n",
    "               'age':183,\n",
    "               'age ref.':'Pankhurst et al. (1998)',\n",
    "               'original area km2':np.sum(original_Chon_Aike['area_km2']),\n",
    "               'present area km2':np.nan,\n",
    "               'present area ref.':'n/a',\n",
    "               'present/original':np.nan,\n",
    "               'buried':'no'})"
   ]
  },
  {
   "cell_type": "markdown",
   "metadata": {},
   "source": [
    "### Karoo\n",
    "\n",
    "Present day area includes both volcanics and sills."
   ]
  },
  {
   "cell_type": "code",
   "execution_count": 39,
   "metadata": {},
   "outputs": [],
   "source": [
    "original_Karoo = original[original['NAME_EVENT']=='Karoo']\n",
    "present_Karoo = present[present['REF_LINE']=='from ArcGIS compilation produced under LIPs Project contract to M. de Kock']\n",
    "present_Karoo = present_Karoo[present_Karoo['X_NAME_EVE']=='Karoo LIP']"
   ]
  },
  {
   "cell_type": "code",
   "execution_count": 40,
   "metadata": {},
   "outputs": [],
   "source": [
    "summary.loc['Karoo'] = \\\n",
    "    pd.Series({'name':'Karoo',\n",
    "               'type':'basaltic',\n",
    "               'age':183,\n",
    "               'age ref.':'Burgess et al. (2015)',\n",
    "               'original area km2':np.sum(original_Karoo['area_km2']),\n",
    "               'present area km2':np.sum(present_Karoo['area_km2']),\n",
    "               'present area ref.':'de Kock compilation',\n",
    "               'present/original':np.sum(present_Karoo['area_km2']) / np.sum(original_Karoo['area_km2']),\n",
    "               'buried':'no'})"
   ]
  },
  {
   "cell_type": "markdown",
   "metadata": {},
   "source": [
    "### Ferrar\n",
    "\n",
    "No current compilation of present day exposure."
   ]
  },
  {
   "cell_type": "code",
   "execution_count": 41,
   "metadata": {},
   "outputs": [],
   "source": [
    "original_Ferrar = original[original['NAME_EVENT']=='Ferrar']"
   ]
  },
  {
   "cell_type": "code",
   "execution_count": 42,
   "metadata": {},
   "outputs": [],
   "source": [
    "summary.loc['Ferrar'] = \\\n",
    "    pd.Series({'name':'Ferrar',\n",
    "               'type':'basaltic',\n",
    "               'age':183,\n",
    "               'age ref.':'Burgess et al. (2015)',\n",
    "               'original area km2':np.sum(original_Ferrar['area_km2']),\n",
    "               'present area km2':np.nan,\n",
    "               'present area ref.':'n/a',\n",
    "               'present/original':np.nan,\n",
    "               'buried':'no'})"
   ]
  },
  {
   "cell_type": "markdown",
   "metadata": {},
   "source": [
    "### Angayucham\n",
    "\n",
    "Not included since it is an accreted oceanic plateau."
   ]
  },
  {
   "cell_type": "markdown",
   "metadata": {},
   "source": [
    "### Wrangellia\n",
    "\n",
    "Not included since it is an accreted oceanic plateau."
   ]
  },
  {
   "cell_type": "markdown",
   "metadata": {},
   "source": [
    "### CAMP\n",
    "\n",
    "Present day extent includes lavas and sills."
   ]
  },
  {
   "cell_type": "code",
   "execution_count": 43,
   "metadata": {},
   "outputs": [],
   "source": [
    "original_CAMP = original[original['AGE']==201]\n",
    "present_CAMP = present[present['REF_LINE']=='from ArcGIS CAMP compilation of A. Marzoli & L. Parisio produced under contract to LIPs-Reconstruction Project']"
   ]
  },
  {
   "cell_type": "code",
   "execution_count": 44,
   "metadata": {},
   "outputs": [],
   "source": [
    "summary.loc['CAMP'] = \\\n",
    "    pd.Series({'name':'CAMP',\n",
    "               'type':'basaltic',\n",
    "               'age':201,\n",
    "               'age ref.':'Blackburn et al. (2013)',\n",
    "               'original area km2':np.sum(original_CAMP['area_km2']),\n",
    "               'present area km2':np.sum(present_CAMP['area_km2']),\n",
    "               'present area ref.':'Marzoli and Parisio compilation',\n",
    "               'present/original':np.sum(present_CAMP['area_km2']) / np.sum(original_CAMP['area_km2']),\n",
    "               'buried':'partial'})"
   ]
  },
  {
   "cell_type": "markdown",
   "metadata": {},
   "source": [
    "### Siberia\n",
    "\n",
    "We are using the PLATES compilation for now, but we could perhaps do a better job using LiMW."
   ]
  },
  {
   "cell_type": "code",
   "execution_count": 45,
   "metadata": {},
   "outputs": [],
   "source": [
    "original_Siberia = original[original['NAME_EVENT']=='Siberian Trap LIP']\n",
    "present_Siberia = present[present['X_NAME_EVE']=='Siberian Trap LIP']\n",
    "present_Siberia = present_Siberia[present_Siberia['REF_LINE']=='http://www.ig.utexas.edu/research/projects/plates/data/LIPS/Data/About.Data   M.F. Coffin, U. Texas']"
   ]
  },
  {
   "cell_type": "code",
   "execution_count": 46,
   "metadata": {},
   "outputs": [],
   "source": [
    "summary.loc['Siberia'] = \\\n",
    "    pd.Series({'name':'Siberia',\n",
    "               'type':'basaltic',\n",
    "               'age':252,\n",
    "               'age ref.':'Burgess and Bowring (2015)',\n",
    "               'original area km2':np.sum(original_Siberia['area_km2']),\n",
    "               'present area km2':np.sum(present_Siberia['area_km2']),\n",
    "               'present area ref.':'Coffin et al. (2006)',\n",
    "               'present/original':np.sum(present_Siberia['area_km2']) / np.sum(original_Siberia['area_km2']),\n",
    "               'buried':'no'})"
   ]
  },
  {
   "cell_type": "markdown",
   "metadata": {},
   "source": [
    "### Emeishan\n",
    "\n",
    "Present day polygons are slightly low resolution, which may be artificially increasing their area."
   ]
  },
  {
   "cell_type": "code",
   "execution_count": 47,
   "metadata": {},
   "outputs": [],
   "source": [
    "original_Emeishan = original[original['NAME_EVENT']=='Emeishan']\n",
    "present_Emeishan = present[present['X_LIPNAME']=='Emeishan basaltic volcanics']"
   ]
  },
  {
   "cell_type": "code",
   "execution_count": 48,
   "metadata": {},
   "outputs": [],
   "source": [
    "summary.loc['Emeishan'] = \\\n",
    "    pd.Series({'name':'Emeishan',\n",
    "               'type':'basaltic',\n",
    "               'age':259,\n",
    "               'age ref.':'Zhou et al. (2002)',\n",
    "               'original area km2':np.sum(original_Emeishan['area_km2']),\n",
    "               'present area km2':np.sum(present_Emeishan['area_km2']),\n",
    "               'present area ref.':'Coffin et al. (2006)',\n",
    "               'present/original':np.sum(present_Emeishan['area_km2']) / np.sum(original_Emeishan['area_km2']),\n",
    "               'buried':'no'})"
   ]
  },
  {
   "cell_type": "markdown",
   "metadata": {},
   "source": [
    "### Tarim\n",
    "\n",
    "No current compilation of present day exposure."
   ]
  },
  {
   "cell_type": "code",
   "execution_count": 49,
   "metadata": {},
   "outputs": [],
   "source": [
    "original_Tarim = original[(original['NAME_EVENT']=='Tarim (possibly incorrectly located)')|(original['NAME_EVENT']=='Tarim')]"
   ]
  },
  {
   "cell_type": "code",
   "execution_count": 50,
   "metadata": {},
   "outputs": [],
   "source": [
    "summary.loc['Tarim'] = \\\n",
    "    pd.Series({'name':'Tarim',\n",
    "               'type':'basaltic',\n",
    "               'age':290,\n",
    "               'age ref.':'Xu et al. (2014)',\n",
    "               'original area km2':np.sum(original_Tarim['area_km2']),\n",
    "               'present area km2':np.nan,\n",
    "               'present area ref.':'n/a',\n",
    "               'present/original':np.nan,\n",
    "               'buried':'no'})"
   ]
  },
  {
   "cell_type": "markdown",
   "metadata": {},
   "source": [
    "### Panjal-Qiangtang\n",
    "\n",
    "No current compilation of present day exposure."
   ]
  },
  {
   "cell_type": "code",
   "execution_count": 51,
   "metadata": {},
   "outputs": [],
   "source": [
    "original_Panjal_Qiangtang = original[(original['NAME_EVENT']=='Panjal')|(original['NAME_EVENT']=='South Qiangtang')]"
   ]
  },
  {
   "cell_type": "code",
   "execution_count": 52,
   "metadata": {},
   "outputs": [],
   "source": [
    "summary.loc['Panjal_Qiangtang'] = \\\n",
    "    pd.Series({'name':'Panjal-Qiangtang',\n",
    "               'type':'basaltic',\n",
    "               'age':283,\n",
    "               'age ref.':'Zhai et al. (2013)',\n",
    "               'original area km2':np.sum(original_Panjal_Qiangtang['area_km2']),\n",
    "               'present area km2':np.nan,\n",
    "               'present area ref.':'n/a',\n",
    "               'present/original':np.nan,\n",
    "               'buried':'no'})"
   ]
  },
  {
   "cell_type": "markdown",
   "metadata": {},
   "source": [
    "### Kennedy-Conners-Auburn\n",
    "\n",
    "Original area manually georeferenced from Ernst et al. (2017).\n",
    "\n",
    "No current compilation of present day exposure."
   ]
  },
  {
   "cell_type": "code",
   "execution_count": 53,
   "metadata": {},
   "outputs": [],
   "source": [
    "original_KNA = original[original['NAME_EVENT']=='Kennedy-Conners-Auburn']"
   ]
  },
  {
   "cell_type": "code",
   "execution_count": 54,
   "metadata": {},
   "outputs": [],
   "source": [
    "summary.loc['KNA'] = \\\n",
    "    pd.Series({'name':'Kennedy-Conners-Auburn',\n",
    "               'type':'silicic',\n",
    "               'age':305,\n",
    "               'age ref.':'Bryan and Ferrari (2013)',\n",
    "               'original area km2':np.sum(original_KNA['area_km2']),\n",
    "               'present area km2':np.nan,\n",
    "               'present area ref.':'n/a',\n",
    "               'present/original':np.nan,\n",
    "               'buried':'no'})"
   ]
  },
  {
   "cell_type": "markdown",
   "metadata": {},
   "source": [
    "### Magdalen\n",
    "\n",
    "No current compilation of present day exposure."
   ]
  },
  {
   "cell_type": "code",
   "execution_count": 55,
   "metadata": {},
   "outputs": [],
   "source": [
    "original_Magdalen = original[original['NAME_EVENT']=='Magdalen-Maritimes']"
   ]
  },
  {
   "cell_type": "code",
   "execution_count": 56,
   "metadata": {},
   "outputs": [],
   "source": [
    "summary.loc['Magdalen'] = \\\n",
    "    pd.Series({'name':'Magdalen',\n",
    "               'type':'basaltic',\n",
    "               'age':360,\n",
    "               'age ref.':'Murphy et al. (1999)',\n",
    "               'original area km2':np.sum(original_Magdalen['area_km2']),\n",
    "               'present area km2':np.nan,\n",
    "               'present area ref.':'n/a',\n",
    "               'present/original':np.nan,\n",
    "               'buried':'no'})"
   ]
  },
  {
   "cell_type": "markdown",
   "metadata": {},
   "source": [
    "### Vilyui\n",
    "\n",
    "No current compilation of present day exposure."
   ]
  },
  {
   "cell_type": "code",
   "execution_count": 57,
   "metadata": {},
   "outputs": [],
   "source": [
    "original_Vilyui = original[original['NAME_EVENT']=='Yakutsk-Vilyui']"
   ]
  },
  {
   "cell_type": "code",
   "execution_count": 58,
   "metadata": {},
   "outputs": [],
   "source": [
    "summary.loc['Vilyui'] = \\\n",
    "    pd.Series({'name':'Vilyui',\n",
    "               'type':'basaltic',\n",
    "               'age':374,\n",
    "               'age ref.':'Renne et al. (2010)',\n",
    "               'original area km2':np.sum(original_Vilyui['area_km2']),\n",
    "               'present area km2':np.nan,\n",
    "               'present area ref.':'n/a',\n",
    "               'present/original':np.nan,\n",
    "               'buried':'no'})"
   ]
  },
  {
   "cell_type": "markdown",
   "metadata": {},
   "source": [
    "### Kola-Dnieper\n",
    "\n",
    "No current compilation of present day exposure."
   ]
  },
  {
   "cell_type": "code",
   "execution_count": 59,
   "metadata": {},
   "outputs": [],
   "source": [
    "original_Kola_Dnieper = original[original['NAME_EVENT']=='Kola-Dnieper [East European craton]']"
   ]
  },
  {
   "cell_type": "code",
   "execution_count": 60,
   "metadata": {},
   "outputs": [],
   "source": [
    "summary.loc['Kola_Dnieper'] = \\\n",
    "    pd.Series({'name':'Kola-Dnieper',\n",
    "               'type':'basaltic',\n",
    "               'age':380,\n",
    "               'age ref.':'Arzamastsev and Wu (2014)',\n",
    "               'original area km2':np.sum(original_Kola_Dnieper['area_km2']),\n",
    "               'present area km2':np.nan,\n",
    "               'present area ref.':'n/a',\n",
    "               'present/original':np.nan,\n",
    "               'buried':'no'})"
   ]
  },
  {
   "cell_type": "markdown",
   "metadata": {},
   "source": [
    "### Suordakh\n",
    "\n",
    "Original area manually georeferenced from Ernst et al. (2017).\n",
    "\n",
    "No current compilation of present day exposure."
   ]
  },
  {
   "cell_type": "code",
   "execution_count": 61,
   "metadata": {},
   "outputs": [],
   "source": [
    "original_Suordakh = original[original['NAME_EVENT']=='Suordakh']"
   ]
  },
  {
   "cell_type": "code",
   "execution_count": 62,
   "metadata": {},
   "outputs": [],
   "source": [
    "summary.loc['Suordakh'] = \\\n",
    "    pd.Series({'name':'Suordakh',\n",
    "               'type':'basaltic',\n",
    "               'age':450,\n",
    "               'age ref.':'Khudoley et al. (2013)',\n",
    "               'original area km2':np.sum(original_Suordakh['area_km2']),\n",
    "               'present area km2':np.nan,\n",
    "               'present area ref.':'n/a',\n",
    "               'present/original':np.nan,\n",
    "               'buried':'no'})"
   ]
  },
  {
   "cell_type": "markdown",
   "metadata": {},
   "source": [
    "### Kalkarindji\n",
    "\n",
    "Patchy/incomplete current compilation of present day exposure."
   ]
  },
  {
   "cell_type": "code",
   "execution_count": 63,
   "metadata": {},
   "outputs": [],
   "source": [
    "original_Kalkarindji = original[original['NAME_EVENT']=='Kalkarindji']\n",
    "present_Kalkarindji = present[present['X_NAME_EVE']=='Kalkarindji']"
   ]
  },
  {
   "cell_type": "code",
   "execution_count": 64,
   "metadata": {},
   "outputs": [],
   "source": [
    "summary.loc['Kalkarindji'] = \\\n",
    "    pd.Series({'name':'Kalkarindji',\n",
    "               'type':'basaltic',\n",
    "               'age':511,\n",
    "               'age ref.':'Jourdan et al. (2014)',\n",
    "               'original area km2':np.sum(original_Kalkarindji['area_km2']),\n",
    "               'present area km2':np.sum(present_Kalkarindji['area_km2']),\n",
    "               'present area ref.':'???',\n",
    "               'present/original':np.sum(present_Kalkarindji['area_km2']) / np.sum(original_Kalkarindji['area_km2']),\n",
    "               'buried':'no'})"
   ]
  },
  {
   "cell_type": "markdown",
   "metadata": {},
   "source": [
    "### Wichita\n",
    "\n",
    "Present day extent not examined."
   ]
  },
  {
   "cell_type": "code",
   "execution_count": 65,
   "metadata": {},
   "outputs": [],
   "source": [
    "original_Wichita = original[original['NAME_EVENT']=='Wichita Mountains']"
   ]
  },
  {
   "cell_type": "code",
   "execution_count": 66,
   "metadata": {},
   "outputs": [],
   "source": [
    "summary.loc['Wichita'] = \\\n",
    "    pd.Series({'name':'Wichita',\n",
    "               'type':'basaltic',\n",
    "               'age':535,\n",
    "               'age ref.':'Hanson et al. (2013)',\n",
    "               'original area km2':np.sum(original_Wichita['area_km2']),\n",
    "               'present area km2':np.nan,\n",
    "               'present area ref.':'n/a',\n",
    "               'present/original':np.nan,\n",
    "               'buried':'yes'})"
   ]
  },
  {
   "cell_type": "markdown",
   "metadata": {},
   "source": [
    "### Ouarzazate\n",
    "\n",
    "Present day extent not examined."
   ]
  },
  {
   "cell_type": "code",
   "execution_count": 67,
   "metadata": {},
   "outputs": [],
   "source": [
    "original_Ouarzazate = original[original['NAME_EVENT']=='Ouarzazate']"
   ]
  },
  {
   "cell_type": "code",
   "execution_count": 68,
   "metadata": {},
   "outputs": [],
   "source": [
    "summary.loc['Ouarzazate'] = \\\n",
    "    pd.Series({'name':'Ouarzazate',\n",
    "               'type':'silicic',\n",
    "               'age':570,\n",
    "               'age ref.':'Thomas et al. (2002)',\n",
    "               'original area km2':np.sum(original_Ouarzazate['area_km2']),\n",
    "               'present area km2':np.nan,\n",
    "               'present area ref.':'n/a',\n",
    "               'present/original':np.nan,\n",
    "               'buried':'no'})"
   ]
  },
  {
   "cell_type": "markdown",
   "metadata": {},
   "source": [
    "### CIMP\n",
    "\n",
    "Present day extent not examined.\n",
    "\n",
    "Consists of several parts with different ages."
   ]
  },
  {
   "cell_type": "code",
   "execution_count": 69,
   "metadata": {},
   "outputs": [],
   "source": [
    "original_CIMP_A = original[(original['NAME_EVENT']=='Catoctin')|\n",
    "                           (original['NAME_EVENT']=='Sept-Iles - Catoctin (Late Central-Iapetus)')|\n",
    "                           (original['NAME_EVENT']=='Grenville-Rideau (Middle Central-Iapetus)')]"
   ]
  },
  {
   "cell_type": "code",
   "execution_count": 70,
   "metadata": {},
   "outputs": [],
   "source": [
    "summary.loc['CIMP_A'] = \\\n",
    "    pd.Series({'name':'CIMP - A',\n",
    "               'type':'basaltic',\n",
    "               'age':580,\n",
    "               'age ref.':'Ernst and Bell (2010)',\n",
    "               'original area km2':np.sum(original_CIMP_A['area_km2']),\n",
    "               'present area km2':np.nan,\n",
    "               'present area ref.':'n/a',\n",
    "               'present/original':np.nan,\n",
    "               'buried':'no'})"
   ]
  },
  {
   "cell_type": "code",
   "execution_count": 71,
   "metadata": {},
   "outputs": [],
   "source": [
    "original_CIMP_B = original[(original['NAME_EVENT']=='Long Range (Early Central-Iapetus)')|\n",
    "                           (original['NAME_EVENT']=='Baltoscandian - Egersund')]"
   ]
  },
  {
   "cell_type": "code",
   "execution_count": 72,
   "metadata": {},
   "outputs": [],
   "source": [
    "summary.loc['CIMP_B'] = \\\n",
    "    pd.Series({'name':'CIMP - B',\n",
    "               'type':'basaltic',\n",
    "               'age':615,\n",
    "               'age ref.':'Ernst and Bell (2010)',\n",
    "               'original area km2':np.sum(original_CIMP_B['area_km2']),\n",
    "               'present area km2':np.nan,\n",
    "               'present area ref.':'n/a',\n",
    "               'present/original':np.nan,\n",
    "               'buried':'no'})"
   ]
  },
  {
   "cell_type": "markdown",
   "metadata": {},
   "source": [
    "### Franklin\n",
    "\n",
    "Could be filtered by \"DESCRIPT\" field to be volcanics - including sills and volcanics right now"
   ]
  },
  {
   "cell_type": "code",
   "execution_count": 73,
   "metadata": {},
   "outputs": [],
   "source": [
    "original_Franklin = original[original['NAME_EVENT']=='Franklin']\n",
    "present_Franklin = present[present['X_NAME_EVE']=='Franklin']"
   ]
  },
  {
   "cell_type": "code",
   "execution_count": 74,
   "metadata": {},
   "outputs": [],
   "source": [
    "summary.loc['Franklin'] = \\\n",
    "    pd.Series({'name':'Franklin',\n",
    "               'type':'basaltic',\n",
    "               'age':720,\n",
    "               'age ref.':'Denyszyn et al. (2009)',\n",
    "               'original area km2':np.sum(original_Franklin['area_km2']),\n",
    "               'present area km2':np.sum(present_Franklin['area_km2']),\n",
    "               'present area ref.':'Buchan and Ernst (2004)',\n",
    "               'present/original':np.sum(present_Franklin['area_km2']) / np.sum(original_Franklin['area_km2']),\n",
    "               'buried':'no'})"
   ]
  },
  {
   "cell_type": "markdown",
   "metadata": {},
   "source": [
    "### Irkutsk"
   ]
  },
  {
   "cell_type": "raw",
   "metadata": {},
   "source": [
    "original_Irkutsk = original[original['NAME_EVENT']=='Irkutsk']"
   ]
  },
  {
   "cell_type": "raw",
   "metadata": {},
   "source": [
    "summary.loc['Irkutsk'] = \\\n",
    "    pd.Series({'name':'Irkutsk',\n",
    "               'type':'basaltic',\n",
    "               'age':724,\n",
    "               'age ref.':'Ernst et al. (2016)',\n",
    "               'original area km2':np.sum(original_Irkutsk['area_km2']),\n",
    "               'present area km2':np.nan,\n",
    "               'present area ref.':'n/a',\n",
    "               'present/original':np.nan,\n",
    "               'buried':'no'})"
   ]
  },
  {
   "cell_type": "markdown",
   "metadata": {},
   "source": [
    "## Analysis"
   ]
  },
  {
   "cell_type": "code",
   "execution_count": 75,
   "metadata": {},
   "outputs": [
    {
     "data": {
      "text/html": [
       "<div>\n",
       "<style scoped>\n",
       "    .dataframe tbody tr th:only-of-type {\n",
       "        vertical-align: middle;\n",
       "    }\n",
       "\n",
       "    .dataframe tbody tr th {\n",
       "        vertical-align: top;\n",
       "    }\n",
       "\n",
       "    .dataframe thead th {\n",
       "        text-align: right;\n",
       "    }\n",
       "</style>\n",
       "<table border=\"1\" class=\"dataframe\">\n",
       "  <thead>\n",
       "    <tr style=\"text-align: right;\">\n",
       "      <th></th>\n",
       "      <th>name</th>\n",
       "      <th>type</th>\n",
       "      <th>age</th>\n",
       "      <th>age ref.</th>\n",
       "      <th>original area km2</th>\n",
       "      <th>present area km2</th>\n",
       "      <th>present area ref.</th>\n",
       "      <th>present/original</th>\n",
       "      <th>buried</th>\n",
       "    </tr>\n",
       "  </thead>\n",
       "  <tbody>\n",
       "    <tr>\n",
       "      <th>CRB</th>\n",
       "      <td>Columbia River</td>\n",
       "      <td>basaltic</td>\n",
       "      <td>16.3</td>\n",
       "      <td>Kasbohm and Schoene (2018)</td>\n",
       "      <td>6.764210e+05</td>\n",
       "      <td>375545</td>\n",
       "      <td>Buchan and Ernst (2004)</td>\n",
       "      <td>0.555194</td>\n",
       "      <td>no</td>\n",
       "    </tr>\n",
       "    <tr>\n",
       "      <th>Afar</th>\n",
       "      <td>Afar</td>\n",
       "      <td>basaltic</td>\n",
       "      <td>30.0</td>\n",
       "      <td>Courtillot and Renne (2003)</td>\n",
       "      <td>2.046999e+06</td>\n",
       "      <td>631289</td>\n",
       "      <td>Coffin et al. (2006)</td>\n",
       "      <td>0.308397</td>\n",
       "      <td>partial</td>\n",
       "    </tr>\n",
       "    <tr>\n",
       "      <th>SMO</th>\n",
       "      <td>Sierra Madre Occidental</td>\n",
       "      <td>silicic/bimodal</td>\n",
       "      <td>34.0</td>\n",
       "      <td>Bryan and Ferrari (2013)</td>\n",
       "      <td>0.000000e+00</td>\n",
       "      <td>619622</td>\n",
       "      <td>Bryan and Ferrari (2013)</td>\n",
       "      <td>inf</td>\n",
       "      <td>no</td>\n",
       "    </tr>\n",
       "    <tr>\n",
       "      <th>NAIP</th>\n",
       "      <td>North Atlantic</td>\n",
       "      <td>basaltic</td>\n",
       "      <td>62.0</td>\n",
       "      <td>Larsen et al. (2016)</td>\n",
       "      <td>1.071541e+06</td>\n",
       "      <td>291288</td>\n",
       "      <td>Buchan and Ernst (2004), Coffin et al. (2006)</td>\n",
       "      <td>0.271840</td>\n",
       "      <td>partial</td>\n",
       "    </tr>\n",
       "    <tr>\n",
       "      <th>Deccan</th>\n",
       "      <td>Deccan</td>\n",
       "      <td>basaltic</td>\n",
       "      <td>66.0</td>\n",
       "      <td>Schoene (2015)</td>\n",
       "      <td>8.311900e+05</td>\n",
       "      <td>561434</td>\n",
       "      <td>Coffin et al. (2006)</td>\n",
       "      <td>0.675458</td>\n",
       "      <td>no</td>\n",
       "    </tr>\n",
       "    <tr>\n",
       "      <th>Seychelles</th>\n",
       "      <td>Seychelles</td>\n",
       "      <td>basaltic</td>\n",
       "      <td>66.0</td>\n",
       "      <td>Schoene (2015)</td>\n",
       "      <td>4.561983e+05</td>\n",
       "      <td>0</td>\n",
       "      <td>Coffin et al. (2006)</td>\n",
       "      <td>0.000000</td>\n",
       "      <td>yes</td>\n",
       "    </tr>\n",
       "    <tr>\n",
       "      <th>Madagascar</th>\n",
       "      <td>Madagascar</td>\n",
       "      <td>basaltic</td>\n",
       "      <td>90.0</td>\n",
       "      <td>Cucciniello et al. (2010)</td>\n",
       "      <td>6.270722e+05</td>\n",
       "      <td>31289</td>\n",
       "      <td>Coffin et al. (2006)</td>\n",
       "      <td>0.049897</td>\n",
       "      <td>no</td>\n",
       "    </tr>\n",
       "    <tr>\n",
       "      <th>Carribean_Columbian</th>\n",
       "      <td>Carribean-Columbian</td>\n",
       "      <td>basaltic</td>\n",
       "      <td>94.0</td>\n",
       "      <td>Loewen et al. (2013)</td>\n",
       "      <td>7.122517e+05</td>\n",
       "      <td>126149</td>\n",
       "      <td>Coffin et al. (2006)</td>\n",
       "      <td>0.177113</td>\n",
       "      <td>no</td>\n",
       "    </tr>\n",
       "    <tr>\n",
       "      <th>HALIP</th>\n",
       "      <td>High Arctic</td>\n",
       "      <td>basaltic</td>\n",
       "      <td>95.0</td>\n",
       "      <td>Kingsbury et al. (2018)</td>\n",
       "      <td>3.597497e+06</td>\n",
       "      <td>149571</td>\n",
       "      <td>Moosdorf and Hartmann (2015)</td>\n",
       "      <td>0.041576</td>\n",
       "      <td>no</td>\n",
       "    </tr>\n",
       "    <tr>\n",
       "      <th>Whitsunday</th>\n",
       "      <td>Whitsunday</td>\n",
       "      <td>silicic</td>\n",
       "      <td>120.0</td>\n",
       "      <td>Bryan et al. (2000)</td>\n",
       "      <td>0.000000e+00</td>\n",
       "      <td>NaN</td>\n",
       "      <td>n/a</td>\n",
       "      <td>NaN</td>\n",
       "      <td>no</td>\n",
       "    </tr>\n",
       "    <tr>\n",
       "      <th>EQUAMP</th>\n",
       "      <td>Equatorial Atlantic Magmatic Province</td>\n",
       "      <td>basaltic</td>\n",
       "      <td>131.0</td>\n",
       "      <td>Hollanda et al. (2016)</td>\n",
       "      <td>6.602910e+05</td>\n",
       "      <td>7908</td>\n",
       "      <td>Hollanda et al. (2016)</td>\n",
       "      <td>0.011977</td>\n",
       "      <td>no</td>\n",
       "    </tr>\n",
       "    <tr>\n",
       "      <th>Comei</th>\n",
       "      <td>Comei</td>\n",
       "      <td>basaltic</td>\n",
       "      <td>132.0</td>\n",
       "      <td>Zhu et al. (2009)</td>\n",
       "      <td>1.054453e+05</td>\n",
       "      <td>NaN</td>\n",
       "      <td>n/a</td>\n",
       "      <td>NaN</td>\n",
       "      <td>no</td>\n",
       "    </tr>\n",
       "    <tr>\n",
       "      <th>Bunbury</th>\n",
       "      <td>Bunbury</td>\n",
       "      <td>basaltic</td>\n",
       "      <td>132.0</td>\n",
       "      <td>Zhu et al. (2009)</td>\n",
       "      <td>3.164966e+04</td>\n",
       "      <td>1636</td>\n",
       "      <td>???</td>\n",
       "      <td>0.051691</td>\n",
       "      <td>no</td>\n",
       "    </tr>\n",
       "    <tr>\n",
       "      <th>Parana_Etendeka</th>\n",
       "      <td>Parana-Etendeka</td>\n",
       "      <td>basaltic</td>\n",
       "      <td>135.0</td>\n",
       "      <td>Florisbal et al. (2014)</td>\n",
       "      <td>3.120779e+06</td>\n",
       "      <td>403542</td>\n",
       "      <td>Coffin et al. (2016), Teixeira and Albrez (2017)</td>\n",
       "      <td>0.129308</td>\n",
       "      <td>partial</td>\n",
       "    </tr>\n",
       "    <tr>\n",
       "      <th>Trap</th>\n",
       "      <td>Trap</td>\n",
       "      <td>basaltic</td>\n",
       "      <td>140.0</td>\n",
       "      <td>Ernst et al. (2001)</td>\n",
       "      <td>2.969846e+04</td>\n",
       "      <td>0</td>\n",
       "      <td>Ernst and Buchan (2001)</td>\n",
       "      <td>0.000000</td>\n",
       "      <td>no</td>\n",
       "    </tr>\n",
       "    <tr>\n",
       "      <th>NW_Aus</th>\n",
       "      <td>NW Australia Margin</td>\n",
       "      <td>basaltic</td>\n",
       "      <td>160.0</td>\n",
       "      <td></td>\n",
       "      <td>6.190713e+05</td>\n",
       "      <td>0</td>\n",
       "      <td>Coffin et al. (2006)</td>\n",
       "      <td>0.000000</td>\n",
       "      <td>yes</td>\n",
       "    </tr>\n",
       "    <tr>\n",
       "      <th>Ferrar</th>\n",
       "      <td>Ferrar</td>\n",
       "      <td>basaltic</td>\n",
       "      <td>183.0</td>\n",
       "      <td>Burgess et al. (2015)</td>\n",
       "      <td>1.788652e+05</td>\n",
       "      <td>NaN</td>\n",
       "      <td>n/a</td>\n",
       "      <td>NaN</td>\n",
       "      <td>no</td>\n",
       "    </tr>\n",
       "    <tr>\n",
       "      <th>Karoo</th>\n",
       "      <td>Karoo</td>\n",
       "      <td>basaltic</td>\n",
       "      <td>183.0</td>\n",
       "      <td>Burgess et al. (2015)</td>\n",
       "      <td>3.206784e+06</td>\n",
       "      <td>149049</td>\n",
       "      <td>de Kock compilation</td>\n",
       "      <td>0.046479</td>\n",
       "      <td>no</td>\n",
       "    </tr>\n",
       "    <tr>\n",
       "      <th>Chon_Aike</th>\n",
       "      <td>Chon Aike</td>\n",
       "      <td>silicic</td>\n",
       "      <td>183.0</td>\n",
       "      <td>Pankhurst et al. (1998)</td>\n",
       "      <td>0.000000e+00</td>\n",
       "      <td>NaN</td>\n",
       "      <td>n/a</td>\n",
       "      <td>NaN</td>\n",
       "      <td>no</td>\n",
       "    </tr>\n",
       "    <tr>\n",
       "      <th>CAMP</th>\n",
       "      <td>CAMP</td>\n",
       "      <td>basaltic</td>\n",
       "      <td>201.0</td>\n",
       "      <td>Blackburn et al. (2013)</td>\n",
       "      <td>1.145679e+07</td>\n",
       "      <td>230616</td>\n",
       "      <td>Marzoli and Parisio compilation</td>\n",
       "      <td>0.020129</td>\n",
       "      <td>partial</td>\n",
       "    </tr>\n",
       "    <tr>\n",
       "      <th>Siberia</th>\n",
       "      <td>Siberia</td>\n",
       "      <td>basaltic</td>\n",
       "      <td>252.0</td>\n",
       "      <td>Burgess and Bowring (2015)</td>\n",
       "      <td>3.459274e+06</td>\n",
       "      <td>469523</td>\n",
       "      <td>Coffin et al. (2006)</td>\n",
       "      <td>0.135729</td>\n",
       "      <td>no</td>\n",
       "    </tr>\n",
       "    <tr>\n",
       "      <th>Emeishan</th>\n",
       "      <td>Emeishan</td>\n",
       "      <td>basaltic</td>\n",
       "      <td>259.0</td>\n",
       "      <td>Zhou et al. (2002)</td>\n",
       "      <td>7.058185e+05</td>\n",
       "      <td>60180</td>\n",
       "      <td>Coffin et al. (2006)</td>\n",
       "      <td>0.085263</td>\n",
       "      <td>no</td>\n",
       "    </tr>\n",
       "    <tr>\n",
       "      <th>Panjal_Qiangtang</th>\n",
       "      <td>Panjal-Qiangtang</td>\n",
       "      <td>basaltic</td>\n",
       "      <td>283.0</td>\n",
       "      <td>Zhai et al. (2013)</td>\n",
       "      <td>1.110581e+05</td>\n",
       "      <td>NaN</td>\n",
       "      <td>n/a</td>\n",
       "      <td>NaN</td>\n",
       "      <td>no</td>\n",
       "    </tr>\n",
       "    <tr>\n",
       "      <th>Tarim</th>\n",
       "      <td>Tarim</td>\n",
       "      <td>basaltic</td>\n",
       "      <td>290.0</td>\n",
       "      <td>Xu et al. (2014)</td>\n",
       "      <td>3.545110e+05</td>\n",
       "      <td>NaN</td>\n",
       "      <td>n/a</td>\n",
       "      <td>NaN</td>\n",
       "      <td>no</td>\n",
       "    </tr>\n",
       "    <tr>\n",
       "      <th>KNA</th>\n",
       "      <td>Kennedy-Conners-Auburn</td>\n",
       "      <td>silicic</td>\n",
       "      <td>305.0</td>\n",
       "      <td>Bryan and Ferrari (2013)</td>\n",
       "      <td>0.000000e+00</td>\n",
       "      <td>NaN</td>\n",
       "      <td>n/a</td>\n",
       "      <td>NaN</td>\n",
       "      <td>no</td>\n",
       "    </tr>\n",
       "    <tr>\n",
       "      <th>Magdalen</th>\n",
       "      <td>Magdalen</td>\n",
       "      <td>basaltic</td>\n",
       "      <td>360.0</td>\n",
       "      <td>Murphy et al. (1999)</td>\n",
       "      <td>4.218432e+05</td>\n",
       "      <td>NaN</td>\n",
       "      <td>n/a</td>\n",
       "      <td>NaN</td>\n",
       "      <td>no</td>\n",
       "    </tr>\n",
       "    <tr>\n",
       "      <th>Vilyui</th>\n",
       "      <td>Vilyui</td>\n",
       "      <td>basaltic</td>\n",
       "      <td>374.0</td>\n",
       "      <td>Renne et al. (2010)</td>\n",
       "      <td>1.143822e+06</td>\n",
       "      <td>NaN</td>\n",
       "      <td>n/a</td>\n",
       "      <td>NaN</td>\n",
       "      <td>no</td>\n",
       "    </tr>\n",
       "    <tr>\n",
       "      <th>Kola_Dnieper</th>\n",
       "      <td>Kola-Dnieper</td>\n",
       "      <td>basaltic</td>\n",
       "      <td>380.0</td>\n",
       "      <td>Arzamastsev and Wu (2014)</td>\n",
       "      <td>5.899074e+06</td>\n",
       "      <td>NaN</td>\n",
       "      <td>n/a</td>\n",
       "      <td>NaN</td>\n",
       "      <td>no</td>\n",
       "    </tr>\n",
       "    <tr>\n",
       "      <th>Suordakh</th>\n",
       "      <td>Suordakh</td>\n",
       "      <td>basaltic</td>\n",
       "      <td>450.0</td>\n",
       "      <td>Khudoley et al. (2013)</td>\n",
       "      <td>1.820970e+04</td>\n",
       "      <td>NaN</td>\n",
       "      <td>n/a</td>\n",
       "      <td>NaN</td>\n",
       "      <td>no</td>\n",
       "    </tr>\n",
       "    <tr>\n",
       "      <th>Kalkarindji</th>\n",
       "      <td>Kalkarindji</td>\n",
       "      <td>basaltic</td>\n",
       "      <td>511.0</td>\n",
       "      <td>Jourdan et al. (2014)</td>\n",
       "      <td>3.543990e+06</td>\n",
       "      <td>168694</td>\n",
       "      <td>???</td>\n",
       "      <td>0.047600</td>\n",
       "      <td>no</td>\n",
       "    </tr>\n",
       "    <tr>\n",
       "      <th>Wichita</th>\n",
       "      <td>Wichita</td>\n",
       "      <td>basaltic</td>\n",
       "      <td>535.0</td>\n",
       "      <td>Hanson et al. (2013)</td>\n",
       "      <td>1.813143e+05</td>\n",
       "      <td>NaN</td>\n",
       "      <td>n/a</td>\n",
       "      <td>NaN</td>\n",
       "      <td>yes</td>\n",
       "    </tr>\n",
       "    <tr>\n",
       "      <th>Ouarzazate</th>\n",
       "      <td>Ouarzazate</td>\n",
       "      <td>silicic</td>\n",
       "      <td>570.0</td>\n",
       "      <td>Thomas et al. (2002)</td>\n",
       "      <td>0.000000e+00</td>\n",
       "      <td>NaN</td>\n",
       "      <td>n/a</td>\n",
       "      <td>NaN</td>\n",
       "      <td>no</td>\n",
       "    </tr>\n",
       "    <tr>\n",
       "      <th>CIMP_A</th>\n",
       "      <td>CIMP - A</td>\n",
       "      <td>basaltic</td>\n",
       "      <td>580.0</td>\n",
       "      <td>Ernst and Bell (2010)</td>\n",
       "      <td>1.830840e+05</td>\n",
       "      <td>NaN</td>\n",
       "      <td>n/a</td>\n",
       "      <td>NaN</td>\n",
       "      <td>no</td>\n",
       "    </tr>\n",
       "    <tr>\n",
       "      <th>CIMP_B</th>\n",
       "      <td>CIMP - B</td>\n",
       "      <td>basaltic</td>\n",
       "      <td>615.0</td>\n",
       "      <td>Ernst and Bell (2010)</td>\n",
       "      <td>1.588159e+05</td>\n",
       "      <td>NaN</td>\n",
       "      <td>n/a</td>\n",
       "      <td>NaN</td>\n",
       "      <td>no</td>\n",
       "    </tr>\n",
       "    <tr>\n",
       "      <th>Franklin</th>\n",
       "      <td>Franklin</td>\n",
       "      <td>basaltic</td>\n",
       "      <td>720.0</td>\n",
       "      <td>Denyszyn et al. (2009)</td>\n",
       "      <td>2.617057e+06</td>\n",
       "      <td>43492</td>\n",
       "      <td>Buchan and Ernst (2004)</td>\n",
       "      <td>0.016619</td>\n",
       "      <td>no</td>\n",
       "    </tr>\n",
       "  </tbody>\n",
       "</table>\n",
       "</div>"
      ],
      "text/plain": [
       "                                                      name             type  \\\n",
       "CRB                                         Columbia River         basaltic   \n",
       "Afar                                                  Afar         basaltic   \n",
       "SMO                                Sierra Madre Occidental  silicic/bimodal   \n",
       "NAIP                                        North Atlantic         basaltic   \n",
       "Deccan                                              Deccan         basaltic   \n",
       "Seychelles                                      Seychelles         basaltic   \n",
       "Madagascar                                      Madagascar         basaltic   \n",
       "Carribean_Columbian                    Carribean-Columbian         basaltic   \n",
       "HALIP                                          High Arctic         basaltic   \n",
       "Whitsunday                                      Whitsunday          silicic   \n",
       "EQUAMP               Equatorial Atlantic Magmatic Province         basaltic   \n",
       "Comei                                                Comei         basaltic   \n",
       "Bunbury                                            Bunbury         basaltic   \n",
       "Parana_Etendeka                            Parana-Etendeka         basaltic   \n",
       "Trap                                                  Trap         basaltic   \n",
       "NW_Aus                                 NW Australia Margin         basaltic   \n",
       "Ferrar                                              Ferrar         basaltic   \n",
       "Karoo                                                Karoo         basaltic   \n",
       "Chon_Aike                                        Chon Aike          silicic   \n",
       "CAMP                                                  CAMP         basaltic   \n",
       "Siberia                                            Siberia         basaltic   \n",
       "Emeishan                                          Emeishan         basaltic   \n",
       "Panjal_Qiangtang                          Panjal-Qiangtang         basaltic   \n",
       "Tarim                                                Tarim         basaltic   \n",
       "KNA                                 Kennedy-Conners-Auburn          silicic   \n",
       "Magdalen                                          Magdalen         basaltic   \n",
       "Vilyui                                              Vilyui         basaltic   \n",
       "Kola_Dnieper                                  Kola-Dnieper         basaltic   \n",
       "Suordakh                                          Suordakh         basaltic   \n",
       "Kalkarindji                                    Kalkarindji         basaltic   \n",
       "Wichita                                            Wichita         basaltic   \n",
       "Ouarzazate                                      Ouarzazate          silicic   \n",
       "CIMP_A                                            CIMP - A         basaltic   \n",
       "CIMP_B                                            CIMP - B         basaltic   \n",
       "Franklin                                          Franklin         basaltic   \n",
       "\n",
       "                       age                     age ref.  original area km2  \\\n",
       "CRB                   16.3   Kasbohm and Schoene (2018)       6.764210e+05   \n",
       "Afar                  30.0  Courtillot and Renne (2003)       2.046999e+06   \n",
       "SMO                   34.0     Bryan and Ferrari (2013)       0.000000e+00   \n",
       "NAIP                  62.0         Larsen et al. (2016)       1.071541e+06   \n",
       "Deccan                66.0               Schoene (2015)       8.311900e+05   \n",
       "Seychelles            66.0               Schoene (2015)       4.561983e+05   \n",
       "Madagascar            90.0    Cucciniello et al. (2010)       6.270722e+05   \n",
       "Carribean_Columbian   94.0         Loewen et al. (2013)       7.122517e+05   \n",
       "HALIP                 95.0      Kingsbury et al. (2018)       3.597497e+06   \n",
       "Whitsunday           120.0          Bryan et al. (2000)       0.000000e+00   \n",
       "EQUAMP               131.0       Hollanda et al. (2016)       6.602910e+05   \n",
       "Comei                132.0            Zhu et al. (2009)       1.054453e+05   \n",
       "Bunbury              132.0            Zhu et al. (2009)       3.164966e+04   \n",
       "Parana_Etendeka      135.0      Florisbal et al. (2014)       3.120779e+06   \n",
       "Trap                 140.0          Ernst et al. (2001)       2.969846e+04   \n",
       "NW_Aus               160.0                                    6.190713e+05   \n",
       "Ferrar               183.0        Burgess et al. (2015)       1.788652e+05   \n",
       "Karoo                183.0        Burgess et al. (2015)       3.206784e+06   \n",
       "Chon_Aike            183.0      Pankhurst et al. (1998)       0.000000e+00   \n",
       "CAMP                 201.0      Blackburn et al. (2013)       1.145679e+07   \n",
       "Siberia              252.0   Burgess and Bowring (2015)       3.459274e+06   \n",
       "Emeishan             259.0           Zhou et al. (2002)       7.058185e+05   \n",
       "Panjal_Qiangtang     283.0           Zhai et al. (2013)       1.110581e+05   \n",
       "Tarim                290.0             Xu et al. (2014)       3.545110e+05   \n",
       "KNA                  305.0     Bryan and Ferrari (2013)       0.000000e+00   \n",
       "Magdalen             360.0         Murphy et al. (1999)       4.218432e+05   \n",
       "Vilyui               374.0          Renne et al. (2010)       1.143822e+06   \n",
       "Kola_Dnieper         380.0    Arzamastsev and Wu (2014)       5.899074e+06   \n",
       "Suordakh             450.0       Khudoley et al. (2013)       1.820970e+04   \n",
       "Kalkarindji          511.0        Jourdan et al. (2014)       3.543990e+06   \n",
       "Wichita              535.0         Hanson et al. (2013)       1.813143e+05   \n",
       "Ouarzazate           570.0         Thomas et al. (2002)       0.000000e+00   \n",
       "CIMP_A               580.0        Ernst and Bell (2010)       1.830840e+05   \n",
       "CIMP_B               615.0        Ernst and Bell (2010)       1.588159e+05   \n",
       "Franklin             720.0       Denyszyn et al. (2009)       2.617057e+06   \n",
       "\n",
       "                    present area km2  \\\n",
       "CRB                           375545   \n",
       "Afar                          631289   \n",
       "SMO                           619622   \n",
       "NAIP                          291288   \n",
       "Deccan                        561434   \n",
       "Seychelles                         0   \n",
       "Madagascar                     31289   \n",
       "Carribean_Columbian           126149   \n",
       "HALIP                         149571   \n",
       "Whitsunday                       NaN   \n",
       "EQUAMP                          7908   \n",
       "Comei                            NaN   \n",
       "Bunbury                         1636   \n",
       "Parana_Etendeka               403542   \n",
       "Trap                               0   \n",
       "NW_Aus                             0   \n",
       "Ferrar                           NaN   \n",
       "Karoo                         149049   \n",
       "Chon_Aike                        NaN   \n",
       "CAMP                          230616   \n",
       "Siberia                       469523   \n",
       "Emeishan                       60180   \n",
       "Panjal_Qiangtang                 NaN   \n",
       "Tarim                            NaN   \n",
       "KNA                              NaN   \n",
       "Magdalen                         NaN   \n",
       "Vilyui                           NaN   \n",
       "Kola_Dnieper                     NaN   \n",
       "Suordakh                         NaN   \n",
       "Kalkarindji                   168694   \n",
       "Wichita                          NaN   \n",
       "Ouarzazate                       NaN   \n",
       "CIMP_A                           NaN   \n",
       "CIMP_B                           NaN   \n",
       "Franklin                       43492   \n",
       "\n",
       "                                                    present area ref.  \\\n",
       "CRB                                           Buchan and Ernst (2004)   \n",
       "Afar                                             Coffin et al. (2006)   \n",
       "SMO                                          Bryan and Ferrari (2013)   \n",
       "NAIP                    Buchan and Ernst (2004), Coffin et al. (2006)   \n",
       "Deccan                                           Coffin et al. (2006)   \n",
       "Seychelles                                       Coffin et al. (2006)   \n",
       "Madagascar                                       Coffin et al. (2006)   \n",
       "Carribean_Columbian                              Coffin et al. (2006)   \n",
       "HALIP                                    Moosdorf and Hartmann (2015)   \n",
       "Whitsunday                                                        n/a   \n",
       "EQUAMP                                         Hollanda et al. (2016)   \n",
       "Comei                                                             n/a   \n",
       "Bunbury                                                           ???   \n",
       "Parana_Etendeka      Coffin et al. (2016), Teixeira and Albrez (2017)   \n",
       "Trap                                          Ernst and Buchan (2001)   \n",
       "NW_Aus                                           Coffin et al. (2006)   \n",
       "Ferrar                                                            n/a   \n",
       "Karoo                                             de Kock compilation   \n",
       "Chon_Aike                                                         n/a   \n",
       "CAMP                                  Marzoli and Parisio compilation   \n",
       "Siberia                                          Coffin et al. (2006)   \n",
       "Emeishan                                         Coffin et al. (2006)   \n",
       "Panjal_Qiangtang                                                  n/a   \n",
       "Tarim                                                             n/a   \n",
       "KNA                                                               n/a   \n",
       "Magdalen                                                          n/a   \n",
       "Vilyui                                                            n/a   \n",
       "Kola_Dnieper                                                      n/a   \n",
       "Suordakh                                                          n/a   \n",
       "Kalkarindji                                                       ???   \n",
       "Wichita                                                           n/a   \n",
       "Ouarzazate                                                        n/a   \n",
       "CIMP_A                                                            n/a   \n",
       "CIMP_B                                                            n/a   \n",
       "Franklin                                      Buchan and Ernst (2004)   \n",
       "\n",
       "                     present/original   buried  \n",
       "CRB                          0.555194       no  \n",
       "Afar                         0.308397  partial  \n",
       "SMO                               inf       no  \n",
       "NAIP                         0.271840  partial  \n",
       "Deccan                       0.675458       no  \n",
       "Seychelles                   0.000000      yes  \n",
       "Madagascar                   0.049897       no  \n",
       "Carribean_Columbian          0.177113       no  \n",
       "HALIP                        0.041576       no  \n",
       "Whitsunday                        NaN       no  \n",
       "EQUAMP                       0.011977       no  \n",
       "Comei                             NaN       no  \n",
       "Bunbury                      0.051691       no  \n",
       "Parana_Etendeka              0.129308  partial  \n",
       "Trap                         0.000000       no  \n",
       "NW_Aus                       0.000000      yes  \n",
       "Ferrar                            NaN       no  \n",
       "Karoo                        0.046479       no  \n",
       "Chon_Aike                         NaN       no  \n",
       "CAMP                         0.020129  partial  \n",
       "Siberia                      0.135729       no  \n",
       "Emeishan                     0.085263       no  \n",
       "Panjal_Qiangtang                  NaN       no  \n",
       "Tarim                             NaN       no  \n",
       "KNA                               NaN       no  \n",
       "Magdalen                          NaN       no  \n",
       "Vilyui                            NaN       no  \n",
       "Kola_Dnieper                      NaN       no  \n",
       "Suordakh                          NaN       no  \n",
       "Kalkarindji                  0.047600       no  \n",
       "Wichita                           NaN      yes  \n",
       "Ouarzazate                        NaN       no  \n",
       "CIMP_A                            NaN       no  \n",
       "CIMP_B                            NaN       no  \n",
       "Franklin                     0.016619       no  "
      ]
     },
     "execution_count": 75,
     "metadata": {},
     "output_type": "execute_result"
    }
   ],
   "source": [
    "summary.sort_values('age', inplace=True)\n",
    "summary"
   ]
  },
  {
   "cell_type": "markdown",
   "metadata": {},
   "source": [
    "Clean up the dataframe:"
   ]
  },
  {
   "cell_type": "code",
   "execution_count": 76,
   "metadata": {},
   "outputs": [
    {
     "name": "stdout",
     "output_type": "stream",
     "text": [
      "n = 13\n"
     ]
    }
   ],
   "source": [
    "# get rid of any rows with NaN's (i.e. those without a present day area constraint)\n",
    "clean_summary = summary.dropna().copy()\n",
    "\n",
    "# then remove anything that was buried\n",
    "clean_summary = clean_summary[clean_summary['buried']=='no'].copy()\n",
    "\n",
    "# then remove anything that's not basaltic\n",
    "clean_summary = clean_summary[clean_summary['type']=='basaltic'].copy()\n",
    "\n",
    "# reset indexes\n",
    "clean_summary.reset_index(drop=True, inplace=True)\n",
    "\n",
    "print('n = {}'.format(len(clean_summary)))"
   ]
  },
  {
   "cell_type": "markdown",
   "metadata": {},
   "source": [
    "Plot:"
   ]
  },
  {
   "cell_type": "code",
   "execution_count": 77,
   "metadata": {},
   "outputs": [
    {
     "data": {
      "image/png": "[encoded data removed]",
      "text/plain": [
       "<Figure size 432x288 with 1 Axes>"
      ]
     },
     "metadata": {
      "needs_background": "light"
     },
     "output_type": "display_data"
    }
   ],
   "source": [
    "fig, ax = plt.subplots()\n",
    "\n",
    "ax.scatter(clean_summary['age'], clean_summary['present/original'])\n",
    "ax.set_xlabel('eruption age [Ma]')\n",
    "ax.set_ylabel('present/original area')\n",
    "\n",
    "plt.show(fig)"
   ]
  },
  {
   "cell_type": "markdown",
   "metadata": {},
   "source": [
    "### Exponential fit to all data\n",
    "\n",
    "$$\n",
    "N(t) = N_{0}2^{-t/\\tau}\n",
    "$$\n",
    "\n",
    "where $\\tau$ is the halflife."
   ]
  },
  {
   "cell_type": "code",
   "execution_count": 78,
   "metadata": {},
   "outputs": [
    {
     "name": "stdout",
     "output_type": "stream",
     "text": [
      "tau  = 36.52\n",
      "RMSE = 0.14\n"
     ]
    },
    {
     "data": {
      "image/png": "[encoded data removed]",
      "text/plain": [
       "<Figure size 432x288 with 1 Axes>"
      ]
     },
     "metadata": {
      "needs_background": "light"
     },
     "output_type": "display_data"
    }
   ],
   "source": [
    "# define the exponential function\n",
    "def func(x, tau):\n",
    "    return 2**(-x / tau)\n",
    "\n",
    "# fit\n",
    "popt, pcov = curve_fit(func, clean_summary['age'], clean_summary['present/original'])\n",
    "predicted_ratios = func(clean_summary['age'], *popt)\n",
    "\n",
    "# compute RMSE\n",
    "RMSE = np.sqrt(mean_squared_error(clean_summary['present/original'], predicted_ratios))\n",
    "\n",
    "print('tau  = {:.2f}'.format(popt[0]))\n",
    "print('RMSE = {:.2f}'.format(RMSE))\n",
    "\n",
    "# plot\n",
    "fig, ax = plt.subplots()\n",
    "\n",
    "plot_x = np.linspace(np.min(clean_summary['age']), np.max(clean_summary['age']))\n",
    "plot_y = func(plot_x, *popt)\n",
    "\n",
    "ax.scatter(clean_summary['age'], clean_summary['present/original'])\n",
    "ax.plot(plot_x, plot_y, c='C1')\n",
    "ax.set_xlabel('eruption age [Ma]')\n",
    "ax.set_ylabel('present/original area')\n",
    "\n",
    "plt.savefig('../Manuscript/Figures/LIP_Preservation.pdf')\n",
    "plt.show(fig)"
   ]
  },
  {
   "cell_type": "markdown",
   "metadata": {},
   "source": [
    "### Leave one out cross-validation\n",
    "\n",
    "**For some reason the first fold is returning a half-life of 1, but all other folds work fine. It is unclear what is going on, so just drop the first fold.**"
   ]
  },
  {
   "cell_type": "code",
   "execution_count": 79,
   "metadata": {},
   "outputs": [],
   "source": [
    "# storage vectors\n",
    "taus = np.zeros(len(clean_summary)-1)\n",
    "RMSEs = np.zeros(len(clean_summary)-1)\n",
    "\n",
    "for i in range(1,len(clean_summary)):\n",
    "    \n",
    "    # get the inds\n",
    "    inds = np.arange(len(clean_summary))\n",
    "    inds = inds[inds!=i]\n",
    "    \n",
    "    # pull out vectors\n",
    "    ages_i = clean_summary['age'].values\n",
    "    ages_i = ages_i[inds]\n",
    "    \n",
    "    ratios_i = clean_summary['present/original'].values\n",
    "    ratios_i = ratios_i[inds]\n",
    "    \n",
    "    # fit\n",
    "    popt_i, pcov_i = curve_fit(func, ages_i, ratios_i)\n",
    "    predicted_ratios_i = func(ages_i, *popt_i)\n",
    "    \n",
    "    # RMSE\n",
    "    RMSE_i = np.sqrt(mean_squared_error(ratios_i, predicted_ratios_i))\n",
    "    \n",
    "    # store\n",
    "    taus[i-1] = popt_i[0]\n",
    "    RMSEs[i-1] = RMSE_i"
   ]
  },
  {
   "cell_type": "code",
   "execution_count": 80,
   "metadata": {},
   "outputs": [
    {
     "name": "stdout",
     "output_type": "stream",
     "text": [
      "mean tau  = 35.99\n",
      "std tau   = 4.06\n",
      "mean RMSE = 0.14\n",
      "std RMSE  = 0.02\n"
     ]
    },
    {
     "data": {
      "image/png": "[encoded data removed]",
      "text/plain": [
       "<Figure size 576x360 with 2 Axes>"
      ]
     },
     "metadata": {
      "needs_background": "light"
     },
     "output_type": "display_data"
    }
   ],
   "source": [
    "print('mean tau  = {:.2f}'.format(np.mean(taus)))\n",
    "print('std tau   = {:.2f}'.format(np.std(taus)))\n",
    "print('mean RMSE = {:.2f}'.format(np.mean(RMSEs)))\n",
    "print('std RMSE  = {:.2f}'.format(np.std(RMSEs)))\n",
    "\n",
    "fig, ax = plt.subplots(nrows=2, ncols=1, figsize=(8,5), sharex=True)\n",
    "\n",
    "ax[0].bar(np.arange(len(taus)), taus)\n",
    "ax[0].set_ylabel('half-life [Myr]')\n",
    "ax[0].axhline(np.mean(taus), ls='--', c='C7')\n",
    "\n",
    "ax[1].bar(np.arange(len(RMSEs)), RMSEs)\n",
    "ax[1].set_ylabel('RMSE')\n",
    "ax[1].axhline(np.mean(RMSEs), ls='--', c='C7')\n",
    "\n",
    "ax[1].set_xlabel('fold')\n",
    "\n",
    "plt.show(fig)"
   ]
  },
  {
   "cell_type": "code",
   "execution_count": 81,
   "metadata": {},
   "outputs": [
    {
     "data": {
      "image/png": "[encoded data removed]",
      "text/plain": [
       "<Figure size 432x288 with 1 Axes>"
      ]
     },
     "metadata": {
      "needs_background": "light"
     },
     "output_type": "display_data"
    }
   ],
   "source": [
    "fig, ax = plt.subplots()\n",
    "\n",
    "ax.scatter(clean_summary['age'], clean_summary['present/original'], c='C0')\n",
    "ax.set_xlabel('eruption age [Ma]')\n",
    "ax.set_ylabel('present/original area')\n",
    "\n",
    "plot_x = np.linspace(np.min(clean_summary['age']), np.max(clean_summary['age']))\n",
    "\n",
    "for i in range(len(taus)):\n",
    "    ax.plot(plot_x, func(plot_x, taus[i]), lw=0.5, alpha=0.5, c='C1')\n",
    "\n",
    "plt.show(fig)"
   ]
  },
  {
   "cell_type": "markdown",
   "metadata": {},
   "source": [
    "### Exponential fit to individual LIPs\n",
    "\n",
    "$$\n",
    "\\tau = \\frac{-t \\ln 2}{\\ln \\frac{N(t)}{N_{0}}}\n",
    "$$"
   ]
  },
  {
   "cell_type": "code",
   "execution_count": 82,
   "metadata": {},
   "outputs": [
    {
     "name": "stderr",
     "output_type": "stream",
     "text": [
      "/Users/yuempark/anaconda3/lib/python3.6/site-packages/ipykernel_launcher.py:1: RuntimeWarning: divide by zero encountered in log\n",
      "  \"\"\"Entry point for launching an IPython kernel.\n"
     ]
    }
   ],
   "source": [
    "LIP_taus = (-clean_summary['age'] * np.log(2)) / (np.log(clean_summary['present/original']))"
   ]
  },
  {
   "cell_type": "code",
   "execution_count": 83,
   "metadata": {},
   "outputs": [
    {
     "data": {
      "text/html": [
       "<div>\n",
       "<style scoped>\n",
       "    .dataframe tbody tr th:only-of-type {\n",
       "        vertical-align: middle;\n",
       "    }\n",
       "\n",
       "    .dataframe tbody tr th {\n",
       "        vertical-align: top;\n",
       "    }\n",
       "\n",
       "    .dataframe thead th {\n",
       "        text-align: right;\n",
       "    }\n",
       "</style>\n",
       "<table border=\"1\" class=\"dataframe\">\n",
       "  <thead>\n",
       "    <tr style=\"text-align: right;\">\n",
       "      <th></th>\n",
       "      <th>name</th>\n",
       "      <th>type</th>\n",
       "      <th>age</th>\n",
       "      <th>age ref.</th>\n",
       "      <th>original area km2</th>\n",
       "      <th>present area km2</th>\n",
       "      <th>present area ref.</th>\n",
       "      <th>present/original</th>\n",
       "      <th>buried</th>\n",
       "      <th>half-lives</th>\n",
       "    </tr>\n",
       "  </thead>\n",
       "  <tbody>\n",
       "    <tr>\n",
       "      <th>0</th>\n",
       "      <td>Columbia River</td>\n",
       "      <td>basaltic</td>\n",
       "      <td>16.3</td>\n",
       "      <td>Kasbohm and Schoene (2018)</td>\n",
       "      <td>6.764210e+05</td>\n",
       "      <td>375545</td>\n",
       "      <td>Buchan and Ernst (2004)</td>\n",
       "      <td>0.555194</td>\n",
       "      <td>no</td>\n",
       "      <td>19.200515</td>\n",
       "    </tr>\n",
       "    <tr>\n",
       "      <th>1</th>\n",
       "      <td>Deccan</td>\n",
       "      <td>basaltic</td>\n",
       "      <td>66.0</td>\n",
       "      <td>Schoene (2015)</td>\n",
       "      <td>8.311900e+05</td>\n",
       "      <td>561434</td>\n",
       "      <td>Coffin et al. (2006)</td>\n",
       "      <td>0.675458</td>\n",
       "      <td>no</td>\n",
       "      <td>116.595043</td>\n",
       "    </tr>\n",
       "    <tr>\n",
       "      <th>2</th>\n",
       "      <td>Madagascar</td>\n",
       "      <td>basaltic</td>\n",
       "      <td>90.0</td>\n",
       "      <td>Cucciniello et al. (2010)</td>\n",
       "      <td>6.270722e+05</td>\n",
       "      <td>31289</td>\n",
       "      <td>Coffin et al. (2006)</td>\n",
       "      <td>0.049897</td>\n",
       "      <td>no</td>\n",
       "      <td>20.809710</td>\n",
       "    </tr>\n",
       "    <tr>\n",
       "      <th>3</th>\n",
       "      <td>Carribean-Columbian</td>\n",
       "      <td>basaltic</td>\n",
       "      <td>94.0</td>\n",
       "      <td>Loewen et al. (2013)</td>\n",
       "      <td>7.122517e+05</td>\n",
       "      <td>126149</td>\n",
       "      <td>Coffin et al. (2006)</td>\n",
       "      <td>0.177113</td>\n",
       "      <td>no</td>\n",
       "      <td>37.641278</td>\n",
       "    </tr>\n",
       "    <tr>\n",
       "      <th>4</th>\n",
       "      <td>High Arctic</td>\n",
       "      <td>basaltic</td>\n",
       "      <td>95.0</td>\n",
       "      <td>Kingsbury et al. (2018)</td>\n",
       "      <td>3.597497e+06</td>\n",
       "      <td>149571</td>\n",
       "      <td>Moosdorf and Hartmann (2015)</td>\n",
       "      <td>0.041576</td>\n",
       "      <td>no</td>\n",
       "      <td>20.705779</td>\n",
       "    </tr>\n",
       "    <tr>\n",
       "      <th>5</th>\n",
       "      <td>Equatorial Atlantic Magmatic Province</td>\n",
       "      <td>basaltic</td>\n",
       "      <td>131.0</td>\n",
       "      <td>Hollanda et al. (2016)</td>\n",
       "      <td>6.602910e+05</td>\n",
       "      <td>7908</td>\n",
       "      <td>Hollanda et al. (2016)</td>\n",
       "      <td>0.011977</td>\n",
       "      <td>no</td>\n",
       "      <td>20.521191</td>\n",
       "    </tr>\n",
       "    <tr>\n",
       "      <th>6</th>\n",
       "      <td>Bunbury</td>\n",
       "      <td>basaltic</td>\n",
       "      <td>132.0</td>\n",
       "      <td>Zhu et al. (2009)</td>\n",
       "      <td>3.164966e+04</td>\n",
       "      <td>1636</td>\n",
       "      <td>???</td>\n",
       "      <td>0.051691</td>\n",
       "      <td>no</td>\n",
       "      <td>30.884811</td>\n",
       "    </tr>\n",
       "    <tr>\n",
       "      <th>7</th>\n",
       "      <td>Trap</td>\n",
       "      <td>basaltic</td>\n",
       "      <td>140.0</td>\n",
       "      <td>Ernst et al. (2001)</td>\n",
       "      <td>2.969846e+04</td>\n",
       "      <td>0</td>\n",
       "      <td>Ernst and Buchan (2001)</td>\n",
       "      <td>0.000000</td>\n",
       "      <td>no</td>\n",
       "      <td>0.000000</td>\n",
       "    </tr>\n",
       "    <tr>\n",
       "      <th>8</th>\n",
       "      <td>Karoo</td>\n",
       "      <td>basaltic</td>\n",
       "      <td>183.0</td>\n",
       "      <td>Burgess et al. (2015)</td>\n",
       "      <td>3.206784e+06</td>\n",
       "      <td>149049</td>\n",
       "      <td>de Kock compilation</td>\n",
       "      <td>0.046479</td>\n",
       "      <td>no</td>\n",
       "      <td>41.334741</td>\n",
       "    </tr>\n",
       "    <tr>\n",
       "      <th>9</th>\n",
       "      <td>Siberia</td>\n",
       "      <td>basaltic</td>\n",
       "      <td>252.0</td>\n",
       "      <td>Burgess and Bowring (2015)</td>\n",
       "      <td>3.459274e+06</td>\n",
       "      <td>469523</td>\n",
       "      <td>Coffin et al. (2006)</td>\n",
       "      <td>0.135729</td>\n",
       "      <td>no</td>\n",
       "      <td>87.463505</td>\n",
       "    </tr>\n",
       "    <tr>\n",
       "      <th>10</th>\n",
       "      <td>Emeishan</td>\n",
       "      <td>basaltic</td>\n",
       "      <td>259.0</td>\n",
       "      <td>Zhou et al. (2002)</td>\n",
       "      <td>7.058185e+05</td>\n",
       "      <td>60180</td>\n",
       "      <td>Coffin et al. (2006)</td>\n",
       "      <td>0.085263</td>\n",
       "      <td>no</td>\n",
       "      <td>72.917874</td>\n",
       "    </tr>\n",
       "    <tr>\n",
       "      <th>11</th>\n",
       "      <td>Kalkarindji</td>\n",
       "      <td>basaltic</td>\n",
       "      <td>511.0</td>\n",
       "      <td>Jourdan et al. (2014)</td>\n",
       "      <td>3.543990e+06</td>\n",
       "      <td>168694</td>\n",
       "      <td>???</td>\n",
       "      <td>0.047600</td>\n",
       "      <td>no</td>\n",
       "      <td>116.324228</td>\n",
       "    </tr>\n",
       "    <tr>\n",
       "      <th>12</th>\n",
       "      <td>Franklin</td>\n",
       "      <td>basaltic</td>\n",
       "      <td>720.0</td>\n",
       "      <td>Denyszyn et al. (2009)</td>\n",
       "      <td>2.617057e+06</td>\n",
       "      <td>43492</td>\n",
       "      <td>Buchan and Ernst (2004)</td>\n",
       "      <td>0.016619</td>\n",
       "      <td>no</td>\n",
       "      <td>121.805746</td>\n",
       "    </tr>\n",
       "  </tbody>\n",
       "</table>\n",
       "</div>"
      ],
      "text/plain": [
       "                                     name      type    age  \\\n",
       "0                          Columbia River  basaltic   16.3   \n",
       "1                                  Deccan  basaltic   66.0   \n",
       "2                              Madagascar  basaltic   90.0   \n",
       "3                     Carribean-Columbian  basaltic   94.0   \n",
       "4                             High Arctic  basaltic   95.0   \n",
       "5   Equatorial Atlantic Magmatic Province  basaltic  131.0   \n",
       "6                                 Bunbury  basaltic  132.0   \n",
       "7                                    Trap  basaltic  140.0   \n",
       "8                                   Karoo  basaltic  183.0   \n",
       "9                                 Siberia  basaltic  252.0   \n",
       "10                               Emeishan  basaltic  259.0   \n",
       "11                            Kalkarindji  basaltic  511.0   \n",
       "12                               Franklin  basaltic  720.0   \n",
       "\n",
       "                      age ref.  original area km2 present area km2  \\\n",
       "0   Kasbohm and Schoene (2018)       6.764210e+05           375545   \n",
       "1               Schoene (2015)       8.311900e+05           561434   \n",
       "2    Cucciniello et al. (2010)       6.270722e+05            31289   \n",
       "3         Loewen et al. (2013)       7.122517e+05           126149   \n",
       "4      Kingsbury et al. (2018)       3.597497e+06           149571   \n",
       "5       Hollanda et al. (2016)       6.602910e+05             7908   \n",
       "6            Zhu et al. (2009)       3.164966e+04             1636   \n",
       "7          Ernst et al. (2001)       2.969846e+04                0   \n",
       "8        Burgess et al. (2015)       3.206784e+06           149049   \n",
       "9   Burgess and Bowring (2015)       3.459274e+06           469523   \n",
       "10          Zhou et al. (2002)       7.058185e+05            60180   \n",
       "11       Jourdan et al. (2014)       3.543990e+06           168694   \n",
       "12      Denyszyn et al. (2009)       2.617057e+06            43492   \n",
       "\n",
       "               present area ref.  present/original buried  half-lives  \n",
       "0        Buchan and Ernst (2004)          0.555194     no   19.200515  \n",
       "1           Coffin et al. (2006)          0.675458     no  116.595043  \n",
       "2           Coffin et al. (2006)          0.049897     no   20.809710  \n",
       "3           Coffin et al. (2006)          0.177113     no   37.641278  \n",
       "4   Moosdorf and Hartmann (2015)          0.041576     no   20.705779  \n",
       "5         Hollanda et al. (2016)          0.011977     no   20.521191  \n",
       "6                            ???          0.051691     no   30.884811  \n",
       "7        Ernst and Buchan (2001)          0.000000     no    0.000000  \n",
       "8            de Kock compilation          0.046479     no   41.334741  \n",
       "9           Coffin et al. (2006)          0.135729     no   87.463505  \n",
       "10          Coffin et al. (2006)          0.085263     no   72.917874  \n",
       "11                           ???          0.047600     no  116.324228  \n",
       "12       Buchan and Ernst (2004)          0.016619     no  121.805746  "
      ]
     },
     "execution_count": 83,
     "metadata": {},
     "output_type": "execute_result"
    }
   ],
   "source": [
    "clean_summary['half-lives'] = LIP_taus\n",
    "clean_summary"
   ]
  },
  {
   "cell_type": "code",
   "execution_count": 84,
   "metadata": {},
   "outputs": [
    {
     "data": {
      "image/png": "[encoded data removed]",
      "text/plain": [
       "<Figure size 432x288 with 1 Axes>"
      ]
     },
     "metadata": {
      "needs_background": "light"
     },
     "output_type": "display_data"
    }
   ],
   "source": [
    "fig, ax = plt.subplots()\n",
    "\n",
    "ax.hist(LIP_taus, bins=20)\n",
    "ax.set_xlabel('half-life [Myr]')\n",
    "ax.set_ylabel('n')\n",
    "\n",
    "plt.show(fig)"
   ]
  }
 ],
 "metadata": {
  "kernelspec": {
   "display_name": "Python 3",
   "language": "python",
   "name": "python3"
  },
  "language_info": {
   "codemirror_mode": {
    "name": "ipython",
    "version": 3
   },
   "file_extension": ".py",
   "mimetype": "text/x-python",
   "name": "python",
   "nbconvert_exporter": "python",
   "pygments_lexer": "ipython3",
   "version": "3.6.6"
  },
  "toc": {
   "nav_menu": {},
   "number_sections": false,
   "sideBar": true,
   "skip_h1_title": false,
   "title_cell": "Table of Contents",
   "title_sidebar": "Contents",
   "toc_cell": false,
   "toc_position": {
    "height": "calc(100% - 180px)",
    "left": "10px",
    "top": "150px",
    "width": "216px"
   },
   "toc_section_display": true,
   "toc_window_display": true
  }
 },
 "nbformat": 4,
 "nbformat_minor": 2
}
