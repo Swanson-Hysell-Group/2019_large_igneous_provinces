{
 "cells": [
  {
   "cell_type": "markdown",
   "metadata": {},
   "source": [
    "# Present Day Areas\n",
    "\n",
    "This Jupyter notebook assesses the present day areas of large igneous provinces."
   ]
  },
  {
   "cell_type": "code",
   "execution_count": 1,
   "metadata": {},
   "outputs": [],
   "source": [
    "import pandas as pd\n",
    "import matplotlib.pyplot as plt\n",
    "import numpy as np"
   ]
  },
  {
   "cell_type": "markdown",
   "metadata": {},
   "source": [
    "## Data Files"
   ]
  },
  {
   "cell_type": "code",
   "execution_count": 2,
   "metadata": {},
   "outputs": [
    {
     "data": {
      "text/plain": [
       "Index(['ID', 'Type_C_0_S', 'NAME_EVENT', 'NAME_ALT', 'CRUST_BLK', 'AGE_TEXT',\n",
       "       'NAME_PART', 'COMMENT', 'AGE_MAX', 'AGE_MIN', 'AGE_PEAK1', 'AGE_PEAK2',\n",
       "       'AGE', 'area_km2'],\n",
       "      dtype='object')"
      ]
     },
     "execution_count": 2,
     "metadata": {},
     "output_type": "execute_result"
    }
   ],
   "source": [
    "original = pd.read_csv('LIP_Outline.csv')\n",
    "original.sort_values('AGE',inplace=True)\n",
    "original.reset_index(inplace=True,drop=True)\n",
    "original.columns"
   ]
  },
  {
   "cell_type": "code",
   "execution_count": 3,
   "metadata": {},
   "outputs": [
    {
     "data": {
      "text/plain": [
       "Index(['OBJECTID', 'LIPID', 'X_LIPNAME', 'X_COID', 'X_NAME_EVE', 'X_NAME_UNI',\n",
       "       'X_NAME_BOD', 'X_CRUST_BL', 'CAPT_SCALE', 'DESCRIPT', 'REF_LINE',\n",
       "       'REF_GEN', 'X_AGE_TEXT', 'X_REF_AGE', 'X_Litholog', 'COMMENT',\n",
       "       'X_geOrigin', 'X_BARCDAGE', 'LimYng', 'LimOld', 'Shape_Leng', 'UQRWID',\n",
       "       'Shape_Le_1', 'Shape_Area', 'area_km2'],\n",
       "      dtype='object')"
      ]
     },
     "execution_count": 3,
     "metadata": {},
     "output_type": "execute_result"
    }
   ],
   "source": [
    "present = pd.read_csv('LIP_current_extent_all.csv')\n",
    "present.sort_values('X_BARCDAGE',inplace=True)\n",
    "present.reset_index(inplace=True,drop=True)\n",
    "present.columns"
   ]
  },
  {
   "cell_type": "markdown",
   "metadata": {},
   "source": [
    "## LIPs"
   ]
  },
  {
   "cell_type": "markdown",
   "metadata": {},
   "source": [
    "Start a dataframe:"
   ]
  },
  {
   "cell_type": "code",
   "execution_count": 4,
   "metadata": {},
   "outputs": [],
   "source": [
    "summary = pd.DataFrame(columns=['name',\n",
    "                                'type',\n",
    "                                'age',\n",
    "                                'age reference',\n",
    "                                'original area km2',\n",
    "                                'present area km2',\n",
    "                                'present area reference',\n",
    "                                'present/original',\n",
    "                                'buried'])"
   ]
  },
  {
   "cell_type": "markdown",
   "metadata": {},
   "source": [
    "Template:"
   ]
  },
  {
   "cell_type": "raw",
   "metadata": {},
   "source": [
    "summary.loc[''] = \\\n",
    "    pd.Series({'name':'',\n",
    "               'type':'',\n",
    "               'age':,\n",
    "               'age reference':'',\n",
    "               'original area km2':,\n",
    "               'present area km2':,\n",
    "               'present area reference':'',\n",
    "               'present/original':\n",
    "               'buried':''})"
   ]
  },
  {
   "cell_type": "markdown",
   "metadata": {},
   "source": [
    "### Columbia River Basalts\n",
    "\n",
    "Present extent shapefile has data from both Buchan and Ernst (2004) as well as the PLATES database - we chose to use the Buchan and Ernst (2004) since they had more detail and included the Eastern Snake River Plain which is included in the original broad LIP outline."
   ]
  },
  {
   "cell_type": "code",
   "execution_count": 5,
   "metadata": {},
   "outputs": [],
   "source": [
    "summary.loc['CRB'] = \\\n",
    "    pd.Series({'name':'Columbia River',\n",
    "               'type':'basaltic',\n",
    "               'age':16.3,\n",
    "               'age reference':'Kasbohm and Schoene (2018)',\n",
    "               'original area km2':np.float(original[original['NAME_EVENT']=='Columbia River']['area_km2']),\n",
    "               'present area km2':np.sum(present[(present['X_BARCDAGE']==17)&(present['CAPT_SCALE']==2000000)]['area_km2']),\n",
    "               'present area reference':'Buchan and Ernst (2004)',\n",
    "               'present/original':(np.sum(present[(present['X_BARCDAGE']==17)&(present['CAPT_SCALE']==2000000)]['area_km2']))/(np.float(original[original['NAME_EVENT']=='Columbia River']['area_km2'])),\n",
    "               'buried':'no'})"
   ]
  },
  {
   "cell_type": "markdown",
   "metadata": {},
   "source": [
    "### Afar\n",
    "\n",
    "Using the PLATES database:\n",
    "\n",
    "Coffin, M.F., Duncan, R.A., Eldholm, O., Fitton, J.G., Frey, F.A., Larsen, H.C., Mahoney, J.J., Saunders, A.D., Schlich, R., and Wallace, P.J., 2006. Large igneous provinces and scientific ocean drilling: Status quo and a look ahead, Oceanography, vol. 19(4), pp. 150-160.\n",
    "\n",
    "The original extent polygon extends much further north than the exposure of the Ethiopian Traps and includes the Red Sea and its flanks where there are no current exposures included in the PLATES polygons. We edited this polygon to not include the Red Sea itself."
   ]
  },
  {
   "cell_type": "code",
   "execution_count": 8,
   "metadata": {},
   "outputs": [],
   "source": [
    "summary.loc['Afar'] = \\\n",
    "    pd.Series({'name':'Afar',\n",
    "               'type':'basaltic',\n",
    "               'age':30,\n",
    "               'age reference':'Courtillot and Renne (2003)',\n",
    "               'original area km2':np.float(original[original['NAME_EVENT']=='Afro-Arabian']['area_km2']),\n",
    "               'present area km2':np.sum(present[present['X_BARCDAGE']==30]['area_km2']),\n",
    "               'present area reference':'Coffin et al. (2006)',\n",
    "               'present/original':(np.sum(present[present['X_BARCDAGE']==30]['area_km2']))/(np.float(original[original['NAME_EVENT']=='Afro-Arabian']['area_km2'])),\n",
    "               'buried':'partial'})"
   ]
  },
  {
   "cell_type": "markdown",
   "metadata": {},
   "source": [
    "### Sierra Madre"
   ]
  },
  {
   "cell_type": "code",
   "execution_count": null,
   "metadata": {},
   "outputs": [],
   "source": [
    "summary.loc['SMO'] = \\\n",
    "    pd.Series({'name':'Sierra Madre Occidental',\n",
    "               'type':'silicic',\n",
    "               'age':,\n",
    "               'age reference':'',\n",
    "               'original area km2':,\n",
    "               'present area km2':np.sum(present[present['LIPID']==101]['area_km2']),\n",
    "               'present area reference':'Bryan and Ferrari (2013)',\n",
    "               'present/original':\n",
    "               'buried':''})"
   ]
  },
  {
   "cell_type": "code",
   "execution_count": 11,
   "metadata": {},
   "outputs": [
    {
     "data": {
      "text/html": [
       "<div>\n",
       "<style scoped>\n",
       "    .dataframe tbody tr th:only-of-type {\n",
       "        vertical-align: middle;\n",
       "    }\n",
       "\n",
       "    .dataframe tbody tr th {\n",
       "        vertical-align: top;\n",
       "    }\n",
       "\n",
       "    .dataframe thead th {\n",
       "        text-align: right;\n",
       "    }\n",
       "</style>\n",
       "<table border=\"1\" class=\"dataframe\">\n",
       "  <thead>\n",
       "    <tr style=\"text-align: right;\">\n",
       "      <th></th>\n",
       "      <th>name</th>\n",
       "      <th>type</th>\n",
       "      <th>age</th>\n",
       "      <th>age reference</th>\n",
       "      <th>original area km2</th>\n",
       "      <th>present area km2</th>\n",
       "      <th>present area reference</th>\n",
       "      <th>present/original</th>\n",
       "      <th>buried</th>\n",
       "    </tr>\n",
       "  </thead>\n",
       "  <tbody>\n",
       "    <tr>\n",
       "      <th>CRB</th>\n",
       "      <td>Columbia River</td>\n",
       "      <td>basaltic</td>\n",
       "      <td>16.3</td>\n",
       "      <td>Kasbohm and Schoene (2018)</td>\n",
       "      <td>6.764210e+05</td>\n",
       "      <td>375546.077</td>\n",
       "      <td>Buchan and Ernst (2004)</td>\n",
       "      <td>0.555196</td>\n",
       "      <td>no</td>\n",
       "    </tr>\n",
       "    <tr>\n",
       "      <th>Afar</th>\n",
       "      <td>Afar</td>\n",
       "      <td>basaltic</td>\n",
       "      <td>30.0</td>\n",
       "      <td>Courtillot and Renne (2003)</td>\n",
       "      <td>2.420742e+06</td>\n",
       "      <td>631287.075</td>\n",
       "      <td>Coffin et al. (2006)</td>\n",
       "      <td>0.260782</td>\n",
       "      <td>partial</td>\n",
       "    </tr>\n",
       "  </tbody>\n",
       "</table>\n",
       "</div>"
      ],
      "text/plain": [
       "                name      type   age                age reference  \\\n",
       "CRB   Columbia River  basaltic  16.3   Kasbohm and Schoene (2018)   \n",
       "Afar            Afar  basaltic  30.0  Courtillot and Renne (2003)   \n",
       "\n",
       "      original area km2  present area km2   present area reference  \\\n",
       "CRB        6.764210e+05        375546.077  Buchan and Ernst (2004)   \n",
       "Afar       2.420742e+06        631287.075     Coffin et al. (2006)   \n",
       "\n",
       "      present/original   buried  \n",
       "CRB           0.555196       no  \n",
       "Afar          0.260782  partial  "
      ]
     },
     "execution_count": 11,
     "metadata": {},
     "output_type": "execute_result"
    }
   ],
   "source": [
    "summary"
   ]
  },
  {
   "cell_type": "code",
   "execution_count": null,
   "metadata": {},
   "outputs": [],
   "source": []
  }
 ],
 "metadata": {
  "kernelspec": {
   "display_name": "Python 3",
   "language": "python",
   "name": "python3"
  },
  "language_info": {
   "codemirror_mode": {
    "name": "ipython",
    "version": 3
   },
   "file_extension": ".py",
   "mimetype": "text/x-python",
   "name": "python",
   "nbconvert_exporter": "python",
   "pygments_lexer": "ipython3",
   "version": "3.6.6"
  },
  "toc": {
   "nav_menu": {},
   "number_sections": false,
   "sideBar": true,
   "skip_h1_title": false,
   "title_cell": "Table of Contents",
   "title_sidebar": "Contents",
   "toc_cell": false,
   "toc_position": {
    "height": "calc(100% - 180px)",
    "left": "10px",
    "top": "150px",
    "width": "177px"
   },
   "toc_section_display": true,
   "toc_window_display": true
  }
 },
 "nbformat": 4,
 "nbformat_minor": 2
}
