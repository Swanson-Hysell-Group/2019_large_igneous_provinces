{
 "cells": [
  {
   "cell_type": "markdown",
   "metadata": {},
   "source": [
    "# Present Day Areas\n",
    "\n",
    "This notebook (Python 3) assesses the present day areas of large igneous provinces (LIPs) and builds up the LIP summary table used in the manuscript."
   ]
  },
  {
   "cell_type": "code",
   "execution_count": 1,
   "metadata": {},
   "outputs": [],
   "source": [
    "import pandas as pd\n",
    "import matplotlib.pyplot as plt\n",
    "import numpy as np\n",
    "from scipy.optimize import curve_fit\n",
    "from sklearn.metrics import mean_squared_error"
   ]
  },
  {
   "cell_type": "markdown",
   "metadata": {},
   "source": [
    "## Data Files"
   ]
  },
  {
   "cell_type": "code",
   "execution_count": 2,
   "metadata": {},
   "outputs": [],
   "source": [
    "original = pd.read_csv('../Data/LIP_Outline.csv')\n",
    "original.sort_values('AGE',inplace=True)\n",
    "original.reset_index(inplace=True,drop=True)"
   ]
  },
  {
   "cell_type": "code",
   "execution_count": 3,
   "metadata": {},
   "outputs": [],
   "source": [
    "present = pd.read_csv('../Data/LIP_current_extent.csv')\n",
    "present.sort_values('X_BARCDAGE',inplace=True)\n",
    "present.reset_index(inplace=True,drop=True)"
   ]
  },
  {
   "cell_type": "markdown",
   "metadata": {},
   "source": [
    "## LIPs"
   ]
  },
  {
   "cell_type": "markdown",
   "metadata": {},
   "source": [
    "Start a dataframe:"
   ]
  },
  {
   "cell_type": "code",
   "execution_count": 4,
   "metadata": {},
   "outputs": [],
   "source": [
    "summary = pd.DataFrame(columns=['name',\n",
    "                                'type',\n",
    "                                'age',\n",
    "                                'age ref.',\n",
    "                                'original area km2',\n",
    "                                'present area km2',\n",
    "                                'present area ref.',\n",
    "                                'present/original',\n",
    "                                'buried'])"
   ]
  },
  {
   "cell_type": "markdown",
   "metadata": {},
   "source": [
    "Template to add rows to the summary dataframe:"
   ]
  },
  {
   "cell_type": "raw",
   "metadata": {},
   "source": [
    "summary.loc[''] = \\\n",
    "    pd.Series({'name':'',\n",
    "               'type':'',\n",
    "               'age':,\n",
    "               'age ref.':'',\n",
    "               'original area km2':,\n",
    "               'present area km2':,\n",
    "               'present area ref.':'',\n",
    "               'present/original':,\n",
    "               'buried':''})"
   ]
  },
  {
   "cell_type": "markdown",
   "metadata": {},
   "source": [
    "### Columbia River Basalts\n",
    "\n",
    "Present extent shapefile has data from both Buchan and Ernst (2004) as well as the PLATES database - we chose to use the Buchan and Ernst (2004) (which has `['CAPT_SCALE']==2000000`) since they had more detail and included the Eastern Snake River Plain which is included in the original broad LIP outline."
   ]
  },
  {
   "cell_type": "code",
   "execution_count": 5,
   "metadata": {},
   "outputs": [],
   "source": [
    "original_CRB = original[original['NAME_EVENT']=='Columbia River']\n",
    "present_CRB = present[(present['X_BARCDAGE']==17)&(present['CAPT_SCALE']==2000000)]"
   ]
  },
  {
   "cell_type": "code",
   "execution_count": 6,
   "metadata": {},
   "outputs": [],
   "source": [
    "summary.loc['CRB'] = \\\n",
    "    pd.Series({'name':'Columbia River',\n",
    "               'type':'basaltic',\n",
    "               'age':16.3,\n",
    "               'age ref.':'Kasbohm and Schoene (2018)',\n",
    "               'original area km2':np.sum(original_CRB['area_km2']),\n",
    "               'present area km2':np.sum(present_CRB['area_km2']),\n",
    "               'present area ref.':'Buchan and Ernst (2004)',\n",
    "               'present/original':np.sum(present_CRB['area_km2']) / np.sum(original_CRB['area_km2']),\n",
    "               'buried':'no'})"
   ]
  },
  {
   "cell_type": "markdown",
   "metadata": {},
   "source": [
    "### Afar\n",
    "\n",
    "The present-day extent for the Afar LIP is from the PLATES database:\n",
    "\n",
    "> Coffin, M.F., Duncan, R.A., Eldholm, O., Fitton, J.G., Frey, F.A., Larsen, H.C., Mahoney, J.J., Saunders, A.D., Schlich, R., and Wallace, P.J., 2006. Large igneous provinces and scientific ocean drilling: Status quo and a look ahead, Oceanography, vol. 19(4), pp. 150-160.\n",
    "\n",
    "The original extent polygon extends much further north than the exposure of the Ethiopian Traps and includes the Red Sea and its flanks where there are no current exposures included in the PLATES polygons — despite there being some exposure of LIP-related volcanics along the Red Sea flanks. This portion of the LIP could be considered to be buried with the Ethiopian and Yemen plateau volcanics being exposed."
   ]
  },
  {
   "cell_type": "code",
   "execution_count": 7,
   "metadata": {},
   "outputs": [],
   "source": [
    "original_Afar = original[original['NAME_EVENT']=='Afro-Arabian']\n",
    "present_Afar = present[present['X_BARCDAGE']==30]"
   ]
  },
  {
   "cell_type": "code",
   "execution_count": 8,
   "metadata": {},
   "outputs": [],
   "source": [
    "summary.loc['Afar'] = \\\n",
    "    pd.Series({'name':'Afar',\n",
    "               'type':'basaltic',\n",
    "               'age':30,\n",
    "               'age ref.':'Courtillot and Renne (2003)',\n",
    "               'original area km2':np.sum(original_Afar['area_km2']),\n",
    "               'present area km2':np.sum(present_Afar['area_km2']),\n",
    "               'present area ref.':'Coffin et al. (2006)',\n",
    "               'present/original':np.sum(present_Afar['area_km2']) / np.sum(original_Afar['area_km2']),\n",
    "               'buried':'partial'})"
   ]
  },
  {
   "cell_type": "markdown",
   "metadata": {},
   "source": [
    "### Sierra Madre Occidental\n",
    "\n",
    "The Sierra Madre Occidental is a silic large igneous province, but along with the rhyolitic volcanics there was mafic and intermediate volcanism. The first major pulse of magmatism was 34 Ma (Bryan and Ferrari, 2013)."
   ]
  },
  {
   "cell_type": "raw",
   "metadata": {},
   "source": [
    "original_SMO = original[original['NAME_EVENT']=='Sierra Madre Occidental (SLIP)']\n",
    "present_SMO = present[present['LIPID']==101]"
   ]
  },
  {
   "cell_type": "raw",
   "metadata": {},
   "source": [
    "summary.loc['SMO'] = \\\n",
    "    pd.Series({'name':'Sierra Madre Occidental',\n",
    "               'type':'silicic/bimodal',\n",
    "               'age':34,\n",
    "               'age ref.':'Bryan and Ferrari (2013)',\n",
    "               'original area km2':np.sum(original_SMO['area_km2']),\n",
    "               'present area km2':np.sum(present_SMO['area_km2']),\n",
    "               'present area ref.':'Bryan and Ferrari (2013)',\n",
    "               'present/original':np.sum(present_SMO['area_km2']) / np.sum(original_SMO['area_km2']),\n",
    "               'buried':'no'})"
   ]
  },
  {
   "cell_type": "markdown",
   "metadata": {},
   "source": [
    "### NAIP (North Atlantic Volcanic Province)\n",
    "\n",
    "The North Atlantic Volcanic Province was associated with succesful rifting. In the Ernst current extent database there were duplicates for nearly all of the polygons with ages assigned both at 62 Ma and 60 Ma. There were also abundant polygons that are within the North Atlantic and are not exposed. These duplicates and submerged polygons were removes in order to determine area. Its extent will be anomalously low due to the potential of coverage by the Greenland ice sheet including the burial of much of it due to successful rifting.\n",
    "\n",
    "> Larsen, L., Pedersen, A., Tegner, C., Duncan, R., Hald, N. and Larsen, J., 2015. Age of Tertiary volcanic rocks on the West Greenland continental margin: volcanic evolution and event correlation to other parts of the North Atlantic Igneous Province. Geological Magazine: 1-25."
   ]
  },
  {
   "cell_type": "code",
   "execution_count": 9,
   "metadata": {},
   "outputs": [],
   "source": [
    "original_NAIP = original[original['AGE']==62]\n",
    "present_NAIP = present[present['X_BARCDAGE']==62]"
   ]
  },
  {
   "cell_type": "code",
   "execution_count": 10,
   "metadata": {},
   "outputs": [],
   "source": [
    "summary.loc['NAIP'] = \\\n",
    "    pd.Series({'name':'NAIP',\n",
    "               'type':'basaltic',\n",
    "               'age':62,\n",
    "               'age ref.':'Larsen et al. (2015)',\n",
    "               'original area km2':np.sum(original_NAIP['area_km2']),\n",
    "               'present area km2':np.sum(present_NAIP['area_km2']),\n",
    "               'present area ref.':'Buchan and Ernst (2004), Coffin et al. (2006)',\n",
    "               'present/original':np.sum(present_NAIP['area_km2']) / np.sum(original_NAIP['area_km2']),\n",
    "               'buried':'partial'})"
   ]
  },
  {
   "cell_type": "markdown",
   "metadata": {},
   "source": [
    "### Deccan"
   ]
  },
  {
   "cell_type": "code",
   "execution_count": 11,
   "metadata": {},
   "outputs": [],
   "source": [
    "original_Deccan = original[original['NAME_PART']=='Deccan']\n",
    "present_Deccan = present[present['X_BARCDAGE']==65]"
   ]
  },
  {
   "cell_type": "code",
   "execution_count": 12,
   "metadata": {},
   "outputs": [],
   "source": [
    "summary.loc['Deccan'] = \\\n",
    "    pd.Series({'name':'Deccan',\n",
    "               'type':'basaltic',\n",
    "               'age':66,\n",
    "               'age ref.':'Schoene et al. (2014)',\n",
    "               'original area km2':np.sum(original_Deccan['area_km2']),\n",
    "               'present area km2':np.sum(present_Deccan['area_km2']),\n",
    "               'present area ref.':'Coffin et al. (2006)',\n",
    "               'present/original':np.sum(present_Deccan['area_km2']) / np.sum(original_Deccan['area_km2']),\n",
    "               'buried':'no'})"
   ]
  },
  {
   "cell_type": "markdown",
   "metadata": {},
   "source": [
    "### Seychelles"
   ]
  },
  {
   "cell_type": "code",
   "execution_count": 13,
   "metadata": {},
   "outputs": [],
   "source": [
    "original_Seychelles = original[original['NAME_PART']=='Chagos-Laccadive (3000M & gravity contour)']"
   ]
  },
  {
   "cell_type": "code",
   "execution_count": 14,
   "metadata": {},
   "outputs": [],
   "source": [
    "summary.loc['Seychelles'] = \\\n",
    "    pd.Series({'name':'Seychelles',\n",
    "               'type':'basaltic',\n",
    "               'age':66,\n",
    "               'age ref.':'Schoene et al. (2014)',\n",
    "               'original area km2':np.sum(original_Seychelles['area_km2']),\n",
    "               'present area km2':0,\n",
    "               'present area ref.':'Coffin et al. (2006)',\n",
    "               'present/original':0,\n",
    "               'buried':'yes'})"
   ]
  },
  {
   "cell_type": "markdown",
   "metadata": {},
   "source": [
    "### Madagascar"
   ]
  },
  {
   "cell_type": "code",
   "execution_count": 15,
   "metadata": {},
   "outputs": [],
   "source": [
    "original_Madagascar = original[original['NAME_EVENT']=='Madagascar']\n",
    "present_Madagascar = present[present['X_BARCDAGE']==91]"
   ]
  },
  {
   "cell_type": "code",
   "execution_count": 16,
   "metadata": {},
   "outputs": [],
   "source": [
    "summary.loc['Madagascar'] = \\\n",
    "    pd.Series({'name':'Madagascar',\n",
    "               'type':'basaltic',\n",
    "               'age':90,\n",
    "               'age ref.':'Cucciniello (2010)',\n",
    "               'original area km2':np.sum(original_Madagascar['area_km2']),\n",
    "               'present area km2':np.sum(present_Madagascar['area_km2']),\n",
    "               'present area ref.':'Coffin et al. (2006)',\n",
    "               'present/original':np.sum(present_Madagascar['area_km2']) / np.sum(original_Madagascar['area_km2']),\n",
    "               'buried':'no'})"
   ]
  },
  {
   "cell_type": "markdown",
   "metadata": {},
   "source": [
    "### Caribbean-Colombian"
   ]
  },
  {
   "cell_type": "code",
   "execution_count": 17,
   "metadata": {},
   "outputs": [],
   "source": [
    "original_Caribbean_Colombian = original[original['NAME_EVENT']=='Caribbean-Colombian']\n",
    "present_Caribbean_Colombian = present[present['X_BARCDAGE']==88]"
   ]
  },
  {
   "cell_type": "code",
   "execution_count": 18,
   "metadata": {},
   "outputs": [],
   "source": [
    "summary.loc['Caribbean_Colombian'] = \\\n",
    "    pd.Series({'name':'Caribbean-Colombian',\n",
    "               'type':'basaltic',\n",
    "               'age':94,\n",
    "               'age ref.':'Loewen et al. (2013)',\n",
    "               'original area km2':np.sum(original_Caribbean_Colombian['area_km2']),\n",
    "               'present area km2':np.sum(present_Caribbean_Colombian['area_km2']),\n",
    "               'present area ref.':'Coffin et al. (2006)',\n",
    "               'present/original':np.sum(present_Caribbean_Colombian['area_km2']) / np.sum(original_Caribbean_Colombian['area_km2']),\n",
    "               'buried':'no'})"
   ]
  },
  {
   "cell_type": "markdown",
   "metadata": {},
   "source": [
    "### High Arctic\n",
    "\n",
    "Used LiMW to get the present day area - basaltic polygons corresponding to the HALIP."
   ]
  },
  {
   "cell_type": "code",
   "execution_count": 19,
   "metadata": {},
   "outputs": [],
   "source": [
    "original_HALIP = original[original['AGE_TEXT']=='120-90 Ma']\n",
    "present_HALIP = pd.read_csv('../Data/HALIP_extent.csv')"
   ]
  },
  {
   "cell_type": "code",
   "execution_count": 20,
   "metadata": {},
   "outputs": [],
   "source": [
    "summary.loc['HALIP'] = \\\n",
    "    pd.Series({'name':'HALIP',\n",
    "               'type':'basaltic',\n",
    "               'age':95,\n",
    "               'age ref.':'Kingsbury et al. (2018)',\n",
    "               'original area km2':np.sum(original_HALIP['area_km2']),\n",
    "               'present area km2':np.sum(present_HALIP['area_km2']),\n",
    "               'present area ref.':'Moosdorf and Hartmann (2015)',\n",
    "               'present/original':np.sum(present_HALIP['area_km2']) / np.sum(original_HALIP['area_km2']),\n",
    "               'buried':'no'})"
   ]
  },
  {
   "cell_type": "markdown",
   "metadata": {},
   "source": [
    "### Whitsunday\n",
    "\n",
    "Not pulling present day area since silicic."
   ]
  },
  {
   "cell_type": "raw",
   "metadata": {},
   "source": [
    "original_Whitsunday = original[original['AGE_TEXT']=='120-105']"
   ]
  },
  {
   "cell_type": "raw",
   "metadata": {},
   "source": [
    "summary.loc['Whitsunday'] = \\\n",
    "    pd.Series({'name':'Whitsunday',\n",
    "               'type':'silicic',\n",
    "               'age':120,\n",
    "               'age ref.':'Bryan et al. (2000)',\n",
    "               'original area km2':np.sum(original_Whitsunday['area_km2']),\n",
    "               'present area km2':np.nan,\n",
    "               'present area ref.':'n/a',\n",
    "               'present/original':np.nan,\n",
    "               'buried':'no'})"
   ]
  },
  {
   "cell_type": "markdown",
   "metadata": {},
   "source": [
    "### Maud Rise\n",
    "\n",
    "Does not intersect the CEED6 polygons."
   ]
  },
  {
   "cell_type": "markdown",
   "metadata": {},
   "source": [
    "### Comei\n",
    "\n",
    "Original area manually georeferenced from Ernst et al. (2017).\n",
    "\n",
    "No current compilation of present day exposure."
   ]
  },
  {
   "cell_type": "code",
   "execution_count": 21,
   "metadata": {},
   "outputs": [],
   "source": [
    "original_Comei = original[original['NAME_EVENT']=='Comei']"
   ]
  },
  {
   "cell_type": "code",
   "execution_count": 22,
   "metadata": {},
   "outputs": [],
   "source": [
    "summary.loc['Comei'] = \\\n",
    "    pd.Series({'name':'Comei',\n",
    "               'type':'basaltic',\n",
    "               'age':132,\n",
    "               'age ref.':'Zhu et al. (2009)',\n",
    "               'original area km2':np.sum(original_Comei['area_km2']),\n",
    "               'present area km2':np.nan,\n",
    "               'present area ref.':'n/a',\n",
    "               'present/original':np.nan,\n",
    "               'buried':'no'})"
   ]
  },
  {
   "cell_type": "markdown",
   "metadata": {},
   "source": [
    "### Bunbury\n",
    "\n",
    "Original area manually georeferenced from Ernst et al. (2017)."
   ]
  },
  {
   "cell_type": "code",
   "execution_count": 23,
   "metadata": {},
   "outputs": [],
   "source": [
    "original_Bunbury = original[original['NAME_EVENT']=='Bunbury']\n",
    "present_Bunbury = present[(present['X_NAME_EVE']=='Bunbury')&(present['X_NAME_UNI']=='Bunbury Basalt')]"
   ]
  },
  {
   "cell_type": "code",
   "execution_count": 24,
   "metadata": {},
   "outputs": [],
   "source": [
    "summary.loc['Bunbury'] = \\\n",
    "    pd.Series({'name':'Bunbury',\n",
    "               'type':'basaltic',\n",
    "               'age':132,\n",
    "               'age ref.':'Zhu et al. (2009)',\n",
    "               'original area km2':np.sum(original_Bunbury['area_km2']),\n",
    "               'present area km2':np.sum(present_Bunbury['area_km2']),\n",
    "               'present area ref.':'Thorne et al. (2014)',\n",
    "               'present/original':np.sum(present_Bunbury['area_km2']) / np.sum(original_Bunbury['area_km2']),\n",
    "               'buried':'no'})"
   ]
  },
  {
   "cell_type": "markdown",
   "metadata": {},
   "source": [
    "### EQUAMP"
   ]
  },
  {
   "cell_type": "code",
   "execution_count": 25,
   "metadata": {},
   "outputs": [],
   "source": [
    "original_EQUAMP = original[original['NAME_EVENT']=='EQUAMP (Equatorial Atlantic Magmatic Province)']\n",
    "present_EQUAMP = present[(present['X_NAME_EVE']=='130 Ma (EQUAMP)')|(present['X_NAME_EVE']=='EQUAMP (Equatorial Atlantic Magmatic Province)')]"
   ]
  },
  {
   "cell_type": "code",
   "execution_count": 26,
   "metadata": {},
   "outputs": [],
   "source": [
    "summary.loc['EQUAMP'] = \\\n",
    "    pd.Series({'name':'EQUAMP',\n",
    "               'type':'basaltic',\n",
    "               'age':131,\n",
    "               'age ref.':'Hollanda et al. (2016)',\n",
    "               'original area km2':np.sum(original_EQUAMP['area_km2']),\n",
    "               'present area km2':np.sum(present_EQUAMP['area_km2']),\n",
    "               'present area ref.':'Hollanda et al. (2016)',\n",
    "               'present/original':np.sum(present_EQUAMP['area_km2']) / np.sum(original_EQUAMP['area_km2']),\n",
    "               'buried':'no'})"
   ]
  },
  {
   "cell_type": "markdown",
   "metadata": {},
   "source": [
    "### Parana-Etendeka"
   ]
  },
  {
   "cell_type": "code",
   "execution_count": 27,
   "metadata": {},
   "outputs": [],
   "source": [
    "original_Parana_Etendeka = original[(original['AGE']==134)&(original['NAME_EVENT']!='EQUAMP (Equatorial Atlantic Magmatic Province)')]\n",
    "present_Parana = present[(present['X_BARCDAGE']==134)&(present['X_NAME_EVE']!='130 Ma (EQUAMP)')&(present['X_NAME_EVE']!='EQUAMP (Equatorial Atlantic Magmatic Province)')]\n",
    "present_Etendeka = present[present['X_BARCDAGE']==138]"
   ]
  },
  {
   "cell_type": "code",
   "execution_count": 28,
   "metadata": {},
   "outputs": [],
   "source": [
    "summary.loc['Parana_Etendeka'] = \\\n",
    "    pd.Series({'name':'Parana-Etendeka',\n",
    "               'type':'basaltic',\n",
    "               'age':135,\n",
    "               'age ref.':'Florisbal et al. (2014)',\n",
    "               'original area km2':np.sum(original_Parana_Etendeka['area_km2']),\n",
    "               'present area km2':np.sum(present_Parana['area_km2'])+np.sum(present_Etendeka['area_km2']),\n",
    "               'present area ref.':'Coffin et al. (2006)',\n",
    "               'present/original':(np.sum(present_Parana['area_km2'])+np.sum(present_Etendeka['area_km2'])) / np.sum(original_Parana_Etendeka['area_km2']),\n",
    "               'buried':'partial'})"
   ]
  },
  {
   "cell_type": "markdown",
   "metadata": {},
   "source": [
    "### Trap\n",
    "\n",
    "The only exposure of the Trap are dikes (no flood basalts)."
   ]
  },
  {
   "cell_type": "code",
   "execution_count": 29,
   "metadata": {},
   "outputs": [],
   "source": [
    "original_Trap = original[original['NAME_EVENT']=='Trap']"
   ]
  },
  {
   "cell_type": "code",
   "execution_count": 30,
   "metadata": {},
   "outputs": [],
   "source": [
    "summary.loc['Trap'] = \\\n",
    "    pd.Series({'name':'Trap',\n",
    "               'type':'basaltic',\n",
    "               'age':140,\n",
    "               'age ref.':'Ernst and Buchan (2001)',\n",
    "               'original area km2':np.sum(original_Trap['area_km2']),\n",
    "               'present area km2':0,\n",
    "               'present area ref.':'Ernst and Buchan (2001)',\n",
    "               'present/original':0,\n",
    "               'buried':'no'})"
   ]
  },
  {
   "cell_type": "markdown",
   "metadata": {},
   "source": [
    "### Sorachi\n",
    "\n",
    "Not included since it is an accreted oceanic plateau."
   ]
  },
  {
   "cell_type": "markdown",
   "metadata": {},
   "source": [
    "### NW Australia Margin\n",
    "\n",
    "There are offshore intrusions and basalts, but no current exposure on land."
   ]
  },
  {
   "cell_type": "code",
   "execution_count": 31,
   "metadata": {},
   "outputs": [],
   "source": [
    "original_NW_Aus = original[original['NAME_EVENT']=='NW Australian Margin']"
   ]
  },
  {
   "cell_type": "code",
   "execution_count": 32,
   "metadata": {},
   "outputs": [],
   "source": [
    "summary.loc['NW_Aus'] = \\\n",
    "    pd.Series({'name':'NW Australia Margin',\n",
    "               'type':'basaltic',\n",
    "               'age':160,\n",
    "               'age ref.':'Pirajno and Hoatson (2012)',\n",
    "               'original area km2':np.sum(original_NW_Aus['area_km2']),\n",
    "               'present area km2':0,\n",
    "               'present area ref.':'Coffin et al. (2006)',\n",
    "               'present/original':0,\n",
    "               'buried':'yes'})"
   ]
  },
  {
   "cell_type": "markdown",
   "metadata": {},
   "source": [
    "### Chon Aike\n",
    "\n",
    "Original area manually georeferenced from Ernst et al. (2017).\n",
    "\n",
    "No current compilation of present day exposure."
   ]
  },
  {
   "cell_type": "raw",
   "metadata": {},
   "source": [
    "original_Chon_Aike = original[original['NAME_EVENT']=='Chon Aike']"
   ]
  },
  {
   "cell_type": "raw",
   "metadata": {},
   "source": [
    "summary.loc['Chon_Aike'] = \\\n",
    "    pd.Series({'name':'Chon Aike',\n",
    "               'type':'silicic',\n",
    "               'age':183,\n",
    "               'age ref.':'Pankhurst et al. (1998)',\n",
    "               'original area km2':np.sum(original_Chon_Aike['area_km2']),\n",
    "               'present area km2':np.nan,\n",
    "               'present area ref.':'n/a',\n",
    "               'present/original':np.nan,\n",
    "               'buried':'no'})"
   ]
  },
  {
   "cell_type": "markdown",
   "metadata": {},
   "source": [
    "### Karoo\n",
    "\n",
    "Present day area includes both volcanics and sills."
   ]
  },
  {
   "cell_type": "code",
   "execution_count": 33,
   "metadata": {},
   "outputs": [],
   "source": [
    "original_Karoo = original[original['NAME_EVENT']=='Karoo']\n",
    "present_Karoo = present[present['REF_LINE']=='from ArcGIS compilation produced under LIPs Project contract to M. de Kock']\n",
    "present_Karoo = present_Karoo[present_Karoo['X_NAME_EVE']=='Karoo LIP']"
   ]
  },
  {
   "cell_type": "code",
   "execution_count": 34,
   "metadata": {},
   "outputs": [],
   "source": [
    "summary.loc['Karoo'] = \\\n",
    "    pd.Series({'name':'Karoo',\n",
    "               'type':'basaltic',\n",
    "               'age':183,\n",
    "               'age ref.':'Burgess et al. (2015)',\n",
    "               'original area km2':np.sum(original_Karoo['area_km2']),\n",
    "               'present area km2':np.sum(present_Karoo['area_km2']),\n",
    "               'present area ref.':'de Kock compilation',\n",
    "               'present/original':np.sum(present_Karoo['area_km2']) / np.sum(original_Karoo['area_km2']),\n",
    "               'buried':'no'})"
   ]
  },
  {
   "cell_type": "markdown",
   "metadata": {},
   "source": [
    "### Ferrar\n",
    "\n",
    "No current compilation of present day exposure."
   ]
  },
  {
   "cell_type": "code",
   "execution_count": 35,
   "metadata": {},
   "outputs": [],
   "source": [
    "original_Ferrar = original[original['NAME_EVENT']=='Ferrar']"
   ]
  },
  {
   "cell_type": "code",
   "execution_count": 36,
   "metadata": {},
   "outputs": [],
   "source": [
    "summary.loc['Ferrar'] = \\\n",
    "    pd.Series({'name':'Ferrar',\n",
    "               'type':'basaltic',\n",
    "               'age':183,\n",
    "               'age ref.':'Burgess et al. (2015)',\n",
    "               'original area km2':np.sum(original_Ferrar['area_km2']),\n",
    "               'present area km2':np.nan,\n",
    "               'present area ref.':'n/a',\n",
    "               'present/original':np.nan,\n",
    "               'buried':'no'})"
   ]
  },
  {
   "cell_type": "markdown",
   "metadata": {},
   "source": [
    "### Angayucham\n",
    "\n",
    "Not included since it is an accreted oceanic plateau."
   ]
  },
  {
   "cell_type": "markdown",
   "metadata": {},
   "source": [
    "### Wrangellia\n",
    "\n",
    "Not included since it is an accreted oceanic plateau."
   ]
  },
  {
   "cell_type": "markdown",
   "metadata": {},
   "source": [
    "### CAMP\n",
    "\n",
    "Present day extent includes lavas and sills."
   ]
  },
  {
   "cell_type": "code",
   "execution_count": 37,
   "metadata": {},
   "outputs": [],
   "source": [
    "original_CAMP = original[original['AGE']==201]\n",
    "present_CAMP = present[present['REF_LINE']=='from ArcGIS CAMP compilation of A. Marzoli & L. Parisio produced under contract to LIPs-Reconstruction Project']"
   ]
  },
  {
   "cell_type": "code",
   "execution_count": 38,
   "metadata": {},
   "outputs": [],
   "source": [
    "summary.loc['CAMP'] = \\\n",
    "    pd.Series({'name':'CAMP',\n",
    "               'type':'basaltic',\n",
    "               'age':201,\n",
    "               'age ref.':'Blackburn et al. (2013)',\n",
    "               'original area km2':np.sum(original_CAMP['area_km2']),\n",
    "               'present area km2':np.sum(present_CAMP['area_km2']),\n",
    "               'present area ref.':'Marzoli and Parisio compilation',\n",
    "               'present/original':np.sum(present_CAMP['area_km2']) / np.sum(original_CAMP['area_km2']),\n",
    "               'buried':'partial'})"
   ]
  },
  {
   "cell_type": "markdown",
   "metadata": {},
   "source": [
    "### Siberia\n",
    "\n",
    "We are using the PLATES compilation for now, but we could perhaps do a better job using LiMW."
   ]
  },
  {
   "cell_type": "code",
   "execution_count": 39,
   "metadata": {},
   "outputs": [],
   "source": [
    "original_Siberia = original[original['NAME_EVENT']=='Siberian Trap LIP']\n",
    "present_Siberia = present[present['X_NAME_EVE']=='Siberian Trap LIP']\n",
    "present_Siberia = present_Siberia[present_Siberia['REF_LINE']=='http://www.ig.utexas.edu/research/projects/plates/data/LIPS/Data/About.Data   M.F. Coffin, U. Texas']"
   ]
  },
  {
   "cell_type": "code",
   "execution_count": 40,
   "metadata": {},
   "outputs": [],
   "source": [
    "summary.loc['Siberia'] = \\\n",
    "    pd.Series({'name':'Siberia',\n",
    "               'type':'basaltic',\n",
    "               'age':252,\n",
    "               'age ref.':'Burgess and Bowring (2015)',\n",
    "               'original area km2':np.sum(original_Siberia['area_km2']),\n",
    "               'present area km2':np.sum(present_Siberia['area_km2']),\n",
    "               'present area ref.':'Coffin et al. (2006)',\n",
    "               'present/original':np.sum(present_Siberia['area_km2']) / np.sum(original_Siberia['area_km2']),\n",
    "               'buried':'no'})"
   ]
  },
  {
   "cell_type": "markdown",
   "metadata": {},
   "source": [
    "### Emeishan\n",
    "\n",
    "Present day polygons are slightly low resolution, which may be artificially increasing their area."
   ]
  },
  {
   "cell_type": "code",
   "execution_count": 41,
   "metadata": {},
   "outputs": [],
   "source": [
    "original_Emeishan = original[original['NAME_EVENT']=='Emeishan']\n",
    "present_Emeishan = present[present['X_LIPNAME']=='Emeishan basaltic volcanics']"
   ]
  },
  {
   "cell_type": "code",
   "execution_count": 42,
   "metadata": {},
   "outputs": [],
   "source": [
    "summary.loc['Emeishan'] = \\\n",
    "    pd.Series({'name':'Emeishan',\n",
    "               'type':'basaltic',\n",
    "               'age':259,\n",
    "               'age ref.':'Zhou et al. (2002)',\n",
    "               'original area km2':np.sum(original_Emeishan['area_km2']),\n",
    "               'present area km2':np.sum(present_Emeishan['area_km2']),\n",
    "               'present area ref.':'Coffin et al. (2006)',\n",
    "               'present/original':np.sum(present_Emeishan['area_km2']) / np.sum(original_Emeishan['area_km2']),\n",
    "               'buried':'no'})"
   ]
  },
  {
   "cell_type": "markdown",
   "metadata": {},
   "source": [
    "### Tarim\n",
    "\n",
    "No current compilation of present day exposure."
   ]
  },
  {
   "cell_type": "code",
   "execution_count": 43,
   "metadata": {},
   "outputs": [],
   "source": [
    "original_Tarim = original[(original['NAME_EVENT']=='Tarim (possibly incorrectly located)')|(original['NAME_EVENT']=='Tarim')]"
   ]
  },
  {
   "cell_type": "code",
   "execution_count": 44,
   "metadata": {},
   "outputs": [],
   "source": [
    "summary.loc['Tarim'] = \\\n",
    "    pd.Series({'name':'Tarim',\n",
    "               'type':'basaltic',\n",
    "               'age':290,\n",
    "               'age ref.':'Xu et al. (2014)',\n",
    "               'original area km2':np.sum(original_Tarim['area_km2']),\n",
    "               'present area km2':np.nan,\n",
    "               'present area ref.':'n/a',\n",
    "               'present/original':np.nan,\n",
    "               'buried':'no'})"
   ]
  },
  {
   "cell_type": "markdown",
   "metadata": {},
   "source": [
    "### Panjal-Qiangtang\n",
    "\n",
    "No current compilation of present day exposure."
   ]
  },
  {
   "cell_type": "code",
   "execution_count": 45,
   "metadata": {},
   "outputs": [],
   "source": [
    "original_Panjal_Qiangtang = original[(original['NAME_EVENT']=='Panjal')|(original['NAME_EVENT']=='South Qiangtang')]"
   ]
  },
  {
   "cell_type": "code",
   "execution_count": 46,
   "metadata": {},
   "outputs": [],
   "source": [
    "summary.loc['Panjal_Qiangtang'] = \\\n",
    "    pd.Series({'name':'Panjal-Qiangtang',\n",
    "               'type':'basaltic',\n",
    "               'age':283,\n",
    "               'age ref.':'Zhai et al. (2013)',\n",
    "               'original area km2':np.sum(original_Panjal_Qiangtang['area_km2']),\n",
    "               'present area km2':np.nan,\n",
    "               'present area ref.':'n/a',\n",
    "               'present/original':np.nan,\n",
    "               'buried':'no'})"
   ]
  },
  {
   "cell_type": "markdown",
   "metadata": {},
   "source": [
    "### Kennedy-Conners-Auburn\n",
    "\n",
    "Original area manually georeferenced from Ernst et al. (2017).\n",
    "\n",
    "No current compilation of present day exposure."
   ]
  },
  {
   "cell_type": "raw",
   "metadata": {},
   "source": [
    "original_KCA = original[original['NAME_EVENT']=='Kennedy-Conners-Auburn']"
   ]
  },
  {
   "cell_type": "raw",
   "metadata": {},
   "source": [
    "summary.loc['KCA'] = \\\n",
    "    pd.Series({'name':'Kennedy-Conners-Auburn',\n",
    "               'type':'silicic',\n",
    "               'age':305,\n",
    "               'age ref.':'Bryan and Ferrari (2013)',\n",
    "               'original area km2':np.sum(original_KNA['area_km2']),\n",
    "               'present area km2':np.nan,\n",
    "               'present area ref.':'n/a',\n",
    "               'present/original':np.nan,\n",
    "               'buried':'no'})"
   ]
  },
  {
   "cell_type": "markdown",
   "metadata": {},
   "source": [
    "### Magdalen\n",
    "\n",
    "No current compilation of present day exposure."
   ]
  },
  {
   "cell_type": "code",
   "execution_count": 47,
   "metadata": {},
   "outputs": [],
   "source": [
    "original_Magdalen = original[original['NAME_EVENT']=='Magdalen-Maritimes']"
   ]
  },
  {
   "cell_type": "code",
   "execution_count": 48,
   "metadata": {},
   "outputs": [],
   "source": [
    "summary.loc['Magdalen'] = \\\n",
    "    pd.Series({'name':'Magdalen',\n",
    "               'type':'basaltic',\n",
    "               'age':360,\n",
    "               'age ref.':'Brendan Murphy et al. (1999)',\n",
    "               'original area km2':np.sum(original_Magdalen['area_km2']),\n",
    "               'present area km2':np.nan,\n",
    "               'present area ref.':'n/a',\n",
    "               'present/original':np.nan,\n",
    "               'buried':'no'})"
   ]
  },
  {
   "cell_type": "markdown",
   "metadata": {},
   "source": [
    "### Vilyui\n",
    "\n",
    "No current compilation of present day exposure."
   ]
  },
  {
   "cell_type": "code",
   "execution_count": 49,
   "metadata": {},
   "outputs": [],
   "source": [
    "original_Vilyui = original[original['NAME_EVENT']=='Yakutsk-Vilyui']"
   ]
  },
  {
   "cell_type": "code",
   "execution_count": 50,
   "metadata": {},
   "outputs": [],
   "source": [
    "summary.loc['Vilyui'] = \\\n",
    "    pd.Series({'name':'Vilyui',\n",
    "               'type':'basaltic',\n",
    "               'age':374,\n",
    "               'age ref.':'Ricci et al. (2013)',\n",
    "               'original area km2':np.sum(original_Vilyui['area_km2']),\n",
    "               'present area km2':np.nan,\n",
    "               'present area ref.':'n/a',\n",
    "               'present/original':np.nan,\n",
    "               'buried':'no'})"
   ]
  },
  {
   "cell_type": "markdown",
   "metadata": {},
   "source": [
    "### Kola-Dnieper\n",
    "\n",
    "No current compilation of present day exposure."
   ]
  },
  {
   "cell_type": "code",
   "execution_count": 51,
   "metadata": {},
   "outputs": [],
   "source": [
    "original_Kola_Dnieper = original[original['NAME_EVENT']=='Kola-Dnieper [East European craton]']"
   ]
  },
  {
   "cell_type": "code",
   "execution_count": 52,
   "metadata": {},
   "outputs": [],
   "source": [
    "summary.loc['Kola_Dnieper'] = \\\n",
    "    pd.Series({'name':'Kola-Dnieper',\n",
    "               'type':'basaltic',\n",
    "               'age':380,\n",
    "               'age ref.':'Arzamastsev and Wu (2014)',\n",
    "               'original area km2':np.sum(original_Kola_Dnieper['area_km2']),\n",
    "               'present area km2':np.nan,\n",
    "               'present area ref.':'n/a',\n",
    "               'present/original':np.nan,\n",
    "               'buried':'no'})"
   ]
  },
  {
   "cell_type": "markdown",
   "metadata": {},
   "source": [
    "### Suordakh\n",
    "\n",
    "Original area manually georeferenced from Ernst et al. (2017).\n",
    "\n",
    "No current compilation of present day exposure."
   ]
  },
  {
   "cell_type": "code",
   "execution_count": 53,
   "metadata": {},
   "outputs": [],
   "source": [
    "original_Suordakh = original[original['NAME_EVENT']=='Suordakh']"
   ]
  },
  {
   "cell_type": "code",
   "execution_count": 54,
   "metadata": {},
   "outputs": [],
   "source": [
    "summary.loc['Suordakh'] = \\\n",
    "    pd.Series({'name':'Suordakh',\n",
    "               'type':'basaltic',\n",
    "               'age':450,\n",
    "               'age ref.':'Khudoley et al. (2013)',\n",
    "               'original area km2':np.sum(original_Suordakh['area_km2']),\n",
    "               'present area km2':np.nan,\n",
    "               'present area ref.':'n/a',\n",
    "               'present/original':np.nan,\n",
    "               'buried':'no'})"
   ]
  },
  {
   "cell_type": "markdown",
   "metadata": {},
   "source": [
    "### Kalkarindji\n",
    "\n",
    "Patchy/incomplete current compilation of present day exposure."
   ]
  },
  {
   "cell_type": "code",
   "execution_count": 55,
   "metadata": {},
   "outputs": [],
   "source": [
    "original_Kalkarindji = original[original['NAME_EVENT']=='Kalkarindji']\n",
    "present_Kalkarindji = present[present['X_NAME_EVE']=='Kalkarindji']"
   ]
  },
  {
   "cell_type": "code",
   "execution_count": 56,
   "metadata": {},
   "outputs": [],
   "source": [
    "summary.loc['Kalkarindji'] = \\\n",
    "    pd.Series({'name':'Kalkarindji',\n",
    "               'type':'basaltic',\n",
    "               'age':511,\n",
    "               'age ref.':'Jourdan et al. (2014)',\n",
    "               'original area km2':np.sum(original_Kalkarindji['area_km2']),\n",
    "               'present area km2':np.sum(present_Kalkarindji['area_km2']),\n",
    "               'present area ref.':'Thorne et al. (2014)',\n",
    "               'present/original':np.sum(present_Kalkarindji['area_km2']) / np.sum(original_Kalkarindji['area_km2']),\n",
    "               'buried':'no'})"
   ]
  },
  {
   "cell_type": "markdown",
   "metadata": {},
   "source": [
    "### Wichita\n",
    "\n",
    "Present day extent not examined."
   ]
  },
  {
   "cell_type": "code",
   "execution_count": 57,
   "metadata": {},
   "outputs": [],
   "source": [
    "original_Wichita = original[original['NAME_EVENT']=='Wichita Mountains']"
   ]
  },
  {
   "cell_type": "code",
   "execution_count": 58,
   "metadata": {},
   "outputs": [],
   "source": [
    "summary.loc['Wichita'] = \\\n",
    "    pd.Series({'name':'Wichita',\n",
    "               'type':'basaltic',\n",
    "               'age':535,\n",
    "               'age ref.':'Hanson et al. (2013)',\n",
    "               'original area km2':np.sum(original_Wichita['area_km2']),\n",
    "               'present area km2':np.nan,\n",
    "               'present area ref.':'n/a',\n",
    "               'present/original':np.nan,\n",
    "               'buried':'yes'})"
   ]
  },
  {
   "cell_type": "markdown",
   "metadata": {},
   "source": [
    "### Ouarzazate\n",
    "\n",
    "Present day extent not examined."
   ]
  },
  {
   "cell_type": "raw",
   "metadata": {},
   "source": [
    "original_Ouarzazate = original[original['NAME_EVENT']=='Ouarzazate']"
   ]
  },
  {
   "cell_type": "raw",
   "metadata": {},
   "source": [
    "summary.loc['Ouarzazate'] = \\\n",
    "    pd.Series({'name':'Ouarzazate',\n",
    "               'type':'silicic',\n",
    "               'age':570,\n",
    "               'age ref.':'Thomas et al. (2002)',\n",
    "               'original area km2':np.sum(original_Ouarzazate['area_km2']),\n",
    "               'present area km2':np.nan,\n",
    "               'present area ref.':'n/a',\n",
    "               'present/original':np.nan,\n",
    "               'buried':'no'})"
   ]
  },
  {
   "cell_type": "markdown",
   "metadata": {},
   "source": [
    "### CIMP\n",
    "\n",
    "Present day extent not examined.\n",
    "\n",
    "Consists of several parts with different ages."
   ]
  },
  {
   "cell_type": "code",
   "execution_count": 59,
   "metadata": {},
   "outputs": [],
   "source": [
    "original_CIMP_A = original[(original['NAME_EVENT']=='Catoctin')|\n",
    "                           (original['NAME_EVENT']=='Sept-Iles - Catoctin (Late Central-Iapetus)')|\n",
    "                           (original['NAME_EVENT']=='Grenville-Rideau (Middle Central-Iapetus)')]"
   ]
  },
  {
   "cell_type": "code",
   "execution_count": 60,
   "metadata": {},
   "outputs": [],
   "source": [
    "summary.loc['CIMP_A'] = \\\n",
    "    pd.Series({'name':'CIMP - A',\n",
    "               'type':'basaltic',\n",
    "               'age':580,\n",
    "               'age ref.':'Ernst and Bell (2010)',\n",
    "               'original area km2':np.sum(original_CIMP_A['area_km2']),\n",
    "               'present area km2':np.nan,\n",
    "               'present area ref.':'n/a',\n",
    "               'present/original':np.nan,\n",
    "               'buried':'no'})"
   ]
  },
  {
   "cell_type": "code",
   "execution_count": 61,
   "metadata": {},
   "outputs": [],
   "source": [
    "original_CIMP_B = original[(original['NAME_EVENT']=='Long Range (Early Central-Iapetus)')|\n",
    "                           (original['NAME_EVENT']=='Baltoscandian - Egersund')]"
   ]
  },
  {
   "cell_type": "code",
   "execution_count": 62,
   "metadata": {},
   "outputs": [],
   "source": [
    "summary.loc['CIMP_B'] = \\\n",
    "    pd.Series({'name':'CIMP - B',\n",
    "               'type':'basaltic',\n",
    "               'age':615,\n",
    "               'age ref.':'Ernst and Bell (2010)',\n",
    "               'original area km2':np.sum(original_CIMP_B['area_km2']),\n",
    "               'present area km2':np.nan,\n",
    "               'present area ref.':'n/a',\n",
    "               'present/original':np.nan,\n",
    "               'buried':'no'})"
   ]
  },
  {
   "cell_type": "markdown",
   "metadata": {},
   "source": [
    "### Franklin\n",
    "\n",
    "Could be filtered by \"DESCRIPT\" field to be volcanics - including sills and volcanics right now"
   ]
  },
  {
   "cell_type": "code",
   "execution_count": 63,
   "metadata": {},
   "outputs": [],
   "source": [
    "original_Franklin = original[original['NAME_EVENT']=='Franklin']\n",
    "present_Franklin = present[present['X_NAME_EVE']=='Franklin']"
   ]
  },
  {
   "cell_type": "code",
   "execution_count": 64,
   "metadata": {},
   "outputs": [],
   "source": [
    "summary.loc['Franklin'] = \\\n",
    "    pd.Series({'name':'Franklin',\n",
    "               'type':'basaltic',\n",
    "               'age':720,\n",
    "               'age ref.':'Denyszyn et al. (2009)',\n",
    "               'original area km2':np.sum(original_Franklin['area_km2']),\n",
    "               'present area km2':np.sum(present_Franklin['area_km2']),\n",
    "               'present area ref.':'Buchan and Ernst (2004)',\n",
    "               'present/original':np.sum(present_Franklin['area_km2']) / np.sum(original_Franklin['area_km2']),\n",
    "               'buried':'no'})"
   ]
  },
  {
   "cell_type": "markdown",
   "metadata": {},
   "source": [
    "### Irkutsk"
   ]
  },
  {
   "cell_type": "code",
   "execution_count": 65,
   "metadata": {},
   "outputs": [],
   "source": [
    "original_Irkutsk = original[original['NAME_EVENT']=='Irkutsk']"
   ]
  },
  {
   "cell_type": "code",
   "execution_count": 66,
   "metadata": {},
   "outputs": [],
   "source": [
    "summary.loc['Irkutsk'] = \\\n",
    "    pd.Series({'name':'Irkutsk',\n",
    "               'type':'basaltic',\n",
    "               'age':724,\n",
    "               'age ref.':'Ernst et al. (2016)',\n",
    "               'original area km2':np.sum(original_Irkutsk['area_km2']),\n",
    "               'present area km2':np.nan,\n",
    "               'present area ref.':'n/a',\n",
    "               'present/original':np.nan,\n",
    "               'buried':'no'})"
   ]
  },
  {
   "cell_type": "markdown",
   "metadata": {},
   "source": [
    "### Mundine Well"
   ]
  },
  {
   "cell_type": "code",
   "execution_count": 67,
   "metadata": {},
   "outputs": [],
   "source": [
    "original_Mundine_Well = original[original['NAME_EVENT']=='Mundine Well']"
   ]
  },
  {
   "cell_type": "code",
   "execution_count": 68,
   "metadata": {},
   "outputs": [],
   "source": [
    "summary.loc['Mundine_Well'] = \\\n",
    "    pd.Series({'name':'Mundine Well',\n",
    "               'type':'basaltic',\n",
    "               'age':755,\n",
    "               'age ref.':'Wingate and Giddings (2000)',\n",
    "               'original area km2':np.sum(original_Mundine_Well['area_km2']),\n",
    "               'present area km2':np.nan,\n",
    "               'present area ref.':'n/a',\n",
    "               'present/original':np.nan,\n",
    "               'buried':'no'})"
   ]
  },
  {
   "cell_type": "markdown",
   "metadata": {},
   "source": [
    "### Gunbarrel"
   ]
  },
  {
   "cell_type": "code",
   "execution_count": 69,
   "metadata": {},
   "outputs": [],
   "source": [
    "original_Gunbarrel = original[original['NAME_EVENT']=='Gunbarrel (Western North America)']"
   ]
  },
  {
   "cell_type": "code",
   "execution_count": 70,
   "metadata": {},
   "outputs": [],
   "source": [
    "summary.loc['Gunbarrel'] = \\\n",
    "    pd.Series({'name':'Gunbarrel',\n",
    "               'type':'basaltic',\n",
    "               'age':780,\n",
    "               'age ref.':'Harlan et al. (2003)',\n",
    "               'original area km2':np.sum(original_Gunbarrel['area_km2']),\n",
    "               'present area km2':np.nan,\n",
    "               'present area ref.':'n/a',\n",
    "               'present/original':np.nan,\n",
    "               'buried':'no'})"
   ]
  },
  {
   "cell_type": "markdown",
   "metadata": {},
   "source": [
    "### SWCUC"
   ]
  },
  {
   "cell_type": "code",
   "execution_count": 71,
   "metadata": {},
   "outputs": [],
   "source": [
    "original_SWCUC = original[original['NAME_EVENT']=='South China events (825-750 Ma)']"
   ]
  },
  {
   "cell_type": "code",
   "execution_count": 72,
   "metadata": {},
   "outputs": [],
   "source": [
    "summary.loc['SWCUC'] = \\\n",
    "    pd.Series({'name':'SWCUC',\n",
    "               'type':'basaltic',\n",
    "               'age':821,\n",
    "               'age ref.':'Wang et al. (2016)',\n",
    "               'original area km2':np.sum(original_SWCUC['area_km2']),\n",
    "               'present area km2':np.nan,\n",
    "               'present area ref.':'n/a',\n",
    "               'present/original':np.nan,\n",
    "               'buried':'no'})"
   ]
  },
  {
   "cell_type": "markdown",
   "metadata": {},
   "source": [
    "## Analysis"
   ]
  },
  {
   "cell_type": "code",
   "execution_count": 73,
   "metadata": {},
   "outputs": [
    {
     "data": {
      "text/html": [
       "<div>\n",
       "<style scoped>\n",
       "    .dataframe tbody tr th:only-of-type {\n",
       "        vertical-align: middle;\n",
       "    }\n",
       "\n",
       "    .dataframe tbody tr th {\n",
       "        vertical-align: top;\n",
       "    }\n",
       "\n",
       "    .dataframe thead th {\n",
       "        text-align: right;\n",
       "    }\n",
       "</style>\n",
       "<table border=\"1\" class=\"dataframe\">\n",
       "  <thead>\n",
       "    <tr style=\"text-align: right;\">\n",
       "      <th></th>\n",
       "      <th>name</th>\n",
       "      <th>type</th>\n",
       "      <th>age</th>\n",
       "      <th>age ref.</th>\n",
       "      <th>original area km2</th>\n",
       "      <th>present area km2</th>\n",
       "      <th>present area ref.</th>\n",
       "      <th>present/original</th>\n",
       "      <th>buried</th>\n",
       "    </tr>\n",
       "  </thead>\n",
       "  <tbody>\n",
       "    <tr>\n",
       "      <th>CRB</th>\n",
       "      <td>Columbia River</td>\n",
       "      <td>basaltic</td>\n",
       "      <td>16.3</td>\n",
       "      <td>Kasbohm and Schoene (2018)</td>\n",
       "      <td>6.764210e+05</td>\n",
       "      <td>375545</td>\n",
       "      <td>Buchan and Ernst (2004)</td>\n",
       "      <td>0.555194</td>\n",
       "      <td>no</td>\n",
       "    </tr>\n",
       "    <tr>\n",
       "      <th>Afar</th>\n",
       "      <td>Afar</td>\n",
       "      <td>basaltic</td>\n",
       "      <td>30.0</td>\n",
       "      <td>Courtillot and Renne (2003)</td>\n",
       "      <td>2.046999e+06</td>\n",
       "      <td>631289</td>\n",
       "      <td>Coffin et al. (2006)</td>\n",
       "      <td>0.308397</td>\n",
       "      <td>partial</td>\n",
       "    </tr>\n",
       "    <tr>\n",
       "      <th>NAIP</th>\n",
       "      <td>NAIP</td>\n",
       "      <td>basaltic</td>\n",
       "      <td>62.0</td>\n",
       "      <td>Larsen et al. (2015)</td>\n",
       "      <td>1.071541e+06</td>\n",
       "      <td>291288</td>\n",
       "      <td>Buchan and Ernst (2004), Coffin et al. (2006)</td>\n",
       "      <td>0.271840</td>\n",
       "      <td>partial</td>\n",
       "    </tr>\n",
       "    <tr>\n",
       "      <th>Deccan</th>\n",
       "      <td>Deccan</td>\n",
       "      <td>basaltic</td>\n",
       "      <td>66.0</td>\n",
       "      <td>Schoene et al. (2014)</td>\n",
       "      <td>8.311900e+05</td>\n",
       "      <td>561434</td>\n",
       "      <td>Coffin et al. (2006)</td>\n",
       "      <td>0.675458</td>\n",
       "      <td>no</td>\n",
       "    </tr>\n",
       "    <tr>\n",
       "      <th>Seychelles</th>\n",
       "      <td>Seychelles</td>\n",
       "      <td>basaltic</td>\n",
       "      <td>66.0</td>\n",
       "      <td>Schoene et al. (2014)</td>\n",
       "      <td>4.561983e+05</td>\n",
       "      <td>0</td>\n",
       "      <td>Coffin et al. (2006)</td>\n",
       "      <td>0.000000</td>\n",
       "      <td>yes</td>\n",
       "    </tr>\n",
       "    <tr>\n",
       "      <th>Madagascar</th>\n",
       "      <td>Madagascar</td>\n",
       "      <td>basaltic</td>\n",
       "      <td>90.0</td>\n",
       "      <td>Cucciniello (2010)</td>\n",
       "      <td>6.270722e+05</td>\n",
       "      <td>31289</td>\n",
       "      <td>Coffin et al. (2006)</td>\n",
       "      <td>0.049897</td>\n",
       "      <td>no</td>\n",
       "    </tr>\n",
       "    <tr>\n",
       "      <th>Caribbean_Colombian</th>\n",
       "      <td>Caribbean-Colombian</td>\n",
       "      <td>basaltic</td>\n",
       "      <td>94.0</td>\n",
       "      <td>Loewen et al. (2013)</td>\n",
       "      <td>7.122517e+05</td>\n",
       "      <td>126149</td>\n",
       "      <td>Coffin et al. (2006)</td>\n",
       "      <td>0.177113</td>\n",
       "      <td>no</td>\n",
       "    </tr>\n",
       "    <tr>\n",
       "      <th>HALIP</th>\n",
       "      <td>HALIP</td>\n",
       "      <td>basaltic</td>\n",
       "      <td>95.0</td>\n",
       "      <td>Kingsbury et al. (2018)</td>\n",
       "      <td>3.597497e+06</td>\n",
       "      <td>149571</td>\n",
       "      <td>Moosdorf and Hartmann (2015)</td>\n",
       "      <td>0.041576</td>\n",
       "      <td>no</td>\n",
       "    </tr>\n",
       "    <tr>\n",
       "      <th>EQUAMP</th>\n",
       "      <td>EQUAMP</td>\n",
       "      <td>basaltic</td>\n",
       "      <td>131.0</td>\n",
       "      <td>Hollanda et al. (2016)</td>\n",
       "      <td>6.602910e+05</td>\n",
       "      <td>7908</td>\n",
       "      <td>Hollanda et al. (2016)</td>\n",
       "      <td>0.011977</td>\n",
       "      <td>no</td>\n",
       "    </tr>\n",
       "    <tr>\n",
       "      <th>Comei</th>\n",
       "      <td>Comei</td>\n",
       "      <td>basaltic</td>\n",
       "      <td>132.0</td>\n",
       "      <td>Zhu et al. (2009)</td>\n",
       "      <td>1.054453e+05</td>\n",
       "      <td>NaN</td>\n",
       "      <td>n/a</td>\n",
       "      <td>NaN</td>\n",
       "      <td>no</td>\n",
       "    </tr>\n",
       "    <tr>\n",
       "      <th>Bunbury</th>\n",
       "      <td>Bunbury</td>\n",
       "      <td>basaltic</td>\n",
       "      <td>132.0</td>\n",
       "      <td>Zhu et al. (2009)</td>\n",
       "      <td>3.164966e+04</td>\n",
       "      <td>1636</td>\n",
       "      <td>Thorne et al. (2014)</td>\n",
       "      <td>0.051691</td>\n",
       "      <td>no</td>\n",
       "    </tr>\n",
       "    <tr>\n",
       "      <th>Parana_Etendeka</th>\n",
       "      <td>Parana-Etendeka</td>\n",
       "      <td>basaltic</td>\n",
       "      <td>135.0</td>\n",
       "      <td>Florisbal et al. (2014)</td>\n",
       "      <td>3.120779e+06</td>\n",
       "      <td>403542</td>\n",
       "      <td>Coffin et al. (2006)</td>\n",
       "      <td>0.129308</td>\n",
       "      <td>partial</td>\n",
       "    </tr>\n",
       "    <tr>\n",
       "      <th>Trap</th>\n",
       "      <td>Trap</td>\n",
       "      <td>basaltic</td>\n",
       "      <td>140.0</td>\n",
       "      <td>Ernst and Buchan (2001)</td>\n",
       "      <td>2.969846e+04</td>\n",
       "      <td>0</td>\n",
       "      <td>Ernst and Buchan (2001)</td>\n",
       "      <td>0.000000</td>\n",
       "      <td>no</td>\n",
       "    </tr>\n",
       "    <tr>\n",
       "      <th>NW_Aus</th>\n",
       "      <td>NW Australia Margin</td>\n",
       "      <td>basaltic</td>\n",
       "      <td>160.0</td>\n",
       "      <td>Pirajno and Hoatson (2012)</td>\n",
       "      <td>6.190713e+05</td>\n",
       "      <td>0</td>\n",
       "      <td>Coffin et al. (2006)</td>\n",
       "      <td>0.000000</td>\n",
       "      <td>yes</td>\n",
       "    </tr>\n",
       "    <tr>\n",
       "      <th>Karoo</th>\n",
       "      <td>Karoo</td>\n",
       "      <td>basaltic</td>\n",
       "      <td>183.0</td>\n",
       "      <td>Burgess et al. (2015)</td>\n",
       "      <td>3.206784e+06</td>\n",
       "      <td>149049</td>\n",
       "      <td>de Kock compilation</td>\n",
       "      <td>0.046479</td>\n",
       "      <td>no</td>\n",
       "    </tr>\n",
       "    <tr>\n",
       "      <th>Ferrar</th>\n",
       "      <td>Ferrar</td>\n",
       "      <td>basaltic</td>\n",
       "      <td>183.0</td>\n",
       "      <td>Burgess et al. (2015)</td>\n",
       "      <td>1.788652e+05</td>\n",
       "      <td>NaN</td>\n",
       "      <td>n/a</td>\n",
       "      <td>NaN</td>\n",
       "      <td>no</td>\n",
       "    </tr>\n",
       "    <tr>\n",
       "      <th>CAMP</th>\n",
       "      <td>CAMP</td>\n",
       "      <td>basaltic</td>\n",
       "      <td>201.0</td>\n",
       "      <td>Blackburn et al. (2013)</td>\n",
       "      <td>1.145679e+07</td>\n",
       "      <td>230616</td>\n",
       "      <td>Marzoli and Parisio compilation</td>\n",
       "      <td>0.020129</td>\n",
       "      <td>partial</td>\n",
       "    </tr>\n",
       "    <tr>\n",
       "      <th>Siberia</th>\n",
       "      <td>Siberia</td>\n",
       "      <td>basaltic</td>\n",
       "      <td>252.0</td>\n",
       "      <td>Burgess and Bowring (2015)</td>\n",
       "      <td>3.459274e+06</td>\n",
       "      <td>469523</td>\n",
       "      <td>Coffin et al. (2006)</td>\n",
       "      <td>0.135729</td>\n",
       "      <td>no</td>\n",
       "    </tr>\n",
       "    <tr>\n",
       "      <th>Emeishan</th>\n",
       "      <td>Emeishan</td>\n",
       "      <td>basaltic</td>\n",
       "      <td>259.0</td>\n",
       "      <td>Zhou et al. (2002)</td>\n",
       "      <td>7.058185e+05</td>\n",
       "      <td>60180</td>\n",
       "      <td>Coffin et al. (2006)</td>\n",
       "      <td>0.085263</td>\n",
       "      <td>no</td>\n",
       "    </tr>\n",
       "    <tr>\n",
       "      <th>Panjal_Qiangtang</th>\n",
       "      <td>Panjal-Qiangtang</td>\n",
       "      <td>basaltic</td>\n",
       "      <td>283.0</td>\n",
       "      <td>Zhai et al. (2013)</td>\n",
       "      <td>1.110581e+05</td>\n",
       "      <td>NaN</td>\n",
       "      <td>n/a</td>\n",
       "      <td>NaN</td>\n",
       "      <td>no</td>\n",
       "    </tr>\n",
       "    <tr>\n",
       "      <th>Tarim</th>\n",
       "      <td>Tarim</td>\n",
       "      <td>basaltic</td>\n",
       "      <td>290.0</td>\n",
       "      <td>Xu et al. (2014)</td>\n",
       "      <td>3.545110e+05</td>\n",
       "      <td>NaN</td>\n",
       "      <td>n/a</td>\n",
       "      <td>NaN</td>\n",
       "      <td>no</td>\n",
       "    </tr>\n",
       "    <tr>\n",
       "      <th>Magdalen</th>\n",
       "      <td>Magdalen</td>\n",
       "      <td>basaltic</td>\n",
       "      <td>360.0</td>\n",
       "      <td>Brendan Murphy et al. (1999)</td>\n",
       "      <td>4.218432e+05</td>\n",
       "      <td>NaN</td>\n",
       "      <td>n/a</td>\n",
       "      <td>NaN</td>\n",
       "      <td>no</td>\n",
       "    </tr>\n",
       "    <tr>\n",
       "      <th>Vilyui</th>\n",
       "      <td>Vilyui</td>\n",
       "      <td>basaltic</td>\n",
       "      <td>374.0</td>\n",
       "      <td>Ricci et al. (2013)</td>\n",
       "      <td>1.143822e+06</td>\n",
       "      <td>NaN</td>\n",
       "      <td>n/a</td>\n",
       "      <td>NaN</td>\n",
       "      <td>no</td>\n",
       "    </tr>\n",
       "    <tr>\n",
       "      <th>Kola_Dnieper</th>\n",
       "      <td>Kola-Dnieper</td>\n",
       "      <td>basaltic</td>\n",
       "      <td>380.0</td>\n",
       "      <td>Arzamastsev and Wu (2014)</td>\n",
       "      <td>5.899074e+06</td>\n",
       "      <td>NaN</td>\n",
       "      <td>n/a</td>\n",
       "      <td>NaN</td>\n",
       "      <td>no</td>\n",
       "    </tr>\n",
       "    <tr>\n",
       "      <th>Suordakh</th>\n",
       "      <td>Suordakh</td>\n",
       "      <td>basaltic</td>\n",
       "      <td>450.0</td>\n",
       "      <td>Khudoley et al. (2013)</td>\n",
       "      <td>1.820970e+04</td>\n",
       "      <td>NaN</td>\n",
       "      <td>n/a</td>\n",
       "      <td>NaN</td>\n",
       "      <td>no</td>\n",
       "    </tr>\n",
       "    <tr>\n",
       "      <th>Kalkarindji</th>\n",
       "      <td>Kalkarindji</td>\n",
       "      <td>basaltic</td>\n",
       "      <td>511.0</td>\n",
       "      <td>Jourdan et al. (2014)</td>\n",
       "      <td>3.543990e+06</td>\n",
       "      <td>168694</td>\n",
       "      <td>Thorne et al. (2014)</td>\n",
       "      <td>0.047600</td>\n",
       "      <td>no</td>\n",
       "    </tr>\n",
       "    <tr>\n",
       "      <th>Wichita</th>\n",
       "      <td>Wichita</td>\n",
       "      <td>basaltic</td>\n",
       "      <td>535.0</td>\n",
       "      <td>Hanson et al. (2013)</td>\n",
       "      <td>1.813143e+05</td>\n",
       "      <td>NaN</td>\n",
       "      <td>n/a</td>\n",
       "      <td>NaN</td>\n",
       "      <td>yes</td>\n",
       "    </tr>\n",
       "    <tr>\n",
       "      <th>CIMP_A</th>\n",
       "      <td>CIMP - A</td>\n",
       "      <td>basaltic</td>\n",
       "      <td>580.0</td>\n",
       "      <td>Ernst and Bell (2010)</td>\n",
       "      <td>1.830840e+05</td>\n",
       "      <td>NaN</td>\n",
       "      <td>n/a</td>\n",
       "      <td>NaN</td>\n",
       "      <td>no</td>\n",
       "    </tr>\n",
       "    <tr>\n",
       "      <th>CIMP_B</th>\n",
       "      <td>CIMP - B</td>\n",
       "      <td>basaltic</td>\n",
       "      <td>615.0</td>\n",
       "      <td>Ernst and Bell (2010)</td>\n",
       "      <td>1.588159e+05</td>\n",
       "      <td>NaN</td>\n",
       "      <td>n/a</td>\n",
       "      <td>NaN</td>\n",
       "      <td>no</td>\n",
       "    </tr>\n",
       "    <tr>\n",
       "      <th>Franklin</th>\n",
       "      <td>Franklin</td>\n",
       "      <td>basaltic</td>\n",
       "      <td>720.0</td>\n",
       "      <td>Denyszyn et al. (2009)</td>\n",
       "      <td>2.617057e+06</td>\n",
       "      <td>43492</td>\n",
       "      <td>Buchan and Ernst (2004)</td>\n",
       "      <td>0.016619</td>\n",
       "      <td>no</td>\n",
       "    </tr>\n",
       "    <tr>\n",
       "      <th>Irkutsk</th>\n",
       "      <td>Irkutsk</td>\n",
       "      <td>basaltic</td>\n",
       "      <td>724.0</td>\n",
       "      <td>Ernst et al. (2016)</td>\n",
       "      <td>3.034952e+05</td>\n",
       "      <td>NaN</td>\n",
       "      <td>n/a</td>\n",
       "      <td>NaN</td>\n",
       "      <td>no</td>\n",
       "    </tr>\n",
       "    <tr>\n",
       "      <th>Mundine_Well</th>\n",
       "      <td>Mundine Well</td>\n",
       "      <td>basaltic</td>\n",
       "      <td>755.0</td>\n",
       "      <td>Wingate and Giddings (2000)</td>\n",
       "      <td>3.785801e+05</td>\n",
       "      <td>NaN</td>\n",
       "      <td>n/a</td>\n",
       "      <td>NaN</td>\n",
       "      <td>no</td>\n",
       "    </tr>\n",
       "    <tr>\n",
       "      <th>Gunbarrel</th>\n",
       "      <td>Gunbarrel</td>\n",
       "      <td>basaltic</td>\n",
       "      <td>780.0</td>\n",
       "      <td>Harlan et al. (2003)</td>\n",
       "      <td>8.333730e+05</td>\n",
       "      <td>NaN</td>\n",
       "      <td>n/a</td>\n",
       "      <td>NaN</td>\n",
       "      <td>no</td>\n",
       "    </tr>\n",
       "    <tr>\n",
       "      <th>SWCUC</th>\n",
       "      <td>SWCUC</td>\n",
       "      <td>basaltic</td>\n",
       "      <td>821.0</td>\n",
       "      <td>Wang et al. (2016)</td>\n",
       "      <td>2.109137e+06</td>\n",
       "      <td>NaN</td>\n",
       "      <td>n/a</td>\n",
       "      <td>NaN</td>\n",
       "      <td>no</td>\n",
       "    </tr>\n",
       "  </tbody>\n",
       "</table>\n",
       "</div>"
      ],
      "text/plain": [
       "                                    name      type    age  \\\n",
       "CRB                       Columbia River  basaltic   16.3   \n",
       "Afar                                Afar  basaltic   30.0   \n",
       "NAIP                                NAIP  basaltic   62.0   \n",
       "Deccan                            Deccan  basaltic   66.0   \n",
       "Seychelles                    Seychelles  basaltic   66.0   \n",
       "Madagascar                    Madagascar  basaltic   90.0   \n",
       "Caribbean_Colombian  Caribbean-Colombian  basaltic   94.0   \n",
       "HALIP                              HALIP  basaltic   95.0   \n",
       "EQUAMP                            EQUAMP  basaltic  131.0   \n",
       "Comei                              Comei  basaltic  132.0   \n",
       "Bunbury                          Bunbury  basaltic  132.0   \n",
       "Parana_Etendeka          Parana-Etendeka  basaltic  135.0   \n",
       "Trap                                Trap  basaltic  140.0   \n",
       "NW_Aus               NW Australia Margin  basaltic  160.0   \n",
       "Karoo                              Karoo  basaltic  183.0   \n",
       "Ferrar                            Ferrar  basaltic  183.0   \n",
       "CAMP                                CAMP  basaltic  201.0   \n",
       "Siberia                          Siberia  basaltic  252.0   \n",
       "Emeishan                        Emeishan  basaltic  259.0   \n",
       "Panjal_Qiangtang        Panjal-Qiangtang  basaltic  283.0   \n",
       "Tarim                              Tarim  basaltic  290.0   \n",
       "Magdalen                        Magdalen  basaltic  360.0   \n",
       "Vilyui                            Vilyui  basaltic  374.0   \n",
       "Kola_Dnieper                Kola-Dnieper  basaltic  380.0   \n",
       "Suordakh                        Suordakh  basaltic  450.0   \n",
       "Kalkarindji                  Kalkarindji  basaltic  511.0   \n",
       "Wichita                          Wichita  basaltic  535.0   \n",
       "CIMP_A                          CIMP - A  basaltic  580.0   \n",
       "CIMP_B                          CIMP - B  basaltic  615.0   \n",
       "Franklin                        Franklin  basaltic  720.0   \n",
       "Irkutsk                          Irkutsk  basaltic  724.0   \n",
       "Mundine_Well                Mundine Well  basaltic  755.0   \n",
       "Gunbarrel                      Gunbarrel  basaltic  780.0   \n",
       "SWCUC                              SWCUC  basaltic  821.0   \n",
       "\n",
       "                                         age ref.  original area km2  \\\n",
       "CRB                    Kasbohm and Schoene (2018)       6.764210e+05   \n",
       "Afar                  Courtillot and Renne (2003)       2.046999e+06   \n",
       "NAIP                         Larsen et al. (2015)       1.071541e+06   \n",
       "Deccan                      Schoene et al. (2014)       8.311900e+05   \n",
       "Seychelles                  Schoene et al. (2014)       4.561983e+05   \n",
       "Madagascar                     Cucciniello (2010)       6.270722e+05   \n",
       "Caribbean_Colombian          Loewen et al. (2013)       7.122517e+05   \n",
       "HALIP                     Kingsbury et al. (2018)       3.597497e+06   \n",
       "EQUAMP                     Hollanda et al. (2016)       6.602910e+05   \n",
       "Comei                           Zhu et al. (2009)       1.054453e+05   \n",
       "Bunbury                         Zhu et al. (2009)       3.164966e+04   \n",
       "Parana_Etendeka           Florisbal et al. (2014)       3.120779e+06   \n",
       "Trap                      Ernst and Buchan (2001)       2.969846e+04   \n",
       "NW_Aus                 Pirajno and Hoatson (2012)       6.190713e+05   \n",
       "Karoo                       Burgess et al. (2015)       3.206784e+06   \n",
       "Ferrar                      Burgess et al. (2015)       1.788652e+05   \n",
       "CAMP                      Blackburn et al. (2013)       1.145679e+07   \n",
       "Siberia                Burgess and Bowring (2015)       3.459274e+06   \n",
       "Emeishan                       Zhou et al. (2002)       7.058185e+05   \n",
       "Panjal_Qiangtang               Zhai et al. (2013)       1.110581e+05   \n",
       "Tarim                            Xu et al. (2014)       3.545110e+05   \n",
       "Magdalen             Brendan Murphy et al. (1999)       4.218432e+05   \n",
       "Vilyui                        Ricci et al. (2013)       1.143822e+06   \n",
       "Kola_Dnieper            Arzamastsev and Wu (2014)       5.899074e+06   \n",
       "Suordakh                   Khudoley et al. (2013)       1.820970e+04   \n",
       "Kalkarindji                 Jourdan et al. (2014)       3.543990e+06   \n",
       "Wichita                      Hanson et al. (2013)       1.813143e+05   \n",
       "CIMP_A                      Ernst and Bell (2010)       1.830840e+05   \n",
       "CIMP_B                      Ernst and Bell (2010)       1.588159e+05   \n",
       "Franklin                   Denyszyn et al. (2009)       2.617057e+06   \n",
       "Irkutsk                       Ernst et al. (2016)       3.034952e+05   \n",
       "Mundine_Well          Wingate and Giddings (2000)       3.785801e+05   \n",
       "Gunbarrel                    Harlan et al. (2003)       8.333730e+05   \n",
       "SWCUC                          Wang et al. (2016)       2.109137e+06   \n",
       "\n",
       "                    present area km2  \\\n",
       "CRB                           375545   \n",
       "Afar                          631289   \n",
       "NAIP                          291288   \n",
       "Deccan                        561434   \n",
       "Seychelles                         0   \n",
       "Madagascar                     31289   \n",
       "Caribbean_Colombian           126149   \n",
       "HALIP                         149571   \n",
       "EQUAMP                          7908   \n",
       "Comei                            NaN   \n",
       "Bunbury                         1636   \n",
       "Parana_Etendeka               403542   \n",
       "Trap                               0   \n",
       "NW_Aus                             0   \n",
       "Karoo                         149049   \n",
       "Ferrar                           NaN   \n",
       "CAMP                          230616   \n",
       "Siberia                       469523   \n",
       "Emeishan                       60180   \n",
       "Panjal_Qiangtang                 NaN   \n",
       "Tarim                            NaN   \n",
       "Magdalen                         NaN   \n",
       "Vilyui                           NaN   \n",
       "Kola_Dnieper                     NaN   \n",
       "Suordakh                         NaN   \n",
       "Kalkarindji                   168694   \n",
       "Wichita                          NaN   \n",
       "CIMP_A                           NaN   \n",
       "CIMP_B                           NaN   \n",
       "Franklin                       43492   \n",
       "Irkutsk                          NaN   \n",
       "Mundine_Well                     NaN   \n",
       "Gunbarrel                        NaN   \n",
       "SWCUC                            NaN   \n",
       "\n",
       "                                                 present area ref.  \\\n",
       "CRB                                        Buchan and Ernst (2004)   \n",
       "Afar                                          Coffin et al. (2006)   \n",
       "NAIP                 Buchan and Ernst (2004), Coffin et al. (2006)   \n",
       "Deccan                                        Coffin et al. (2006)   \n",
       "Seychelles                                    Coffin et al. (2006)   \n",
       "Madagascar                                    Coffin et al. (2006)   \n",
       "Caribbean_Colombian                           Coffin et al. (2006)   \n",
       "HALIP                                 Moosdorf and Hartmann (2015)   \n",
       "EQUAMP                                      Hollanda et al. (2016)   \n",
       "Comei                                                          n/a   \n",
       "Bunbury                                       Thorne et al. (2014)   \n",
       "Parana_Etendeka                               Coffin et al. (2006)   \n",
       "Trap                                       Ernst and Buchan (2001)   \n",
       "NW_Aus                                        Coffin et al. (2006)   \n",
       "Karoo                                          de Kock compilation   \n",
       "Ferrar                                                         n/a   \n",
       "CAMP                               Marzoli and Parisio compilation   \n",
       "Siberia                                       Coffin et al. (2006)   \n",
       "Emeishan                                      Coffin et al. (2006)   \n",
       "Panjal_Qiangtang                                               n/a   \n",
       "Tarim                                                          n/a   \n",
       "Magdalen                                                       n/a   \n",
       "Vilyui                                                         n/a   \n",
       "Kola_Dnieper                                                   n/a   \n",
       "Suordakh                                                       n/a   \n",
       "Kalkarindji                                   Thorne et al. (2014)   \n",
       "Wichita                                                        n/a   \n",
       "CIMP_A                                                         n/a   \n",
       "CIMP_B                                                         n/a   \n",
       "Franklin                                   Buchan and Ernst (2004)   \n",
       "Irkutsk                                                        n/a   \n",
       "Mundine_Well                                                   n/a   \n",
       "Gunbarrel                                                      n/a   \n",
       "SWCUC                                                          n/a   \n",
       "\n",
       "                     present/original   buried  \n",
       "CRB                          0.555194       no  \n",
       "Afar                         0.308397  partial  \n",
       "NAIP                         0.271840  partial  \n",
       "Deccan                       0.675458       no  \n",
       "Seychelles                   0.000000      yes  \n",
       "Madagascar                   0.049897       no  \n",
       "Caribbean_Colombian          0.177113       no  \n",
       "HALIP                        0.041576       no  \n",
       "EQUAMP                       0.011977       no  \n",
       "Comei                             NaN       no  \n",
       "Bunbury                      0.051691       no  \n",
       "Parana_Etendeka              0.129308  partial  \n",
       "Trap                         0.000000       no  \n",
       "NW_Aus                       0.000000      yes  \n",
       "Karoo                        0.046479       no  \n",
       "Ferrar                            NaN       no  \n",
       "CAMP                         0.020129  partial  \n",
       "Siberia                      0.135729       no  \n",
       "Emeishan                     0.085263       no  \n",
       "Panjal_Qiangtang                  NaN       no  \n",
       "Tarim                             NaN       no  \n",
       "Magdalen                          NaN       no  \n",
       "Vilyui                            NaN       no  \n",
       "Kola_Dnieper                      NaN       no  \n",
       "Suordakh                          NaN       no  \n",
       "Kalkarindji                  0.047600       no  \n",
       "Wichita                           NaN      yes  \n",
       "CIMP_A                            NaN       no  \n",
       "CIMP_B                            NaN       no  \n",
       "Franklin                     0.016619       no  \n",
       "Irkutsk                           NaN       no  \n",
       "Mundine_Well                      NaN       no  \n",
       "Gunbarrel                         NaN       no  \n",
       "SWCUC                             NaN       no  "
      ]
     },
     "execution_count": 73,
     "metadata": {},
     "output_type": "execute_result"
    }
   ],
   "source": [
    "summary.sort_values('age', inplace=True)\n",
    "summary"
   ]
  },
  {
   "cell_type": "markdown",
   "metadata": {},
   "source": [
    "Clean up the dataframe:"
   ]
  },
  {
   "cell_type": "code",
   "execution_count": 74,
   "metadata": {},
   "outputs": [
    {
     "name": "stdout",
     "output_type": "stream",
     "text": [
      "n = 13\n"
     ]
    }
   ],
   "source": [
    "# get rid of any rows with NaN's (i.e. those without a present day area constraint)\n",
    "clean_summary = summary.dropna().copy()\n",
    "\n",
    "# then remove anything that was buried\n",
    "clean_summary = clean_summary[clean_summary['buried']=='no'].copy()\n",
    "\n",
    "# then remove anything that's not basaltic\n",
    "clean_summary = clean_summary[clean_summary['type']=='basaltic'].copy()\n",
    "\n",
    "# reset indexes\n",
    "clean_summary.reset_index(drop=True, inplace=True)\n",
    "\n",
    "print('n = {}'.format(len(clean_summary)))"
   ]
  },
  {
   "cell_type": "markdown",
   "metadata": {},
   "source": [
    "Plot:"
   ]
  },
  {
   "cell_type": "code",
   "execution_count": 75,
   "metadata": {},
   "outputs": [
    {
     "data": {
      "image/png": "[encoded data removed]",
      "text/plain": [
       "<Figure size 432x288 with 1 Axes>"
      ]
     },
     "metadata": {
      "needs_background": "light"
     },
     "output_type": "display_data"
    }
   ],
   "source": [
    "fig, ax = plt.subplots()\n",
    "\n",
    "ax.scatter(clean_summary['age'], clean_summary['present/original'])\n",
    "ax.set_xlabel('eruption age [Ma]')\n",
    "ax.set_ylabel('present/original area')\n",
    "\n",
    "plt.show(fig)"
   ]
  },
  {
   "cell_type": "markdown",
   "metadata": {},
   "source": [
    "### Exponential fit to all data\n",
    "\n",
    "$$\n",
    "N(t) = N_{0}2^{-t/\\tau}\n",
    "$$\n",
    "\n",
    "where $\\tau$ is the halflife."
   ]
  },
  {
   "cell_type": "code",
   "execution_count": 76,
   "metadata": {},
   "outputs": [],
   "source": [
    "# define the exponential function\n",
    "def func(x, tau):\n",
    "    return 2**(-x / tau)"
   ]
  },
  {
   "cell_type": "markdown",
   "metadata": {},
   "source": [
    "Basaltic LIPs:"
   ]
  },
  {
   "cell_type": "code",
   "execution_count": 77,
   "metadata": {},
   "outputs": [
    {
     "name": "stdout",
     "output_type": "stream",
     "text": [
      "tau  = 28.95\n",
      "RMSE = 0.14\n"
     ]
    }
   ],
   "source": [
    "basaltic = summary.dropna().copy()\n",
    "basaltic = basaltic[basaltic['type']=='basaltic'].copy()\n",
    "\n",
    "# fit\n",
    "popt, pcov = curve_fit(func, basaltic['age'], basaltic['present/original'], p0=35)\n",
    "predicted_ratios = func(basaltic['age'], *popt)\n",
    "\n",
    "# compute RMSE\n",
    "RMSE = np.sqrt(mean_squared_error(basaltic['present/original'], predicted_ratios))\n",
    "\n",
    "print('tau  = {:.2f}'.format(popt[0]))\n",
    "print('RMSE = {:.2f}'.format(RMSE))"
   ]
  },
  {
   "cell_type": "markdown",
   "metadata": {},
   "source": [
    "Basaltic, unburied LIPs:"
   ]
  },
  {
   "cell_type": "code",
   "execution_count": 78,
   "metadata": {},
   "outputs": [
    {
     "name": "stdout",
     "output_type": "stream",
     "text": [
      "tau  = 36.52\n",
      "RMSE = 0.14\n"
     ]
    }
   ],
   "source": [
    "# fit\n",
    "popt, pcov = curve_fit(func, clean_summary['age'], clean_summary['present/original'], p0=35)\n",
    "predicted_ratios = func(clean_summary['age'], *popt)\n",
    "\n",
    "# compute RMSE\n",
    "RMSE = np.sqrt(mean_squared_error(clean_summary['present/original'], predicted_ratios))\n",
    "\n",
    "print('tau  = {:.2f}'.format(popt[0]))\n",
    "print('RMSE = {:.2f}'.format(RMSE))"
   ]
  },
  {
   "cell_type": "code",
   "execution_count": 79,
   "metadata": {},
   "outputs": [],
   "source": [
    "buried = summary[(summary['type']=='basaltic')&(summary['buried']=='yes')].dropna().copy()\n",
    "buried.reset_index(drop=True,inplace=True)\n",
    "partial = summary[(summary['type']=='basaltic')&(summary['buried']=='partial')].dropna().copy()\n",
    "partial.reset_index(drop=True,inplace=True)"
   ]
  },
  {
   "cell_type": "markdown",
   "metadata": {},
   "source": [
    "Get percent time in the tropics:"
   ]
  },
  {
   "cell_type": "code",
   "execution_count": 80,
   "metadata": {
    "scrolled": false
   },
   "outputs": [],
   "source": [
    "centroids = pd.read_csv('reconstruction_output/centroid_lat_LIPs_df.csv')\n",
    "\n",
    "tropics_time = np.array([])\n",
    "\n",
    "for i in range(len(clean_summary.index)):\n",
    "#for i in range(1,2):\n",
    "    this_LIP = centroids[centroids['LIP_names']==clean_summary['name'][i]]\n",
    "    this_row = this_LIP.values[:,2:].astype(np.float64)\n",
    "    if this_row.ndim == 2:\n",
    "        this_row = np.mean(this_row, axis=0)\n",
    "    \n",
    "    # pull out the non-NaN parts of the row\n",
    "    this_row = this_row[np.isfinite(this_row)]\n",
    "    \n",
    "    # how many elements are in the tropics?\n",
    "    all_n = len(this_row)\n",
    "    tropics_n = np.sum(np.abs(this_row)<15)\n",
    "    \n",
    "    tropics_time = np.append(tropics_time, tropics_n/all_n)"
   ]
  },
  {
   "cell_type": "code",
   "execution_count": 81,
   "metadata": {},
   "outputs": [
    {
     "data": {
      "image/png": "[encoded data removed]",
      "text/plain": [
       "<Figure size 432x288 with 2 Axes>"
      ]
     },
     "metadata": {
      "needs_background": "light"
     },
     "output_type": "display_data"
    }
   ],
   "source": [
    "# plot\n",
    "fig, ax = plt.subplots()\n",
    "\n",
    "plot_x = np.linspace(np.min(clean_summary['age']), np.max(clean_summary['age']))\n",
    "plot_y = func(plot_x, *popt)\n",
    "\n",
    "ax.scatter(buried['age'], buried['present/original'],\n",
    "           marker='s', edgecolor='k', facecolor='w', label='buried')\n",
    "ax.scatter(partial['age'], partial['present/original'],\n",
    "           marker='^', edgecolor='k', facecolor='w', label='partially buried')\n",
    "scat = ax.scatter(clean_summary['age'], clean_summary['present/original'],\n",
    "                  marker='o', c=tropics_time, cmap='viridis', label='__nolegend__')\n",
    "ax.scatter([],[],marker='o',c='k',label='not buried')\n",
    "ax.plot(plot_x, plot_y, c='C1')\n",
    "ax.set_xlabel('eruption age [Ma]')\n",
    "ax.set_ylabel('present/original area')\n",
    "ax.legend(loc='upper right')\n",
    "\n",
    "ax.text(0.85,0.5,'t$_{1/2}$ = ' + str(np.round(popt[0],1)) + ' Myr', color='C1',\n",
    "        horizontalalignment='center',verticalalignment='center',transform=ax.transAxes)\n",
    "ax.text(0.85,0.4,'RMSE = ' + str(np.round(RMSE,2)), color='C1',\n",
    "        horizontalalignment='center',verticalalignment='center',transform=ax.transAxes)\n",
    "\n",
    "cbar_position = fig.add_axes([0.94,0.15,0.05,0.7])\n",
    "cbar = fig.colorbar(scat, cax=cbar_position)\n",
    "cbar.set_ticks(np.linspace(0,1,6))\n",
    "cbar.set_ticklabels((np.linspace(0,1,6)*100).astype(int))\n",
    "cbar.ax.set_ylabel('% time in tropics', rotation=270, labelpad=10)\n",
    "\n",
    "plt.show(fig)"
   ]
  },
  {
   "cell_type": "code",
   "execution_count": 82,
   "metadata": {},
   "outputs": [
    {
     "data": {
      "image/png": "[encoded data removed]",
      "text/plain": [
       "<Figure size 432x288 with 1 Axes>"
      ]
     },
     "metadata": {
      "needs_background": "light"
     },
     "output_type": "display_data"
    }
   ],
   "source": [
    "# plot\n",
    "fig, ax = plt.subplots()\n",
    "\n",
    "plot_x = np.linspace(np.min(clean_summary['age']), np.max(clean_summary['age']))\n",
    "plot_y = func(plot_x, *popt)\n",
    "\n",
    "ax.scatter(buried['age'], buried['present/original'],\n",
    "           marker='s', edgecolor='k', facecolor='w', label='buried')\n",
    "ax.scatter(partial['age'], partial['present/original'],\n",
    "           marker='^', edgecolor='k', facecolor='w', label='partially buried')\n",
    "ax.scatter(clean_summary['age'], clean_summary['present/original'],\n",
    "           marker='o', edgecolor='k', facecolor='k', label='not buried')\n",
    "ax.plot(plot_x, plot_y, c='C1')\n",
    "ax.set_xlabel('eruption age [Ma]')\n",
    "ax.set_ylabel('present/original area')\n",
    "ax.legend(loc='upper right')\n",
    "\n",
    "ax.text(0.85,0.5,'t$_{1/2}$ = ' + str(np.round(popt[0],1)) + ' Myr', color='C1',\n",
    "        horizontalalignment='center',verticalalignment='center',transform=ax.transAxes)\n",
    "ax.text(0.85,0.4,'RMSE = ' + str(np.round(RMSE,2)), color='C1',\n",
    "        horizontalalignment='center',verticalalignment='center',transform=ax.transAxes)\n",
    "\n",
    "#plt.savefig('../Manuscript/Figures/LIP_Preservation.pdf', bbox_inches='tight')\n",
    "plt.show(fig)"
   ]
  },
  {
   "cell_type": "markdown",
   "metadata": {},
   "source": [
    "### Leave one out cross-validation"
   ]
  },
  {
   "cell_type": "code",
   "execution_count": 83,
   "metadata": {},
   "outputs": [],
   "source": [
    "# storage vectors\n",
    "taus = np.zeros(len(clean_summary))\n",
    "RMSEs = np.zeros(len(clean_summary))\n",
    "\n",
    "for i in range(len(clean_summary)):\n",
    "    \n",
    "    # get the inds\n",
    "    inds = np.arange(len(clean_summary))\n",
    "    inds = inds[inds!=i]\n",
    "    \n",
    "    # pull out vectors\n",
    "    ages_i = clean_summary['age'].values\n",
    "    ages_i = ages_i[inds]\n",
    "    \n",
    "    ratios_i = clean_summary['present/original'].values\n",
    "    ratios_i = ratios_i[inds]\n",
    "    \n",
    "    # fit\n",
    "    popt_i, pcov_i = curve_fit(func, ages_i, ratios_i, p0=[35])\n",
    "    predicted_ratios_i = func(ages_i, *popt_i)\n",
    "    \n",
    "    # RMSE\n",
    "    RMSE_i = np.sqrt(mean_squared_error(ratios_i, predicted_ratios_i))\n",
    "    \n",
    "    # store\n",
    "    taus[i] = popt_i[0]\n",
    "    RMSEs[i] = RMSE_i"
   ]
  },
  {
   "cell_type": "code",
   "execution_count": 84,
   "metadata": {},
   "outputs": [
    {
     "name": "stdout",
     "output_type": "stream",
     "text": [
      "mean tau  = 36.22\n",
      "std tau   = 3.98\n",
      "mean RMSE = 0.14\n",
      "std RMSE  = 0.02\n"
     ]
    },
    {
     "data": {
      "image/png": "[encoded data removed]",
      "text/plain": [
       "<Figure size 576x360 with 2 Axes>"
      ]
     },
     "metadata": {
      "needs_background": "light"
     },
     "output_type": "display_data"
    }
   ],
   "source": [
    "print('mean tau  = {:.2f}'.format(np.mean(taus)))\n",
    "print('std tau   = {:.2f}'.format(np.std(taus)))\n",
    "print('mean RMSE = {:.2f}'.format(np.mean(RMSEs)))\n",
    "print('std RMSE  = {:.2f}'.format(np.std(RMSEs)))\n",
    "\n",
    "fig, ax = plt.subplots(nrows=2, ncols=1, figsize=(8,5), sharex=True)\n",
    "\n",
    "ax[0].bar(np.arange(len(taus)), taus)\n",
    "ax[0].set_ylabel('half-life [Myr]')\n",
    "ax[0].axhline(np.mean(taus), ls='--', c='C7')\n",
    "\n",
    "ax[1].bar(np.arange(len(RMSEs)), RMSEs)\n",
    "ax[1].set_ylabel('RMSE')\n",
    "ax[1].axhline(np.mean(RMSEs), ls='--', c='C7')\n",
    "\n",
    "ax[1].set_xlabel('fold')\n",
    "\n",
    "plt.show(fig)"
   ]
  },
  {
   "cell_type": "code",
   "execution_count": 85,
   "metadata": {},
   "outputs": [
    {
     "data": {
      "image/png": "[encoded data removed]",
      "text/plain": [
       "<Figure size 432x288 with 1 Axes>"
      ]
     },
     "metadata": {
      "needs_background": "light"
     },
     "output_type": "display_data"
    }
   ],
   "source": [
    "fig, ax = plt.subplots()\n",
    "\n",
    "ax.scatter(clean_summary['age'], clean_summary['present/original'], c='C0')\n",
    "ax.set_xlabel('eruption age [Ma]')\n",
    "ax.set_ylabel('present/original area')\n",
    "\n",
    "plot_x = np.linspace(np.min(clean_summary['age']), np.max(clean_summary['age']))\n",
    "\n",
    "for i in range(len(taus)):\n",
    "    ax.plot(plot_x, func(plot_x, taus[i]), lw=0.5, alpha=0.5, c='C1')\n",
    "\n",
    "plt.show(fig)"
   ]
  },
  {
   "cell_type": "markdown",
   "metadata": {},
   "source": [
    "### Bootstrap"
   ]
  },
  {
   "cell_type": "code",
   "execution_count": 86,
   "metadata": {
    "scrolled": false
   },
   "outputs": [],
   "source": [
    "# storage vectors\n",
    "BS_taus = np.array([])\n",
    "BS_RMSEs = np.array([])\n",
    "\n",
    "N = 1000\n",
    "np.random.seed(22)\n",
    "\n",
    "for i in range(N):\n",
    "    \n",
    "    # get the inds\n",
    "    inds = np.random.choice(np.arange(len(clean_summary)), size=9, replace=False)\n",
    "    \n",
    "    # pull out vectors\n",
    "    ages_i = clean_summary['age'].values\n",
    "    ages_i = ages_i[inds]\n",
    "    \n",
    "    ratios_i = clean_summary['present/original'].values\n",
    "    ratios_i = ratios_i[inds]\n",
    "    \n",
    "    # fit\n",
    "    popt_i, pcov_i = curve_fit(func, ages_i, ratios_i, p0=[35])\n",
    "    predicted_ratios_i = func(ages_i, *popt_i)\n",
    "    \n",
    "    # RMSE\n",
    "    RMSE_i = np.sqrt(mean_squared_error(ratios_i, predicted_ratios_i))\n",
    "    \n",
    "    # store\n",
    "    BS_taus = np.append(BS_taus, popt_i[0])\n",
    "    BS_RMSEs = np.append(BS_RMSEs, RMSE_i)"
   ]
  },
  {
   "cell_type": "code",
   "execution_count": 87,
   "metadata": {},
   "outputs": [
    {
     "data": {
      "image/png": "[encoded data removed]",
      "text/plain": [
       "<Figure size 432x288 with 1 Axes>"
      ]
     },
     "metadata": {
      "needs_background": "light"
     },
     "output_type": "display_data"
    }
   ],
   "source": [
    "fig, ax = plt.subplots()\n",
    "\n",
    "ax.hist(BS_taus)\n",
    "ax.set_xlabel('half-life [Myr]')\n",
    "ax.set_ylabel('n')\n",
    "\n",
    "plt.show(fig)"
   ]
  },
  {
   "cell_type": "markdown",
   "metadata": {},
   "source": [
    "### Exponential fit to individual LIPs\n",
    "\n",
    "$$\n",
    "\\tau = \\frac{-t \\ln 2}{\\ln \\frac{N(t)}{N_{0}}}\n",
    "$$"
   ]
  },
  {
   "cell_type": "code",
   "execution_count": 88,
   "metadata": {},
   "outputs": [
    {
     "name": "stderr",
     "output_type": "stream",
     "text": [
      "/Users/yuempark/anaconda3/lib/python3.6/site-packages/ipykernel_launcher.py:1: RuntimeWarning: divide by zero encountered in log\n",
      "  \"\"\"Entry point for launching an IPython kernel.\n"
     ]
    }
   ],
   "source": [
    "LIP_taus = (-clean_summary['age'] * np.log(2)) / (np.log(clean_summary['present/original']))"
   ]
  },
  {
   "cell_type": "code",
   "execution_count": 89,
   "metadata": {},
   "outputs": [
    {
     "data": {
      "text/html": [
       "<div>\n",
       "<style scoped>\n",
       "    .dataframe tbody tr th:only-of-type {\n",
       "        vertical-align: middle;\n",
       "    }\n",
       "\n",
       "    .dataframe tbody tr th {\n",
       "        vertical-align: top;\n",
       "    }\n",
       "\n",
       "    .dataframe thead th {\n",
       "        text-align: right;\n",
       "    }\n",
       "</style>\n",
       "<table border=\"1\" class=\"dataframe\">\n",
       "  <thead>\n",
       "    <tr style=\"text-align: right;\">\n",
       "      <th></th>\n",
       "      <th>name</th>\n",
       "      <th>type</th>\n",
       "      <th>age</th>\n",
       "      <th>age ref.</th>\n",
       "      <th>original area km2</th>\n",
       "      <th>present area km2</th>\n",
       "      <th>present area ref.</th>\n",
       "      <th>present/original</th>\n",
       "      <th>buried</th>\n",
       "      <th>half-lives</th>\n",
       "    </tr>\n",
       "  </thead>\n",
       "  <tbody>\n",
       "    <tr>\n",
       "      <th>0</th>\n",
       "      <td>Columbia River</td>\n",
       "      <td>basaltic</td>\n",
       "      <td>16.3</td>\n",
       "      <td>Kasbohm and Schoene (2018)</td>\n",
       "      <td>6.764210e+05</td>\n",
       "      <td>375545</td>\n",
       "      <td>Buchan and Ernst (2004)</td>\n",
       "      <td>0.555194</td>\n",
       "      <td>no</td>\n",
       "      <td>19.200515</td>\n",
       "    </tr>\n",
       "    <tr>\n",
       "      <th>1</th>\n",
       "      <td>Deccan</td>\n",
       "      <td>basaltic</td>\n",
       "      <td>66.0</td>\n",
       "      <td>Schoene et al. (2014)</td>\n",
       "      <td>8.311900e+05</td>\n",
       "      <td>561434</td>\n",
       "      <td>Coffin et al. (2006)</td>\n",
       "      <td>0.675458</td>\n",
       "      <td>no</td>\n",
       "      <td>116.595043</td>\n",
       "    </tr>\n",
       "    <tr>\n",
       "      <th>2</th>\n",
       "      <td>Madagascar</td>\n",
       "      <td>basaltic</td>\n",
       "      <td>90.0</td>\n",
       "      <td>Cucciniello (2010)</td>\n",
       "      <td>6.270722e+05</td>\n",
       "      <td>31289</td>\n",
       "      <td>Coffin et al. (2006)</td>\n",
       "      <td>0.049897</td>\n",
       "      <td>no</td>\n",
       "      <td>20.809710</td>\n",
       "    </tr>\n",
       "    <tr>\n",
       "      <th>3</th>\n",
       "      <td>Caribbean-Colombian</td>\n",
       "      <td>basaltic</td>\n",
       "      <td>94.0</td>\n",
       "      <td>Loewen et al. (2013)</td>\n",
       "      <td>7.122517e+05</td>\n",
       "      <td>126149</td>\n",
       "      <td>Coffin et al. (2006)</td>\n",
       "      <td>0.177113</td>\n",
       "      <td>no</td>\n",
       "      <td>37.641278</td>\n",
       "    </tr>\n",
       "    <tr>\n",
       "      <th>4</th>\n",
       "      <td>HALIP</td>\n",
       "      <td>basaltic</td>\n",
       "      <td>95.0</td>\n",
       "      <td>Kingsbury et al. (2018)</td>\n",
       "      <td>3.597497e+06</td>\n",
       "      <td>149571</td>\n",
       "      <td>Moosdorf and Hartmann (2015)</td>\n",
       "      <td>0.041576</td>\n",
       "      <td>no</td>\n",
       "      <td>20.705779</td>\n",
       "    </tr>\n",
       "    <tr>\n",
       "      <th>5</th>\n",
       "      <td>EQUAMP</td>\n",
       "      <td>basaltic</td>\n",
       "      <td>131.0</td>\n",
       "      <td>Hollanda et al. (2016)</td>\n",
       "      <td>6.602910e+05</td>\n",
       "      <td>7908</td>\n",
       "      <td>Hollanda et al. (2016)</td>\n",
       "      <td>0.011977</td>\n",
       "      <td>no</td>\n",
       "      <td>20.521191</td>\n",
       "    </tr>\n",
       "    <tr>\n",
       "      <th>6</th>\n",
       "      <td>Bunbury</td>\n",
       "      <td>basaltic</td>\n",
       "      <td>132.0</td>\n",
       "      <td>Zhu et al. (2009)</td>\n",
       "      <td>3.164966e+04</td>\n",
       "      <td>1636</td>\n",
       "      <td>Thorne et al. (2014)</td>\n",
       "      <td>0.051691</td>\n",
       "      <td>no</td>\n",
       "      <td>30.884811</td>\n",
       "    </tr>\n",
       "    <tr>\n",
       "      <th>7</th>\n",
       "      <td>Trap</td>\n",
       "      <td>basaltic</td>\n",
       "      <td>140.0</td>\n",
       "      <td>Ernst and Buchan (2001)</td>\n",
       "      <td>2.969846e+04</td>\n",
       "      <td>0</td>\n",
       "      <td>Ernst and Buchan (2001)</td>\n",
       "      <td>0.000000</td>\n",
       "      <td>no</td>\n",
       "      <td>0.000000</td>\n",
       "    </tr>\n",
       "    <tr>\n",
       "      <th>8</th>\n",
       "      <td>Karoo</td>\n",
       "      <td>basaltic</td>\n",
       "      <td>183.0</td>\n",
       "      <td>Burgess et al. (2015)</td>\n",
       "      <td>3.206784e+06</td>\n",
       "      <td>149049</td>\n",
       "      <td>de Kock compilation</td>\n",
       "      <td>0.046479</td>\n",
       "      <td>no</td>\n",
       "      <td>41.334741</td>\n",
       "    </tr>\n",
       "    <tr>\n",
       "      <th>9</th>\n",
       "      <td>Siberia</td>\n",
       "      <td>basaltic</td>\n",
       "      <td>252.0</td>\n",
       "      <td>Burgess and Bowring (2015)</td>\n",
       "      <td>3.459274e+06</td>\n",
       "      <td>469523</td>\n",
       "      <td>Coffin et al. (2006)</td>\n",
       "      <td>0.135729</td>\n",
       "      <td>no</td>\n",
       "      <td>87.463505</td>\n",
       "    </tr>\n",
       "    <tr>\n",
       "      <th>10</th>\n",
       "      <td>Emeishan</td>\n",
       "      <td>basaltic</td>\n",
       "      <td>259.0</td>\n",
       "      <td>Zhou et al. (2002)</td>\n",
       "      <td>7.058185e+05</td>\n",
       "      <td>60180</td>\n",
       "      <td>Coffin et al. (2006)</td>\n",
       "      <td>0.085263</td>\n",
       "      <td>no</td>\n",
       "      <td>72.917874</td>\n",
       "    </tr>\n",
       "    <tr>\n",
       "      <th>11</th>\n",
       "      <td>Kalkarindji</td>\n",
       "      <td>basaltic</td>\n",
       "      <td>511.0</td>\n",
       "      <td>Jourdan et al. (2014)</td>\n",
       "      <td>3.543990e+06</td>\n",
       "      <td>168694</td>\n",
       "      <td>Thorne et al. (2014)</td>\n",
       "      <td>0.047600</td>\n",
       "      <td>no</td>\n",
       "      <td>116.324228</td>\n",
       "    </tr>\n",
       "    <tr>\n",
       "      <th>12</th>\n",
       "      <td>Franklin</td>\n",
       "      <td>basaltic</td>\n",
       "      <td>720.0</td>\n",
       "      <td>Denyszyn et al. (2009)</td>\n",
       "      <td>2.617057e+06</td>\n",
       "      <td>43492</td>\n",
       "      <td>Buchan and Ernst (2004)</td>\n",
       "      <td>0.016619</td>\n",
       "      <td>no</td>\n",
       "      <td>121.805746</td>\n",
       "    </tr>\n",
       "  </tbody>\n",
       "</table>\n",
       "</div>"
      ],
      "text/plain": [
       "                   name      type    age                    age ref.  \\\n",
       "0        Columbia River  basaltic   16.3  Kasbohm and Schoene (2018)   \n",
       "1                Deccan  basaltic   66.0       Schoene et al. (2014)   \n",
       "2            Madagascar  basaltic   90.0          Cucciniello (2010)   \n",
       "3   Caribbean-Colombian  basaltic   94.0        Loewen et al. (2013)   \n",
       "4                 HALIP  basaltic   95.0     Kingsbury et al. (2018)   \n",
       "5                EQUAMP  basaltic  131.0      Hollanda et al. (2016)   \n",
       "6               Bunbury  basaltic  132.0           Zhu et al. (2009)   \n",
       "7                  Trap  basaltic  140.0     Ernst and Buchan (2001)   \n",
       "8                 Karoo  basaltic  183.0       Burgess et al. (2015)   \n",
       "9               Siberia  basaltic  252.0  Burgess and Bowring (2015)   \n",
       "10             Emeishan  basaltic  259.0          Zhou et al. (2002)   \n",
       "11          Kalkarindji  basaltic  511.0       Jourdan et al. (2014)   \n",
       "12             Franklin  basaltic  720.0      Denyszyn et al. (2009)   \n",
       "\n",
       "    original area km2 present area km2             present area ref.  \\\n",
       "0        6.764210e+05           375545       Buchan and Ernst (2004)   \n",
       "1        8.311900e+05           561434          Coffin et al. (2006)   \n",
       "2        6.270722e+05            31289          Coffin et al. (2006)   \n",
       "3        7.122517e+05           126149          Coffin et al. (2006)   \n",
       "4        3.597497e+06           149571  Moosdorf and Hartmann (2015)   \n",
       "5        6.602910e+05             7908        Hollanda et al. (2016)   \n",
       "6        3.164966e+04             1636          Thorne et al. (2014)   \n",
       "7        2.969846e+04                0       Ernst and Buchan (2001)   \n",
       "8        3.206784e+06           149049           de Kock compilation   \n",
       "9        3.459274e+06           469523          Coffin et al. (2006)   \n",
       "10       7.058185e+05            60180          Coffin et al. (2006)   \n",
       "11       3.543990e+06           168694          Thorne et al. (2014)   \n",
       "12       2.617057e+06            43492       Buchan and Ernst (2004)   \n",
       "\n",
       "    present/original buried  half-lives  \n",
       "0           0.555194     no   19.200515  \n",
       "1           0.675458     no  116.595043  \n",
       "2           0.049897     no   20.809710  \n",
       "3           0.177113     no   37.641278  \n",
       "4           0.041576     no   20.705779  \n",
       "5           0.011977     no   20.521191  \n",
       "6           0.051691     no   30.884811  \n",
       "7           0.000000     no    0.000000  \n",
       "8           0.046479     no   41.334741  \n",
       "9           0.135729     no   87.463505  \n",
       "10          0.085263     no   72.917874  \n",
       "11          0.047600     no  116.324228  \n",
       "12          0.016619     no  121.805746  "
      ]
     },
     "execution_count": 89,
     "metadata": {},
     "output_type": "execute_result"
    }
   ],
   "source": [
    "clean_summary['half-lives'] = LIP_taus\n",
    "clean_summary"
   ]
  },
  {
   "cell_type": "code",
   "execution_count": 90,
   "metadata": {},
   "outputs": [
    {
     "data": {
      "image/png": "[encoded data removed]",
      "text/plain": [
       "<Figure size 432x288 with 1 Axes>"
      ]
     },
     "metadata": {
      "needs_background": "light"
     },
     "output_type": "display_data"
    }
   ],
   "source": [
    "fig, ax = plt.subplots()\n",
    "\n",
    "ax.hist(LIP_taus, bins=20)\n",
    "ax.set_xlabel('half-life [Myr]')\n",
    "ax.set_ylabel('n')\n",
    "\n",
    "plt.show(fig)"
   ]
  },
  {
   "cell_type": "markdown",
   "metadata": {},
   "source": [
    "## Output Table"
   ]
  },
  {
   "cell_type": "code",
   "execution_count": 91,
   "metadata": {},
   "outputs": [
    {
     "name": "stderr",
     "output_type": "stream",
     "text": [
      "/Users/yuempark/anaconda3/lib/python3.6/site-packages/ipykernel_launcher.py:4: RuntimeWarning: divide by zero encountered in log\n",
      "  after removing the cwd from sys.path.\n"
     ]
    },
    {
     "data": {
      "text/html": [
       "<div>\n",
       "<style scoped>\n",
       "    .dataframe tbody tr th:only-of-type {\n",
       "        vertical-align: middle;\n",
       "    }\n",
       "\n",
       "    .dataframe tbody tr th {\n",
       "        vertical-align: top;\n",
       "    }\n",
       "\n",
       "    .dataframe thead th {\n",
       "        text-align: right;\n",
       "    }\n",
       "</style>\n",
       "<table border=\"1\" class=\"dataframe\">\n",
       "  <thead>\n",
       "    <tr style=\"text-align: right;\">\n",
       "      <th></th>\n",
       "      <th>name</th>\n",
       "      <th>age</th>\n",
       "      <th>age ref.</th>\n",
       "      <th>original area Mm2</th>\n",
       "      <th>present area Mm2</th>\n",
       "      <th>present area ref.</th>\n",
       "      <th>present/original</th>\n",
       "      <th>half-life</th>\n",
       "      <th>buried</th>\n",
       "    </tr>\n",
       "  </thead>\n",
       "  <tbody>\n",
       "    <tr>\n",
       "      <th>0</th>\n",
       "      <td>Columbia River</td>\n",
       "      <td>16.0</td>\n",
       "      <td>Kasbohm and Schoene (2018)</td>\n",
       "      <td>0.68</td>\n",
       "      <td>0.38</td>\n",
       "      <td>Buchan and Ernst (2004)</td>\n",
       "      <td>0.56</td>\n",
       "      <td>19.2</td>\n",
       "      <td>no</td>\n",
       "    </tr>\n",
       "    <tr>\n",
       "      <th>1</th>\n",
       "      <td>Afar</td>\n",
       "      <td>30.0</td>\n",
       "      <td>Courtillot and Renne (2003)</td>\n",
       "      <td>2.05</td>\n",
       "      <td>0.63</td>\n",
       "      <td>Coffin et al. (2006)</td>\n",
       "      <td>0.31</td>\n",
       "      <td>17.7</td>\n",
       "      <td>partial</td>\n",
       "    </tr>\n",
       "    <tr>\n",
       "      <th>2</th>\n",
       "      <td>NAIP</td>\n",
       "      <td>62.0</td>\n",
       "      <td>Larsen et al. (2015)</td>\n",
       "      <td>1.07</td>\n",
       "      <td>0.29</td>\n",
       "      <td>Buchan and Ernst (2004), Coffin et al. (2006)</td>\n",
       "      <td>0.27</td>\n",
       "      <td>33.0</td>\n",
       "      <td>partial</td>\n",
       "    </tr>\n",
       "    <tr>\n",
       "      <th>3</th>\n",
       "      <td>Deccan</td>\n",
       "      <td>66.0</td>\n",
       "      <td>Schoene et al. (2014)</td>\n",
       "      <td>0.83</td>\n",
       "      <td>0.56</td>\n",
       "      <td>Coffin et al. (2006)</td>\n",
       "      <td>0.68</td>\n",
       "      <td>116.6</td>\n",
       "      <td>no</td>\n",
       "    </tr>\n",
       "    <tr>\n",
       "      <th>4</th>\n",
       "      <td>Seychelles</td>\n",
       "      <td>66.0</td>\n",
       "      <td>Schoene et al. (2014)</td>\n",
       "      <td>0.46</td>\n",
       "      <td>0.00</td>\n",
       "      <td>Coffin et al. (2006)</td>\n",
       "      <td>0.00</td>\n",
       "      <td>0.0</td>\n",
       "      <td>yes</td>\n",
       "    </tr>\n",
       "    <tr>\n",
       "      <th>5</th>\n",
       "      <td>Madagascar</td>\n",
       "      <td>90.0</td>\n",
       "      <td>Cucciniello (2010)</td>\n",
       "      <td>0.63</td>\n",
       "      <td>0.03</td>\n",
       "      <td>Coffin et al. (2006)</td>\n",
       "      <td>0.05</td>\n",
       "      <td>20.8</td>\n",
       "      <td>no</td>\n",
       "    </tr>\n",
       "    <tr>\n",
       "      <th>6</th>\n",
       "      <td>Caribbean-Colombian</td>\n",
       "      <td>94.0</td>\n",
       "      <td>Loewen et al. (2013)</td>\n",
       "      <td>0.71</td>\n",
       "      <td>0.13</td>\n",
       "      <td>Coffin et al. (2006)</td>\n",
       "      <td>0.18</td>\n",
       "      <td>37.6</td>\n",
       "      <td>no</td>\n",
       "    </tr>\n",
       "    <tr>\n",
       "      <th>7</th>\n",
       "      <td>HALIP</td>\n",
       "      <td>95.0</td>\n",
       "      <td>Kingsbury et al. (2018)</td>\n",
       "      <td>3.60</td>\n",
       "      <td>0.15</td>\n",
       "      <td>Moosdorf and Hartmann (2015)</td>\n",
       "      <td>0.04</td>\n",
       "      <td>20.7</td>\n",
       "      <td>no</td>\n",
       "    </tr>\n",
       "    <tr>\n",
       "      <th>8</th>\n",
       "      <td>EQUAMP</td>\n",
       "      <td>131.0</td>\n",
       "      <td>Hollanda et al. (2016)</td>\n",
       "      <td>0.66</td>\n",
       "      <td>0.01</td>\n",
       "      <td>Hollanda et al. (2016)</td>\n",
       "      <td>0.01</td>\n",
       "      <td>20.5</td>\n",
       "      <td>no</td>\n",
       "    </tr>\n",
       "    <tr>\n",
       "      <th>9</th>\n",
       "      <td>Comei</td>\n",
       "      <td>132.0</td>\n",
       "      <td>Zhu et al. (2009)</td>\n",
       "      <td>0.11</td>\n",
       "      <td>NaN</td>\n",
       "      <td>n/a</td>\n",
       "      <td>NaN</td>\n",
       "      <td>NaN</td>\n",
       "      <td>no</td>\n",
       "    </tr>\n",
       "    <tr>\n",
       "      <th>10</th>\n",
       "      <td>Bunbury</td>\n",
       "      <td>132.0</td>\n",
       "      <td>Zhu et al. (2009)</td>\n",
       "      <td>0.03</td>\n",
       "      <td>0.00</td>\n",
       "      <td>Thorne et al. (2014)</td>\n",
       "      <td>0.05</td>\n",
       "      <td>30.9</td>\n",
       "      <td>no</td>\n",
       "    </tr>\n",
       "    <tr>\n",
       "      <th>11</th>\n",
       "      <td>Parana-Etendeka</td>\n",
       "      <td>135.0</td>\n",
       "      <td>Florisbal et al. (2014)</td>\n",
       "      <td>3.12</td>\n",
       "      <td>0.40</td>\n",
       "      <td>Coffin et al. (2006)</td>\n",
       "      <td>0.13</td>\n",
       "      <td>45.7</td>\n",
       "      <td>partial</td>\n",
       "    </tr>\n",
       "    <tr>\n",
       "      <th>12</th>\n",
       "      <td>Trap</td>\n",
       "      <td>140.0</td>\n",
       "      <td>Ernst and Buchan (2001)</td>\n",
       "      <td>0.03</td>\n",
       "      <td>0.00</td>\n",
       "      <td>Ernst and Buchan (2001)</td>\n",
       "      <td>0.00</td>\n",
       "      <td>0.0</td>\n",
       "      <td>no</td>\n",
       "    </tr>\n",
       "    <tr>\n",
       "      <th>13</th>\n",
       "      <td>NW Australia Margin</td>\n",
       "      <td>160.0</td>\n",
       "      <td>Pirajno and Hoatson (2012)</td>\n",
       "      <td>0.62</td>\n",
       "      <td>0.00</td>\n",
       "      <td>Coffin et al. (2006)</td>\n",
       "      <td>0.00</td>\n",
       "      <td>0.0</td>\n",
       "      <td>yes</td>\n",
       "    </tr>\n",
       "    <tr>\n",
       "      <th>14</th>\n",
       "      <td>Karoo</td>\n",
       "      <td>183.0</td>\n",
       "      <td>Burgess et al. (2015)</td>\n",
       "      <td>3.21</td>\n",
       "      <td>0.15</td>\n",
       "      <td>de Kock compilation</td>\n",
       "      <td>0.05</td>\n",
       "      <td>41.3</td>\n",
       "      <td>no</td>\n",
       "    </tr>\n",
       "    <tr>\n",
       "      <th>15</th>\n",
       "      <td>Ferrar</td>\n",
       "      <td>183.0</td>\n",
       "      <td>Burgess et al. (2015)</td>\n",
       "      <td>0.18</td>\n",
       "      <td>NaN</td>\n",
       "      <td>n/a</td>\n",
       "      <td>NaN</td>\n",
       "      <td>NaN</td>\n",
       "      <td>no</td>\n",
       "    </tr>\n",
       "    <tr>\n",
       "      <th>16</th>\n",
       "      <td>CAMP</td>\n",
       "      <td>201.0</td>\n",
       "      <td>Blackburn et al. (2013)</td>\n",
       "      <td>11.46</td>\n",
       "      <td>0.23</td>\n",
       "      <td>Marzoli and Parisio compilation</td>\n",
       "      <td>0.02</td>\n",
       "      <td>35.7</td>\n",
       "      <td>partial</td>\n",
       "    </tr>\n",
       "    <tr>\n",
       "      <th>17</th>\n",
       "      <td>Siberia</td>\n",
       "      <td>252.0</td>\n",
       "      <td>Burgess and Bowring (2015)</td>\n",
       "      <td>3.46</td>\n",
       "      <td>0.47</td>\n",
       "      <td>Coffin et al. (2006)</td>\n",
       "      <td>0.14</td>\n",
       "      <td>87.5</td>\n",
       "      <td>no</td>\n",
       "    </tr>\n",
       "    <tr>\n",
       "      <th>18</th>\n",
       "      <td>Emeishan</td>\n",
       "      <td>259.0</td>\n",
       "      <td>Zhou et al. (2002)</td>\n",
       "      <td>0.71</td>\n",
       "      <td>0.06</td>\n",
       "      <td>Coffin et al. (2006)</td>\n",
       "      <td>0.09</td>\n",
       "      <td>72.9</td>\n",
       "      <td>no</td>\n",
       "    </tr>\n",
       "    <tr>\n",
       "      <th>19</th>\n",
       "      <td>Panjal-Qiangtang</td>\n",
       "      <td>283.0</td>\n",
       "      <td>Zhai et al. (2013)</td>\n",
       "      <td>0.11</td>\n",
       "      <td>NaN</td>\n",
       "      <td>n/a</td>\n",
       "      <td>NaN</td>\n",
       "      <td>NaN</td>\n",
       "      <td>no</td>\n",
       "    </tr>\n",
       "    <tr>\n",
       "      <th>20</th>\n",
       "      <td>Tarim</td>\n",
       "      <td>290.0</td>\n",
       "      <td>Xu et al. (2014)</td>\n",
       "      <td>0.35</td>\n",
       "      <td>NaN</td>\n",
       "      <td>n/a</td>\n",
       "      <td>NaN</td>\n",
       "      <td>NaN</td>\n",
       "      <td>no</td>\n",
       "    </tr>\n",
       "    <tr>\n",
       "      <th>21</th>\n",
       "      <td>Magdalen</td>\n",
       "      <td>360.0</td>\n",
       "      <td>Brendan Murphy et al. (1999)</td>\n",
       "      <td>0.42</td>\n",
       "      <td>NaN</td>\n",
       "      <td>n/a</td>\n",
       "      <td>NaN</td>\n",
       "      <td>NaN</td>\n",
       "      <td>no</td>\n",
       "    </tr>\n",
       "    <tr>\n",
       "      <th>22</th>\n",
       "      <td>Vilyui</td>\n",
       "      <td>374.0</td>\n",
       "      <td>Ricci et al. (2013)</td>\n",
       "      <td>1.14</td>\n",
       "      <td>NaN</td>\n",
       "      <td>n/a</td>\n",
       "      <td>NaN</td>\n",
       "      <td>NaN</td>\n",
       "      <td>no</td>\n",
       "    </tr>\n",
       "    <tr>\n",
       "      <th>23</th>\n",
       "      <td>Kola-Dnieper</td>\n",
       "      <td>380.0</td>\n",
       "      <td>Arzamastsev and Wu (2014)</td>\n",
       "      <td>5.90</td>\n",
       "      <td>NaN</td>\n",
       "      <td>n/a</td>\n",
       "      <td>NaN</td>\n",
       "      <td>NaN</td>\n",
       "      <td>no</td>\n",
       "    </tr>\n",
       "    <tr>\n",
       "      <th>24</th>\n",
       "      <td>Suordakh</td>\n",
       "      <td>450.0</td>\n",
       "      <td>Khudoley et al. (2013)</td>\n",
       "      <td>0.02</td>\n",
       "      <td>NaN</td>\n",
       "      <td>n/a</td>\n",
       "      <td>NaN</td>\n",
       "      <td>NaN</td>\n",
       "      <td>no</td>\n",
       "    </tr>\n",
       "    <tr>\n",
       "      <th>25</th>\n",
       "      <td>Kalkarindji</td>\n",
       "      <td>511.0</td>\n",
       "      <td>Jourdan et al. (2014)</td>\n",
       "      <td>3.54</td>\n",
       "      <td>0.17</td>\n",
       "      <td>Thorne et al. (2014)</td>\n",
       "      <td>0.05</td>\n",
       "      <td>116.3</td>\n",
       "      <td>no</td>\n",
       "    </tr>\n",
       "    <tr>\n",
       "      <th>26</th>\n",
       "      <td>Franklin</td>\n",
       "      <td>720.0</td>\n",
       "      <td>Denyszyn et al. (2009)</td>\n",
       "      <td>2.62</td>\n",
       "      <td>0.04</td>\n",
       "      <td>Buchan and Ernst (2004)</td>\n",
       "      <td>0.02</td>\n",
       "      <td>121.8</td>\n",
       "      <td>no</td>\n",
       "    </tr>\n",
       "  </tbody>\n",
       "</table>\n",
       "</div>"
      ],
      "text/plain": [
       "                   name    age                      age ref.  \\\n",
       "0        Columbia River   16.0    Kasbohm and Schoene (2018)   \n",
       "1                  Afar   30.0   Courtillot and Renne (2003)   \n",
       "2                  NAIP   62.0          Larsen et al. (2015)   \n",
       "3                Deccan   66.0         Schoene et al. (2014)   \n",
       "4            Seychelles   66.0         Schoene et al. (2014)   \n",
       "5            Madagascar   90.0            Cucciniello (2010)   \n",
       "6   Caribbean-Colombian   94.0          Loewen et al. (2013)   \n",
       "7                 HALIP   95.0       Kingsbury et al. (2018)   \n",
       "8                EQUAMP  131.0        Hollanda et al. (2016)   \n",
       "9                 Comei  132.0             Zhu et al. (2009)   \n",
       "10              Bunbury  132.0             Zhu et al. (2009)   \n",
       "11      Parana-Etendeka  135.0       Florisbal et al. (2014)   \n",
       "12                 Trap  140.0       Ernst and Buchan (2001)   \n",
       "13  NW Australia Margin  160.0    Pirajno and Hoatson (2012)   \n",
       "14                Karoo  183.0         Burgess et al. (2015)   \n",
       "15               Ferrar  183.0         Burgess et al. (2015)   \n",
       "16                 CAMP  201.0       Blackburn et al. (2013)   \n",
       "17              Siberia  252.0    Burgess and Bowring (2015)   \n",
       "18             Emeishan  259.0            Zhou et al. (2002)   \n",
       "19     Panjal-Qiangtang  283.0            Zhai et al. (2013)   \n",
       "20                Tarim  290.0              Xu et al. (2014)   \n",
       "21             Magdalen  360.0  Brendan Murphy et al. (1999)   \n",
       "22               Vilyui  374.0           Ricci et al. (2013)   \n",
       "23         Kola-Dnieper  380.0     Arzamastsev and Wu (2014)   \n",
       "24             Suordakh  450.0        Khudoley et al. (2013)   \n",
       "25          Kalkarindji  511.0         Jourdan et al. (2014)   \n",
       "26             Franklin  720.0        Denyszyn et al. (2009)   \n",
       "\n",
       "    original area Mm2  present area Mm2  \\\n",
       "0                0.68              0.38   \n",
       "1                2.05              0.63   \n",
       "2                1.07              0.29   \n",
       "3                0.83              0.56   \n",
       "4                0.46              0.00   \n",
       "5                0.63              0.03   \n",
       "6                0.71              0.13   \n",
       "7                3.60              0.15   \n",
       "8                0.66              0.01   \n",
       "9                0.11               NaN   \n",
       "10               0.03              0.00   \n",
       "11               3.12              0.40   \n",
       "12               0.03              0.00   \n",
       "13               0.62              0.00   \n",
       "14               3.21              0.15   \n",
       "15               0.18               NaN   \n",
       "16              11.46              0.23   \n",
       "17               3.46              0.47   \n",
       "18               0.71              0.06   \n",
       "19               0.11               NaN   \n",
       "20               0.35               NaN   \n",
       "21               0.42               NaN   \n",
       "22               1.14               NaN   \n",
       "23               5.90               NaN   \n",
       "24               0.02               NaN   \n",
       "25               3.54              0.17   \n",
       "26               2.62              0.04   \n",
       "\n",
       "                                present area ref.  present/original  \\\n",
       "0                         Buchan and Ernst (2004)              0.56   \n",
       "1                            Coffin et al. (2006)              0.31   \n",
       "2   Buchan and Ernst (2004), Coffin et al. (2006)              0.27   \n",
       "3                            Coffin et al. (2006)              0.68   \n",
       "4                            Coffin et al. (2006)              0.00   \n",
       "5                            Coffin et al. (2006)              0.05   \n",
       "6                            Coffin et al. (2006)              0.18   \n",
       "7                    Moosdorf and Hartmann (2015)              0.04   \n",
       "8                          Hollanda et al. (2016)              0.01   \n",
       "9                                             n/a               NaN   \n",
       "10                           Thorne et al. (2014)              0.05   \n",
       "11                           Coffin et al. (2006)              0.13   \n",
       "12                        Ernst and Buchan (2001)              0.00   \n",
       "13                           Coffin et al. (2006)              0.00   \n",
       "14                            de Kock compilation              0.05   \n",
       "15                                            n/a               NaN   \n",
       "16                Marzoli and Parisio compilation              0.02   \n",
       "17                           Coffin et al. (2006)              0.14   \n",
       "18                           Coffin et al. (2006)              0.09   \n",
       "19                                            n/a               NaN   \n",
       "20                                            n/a               NaN   \n",
       "21                                            n/a               NaN   \n",
       "22                                            n/a               NaN   \n",
       "23                                            n/a               NaN   \n",
       "24                                            n/a               NaN   \n",
       "25                           Thorne et al. (2014)              0.05   \n",
       "26                        Buchan and Ernst (2004)              0.02   \n",
       "\n",
       "    half-life   buried  \n",
       "0        19.2       no  \n",
       "1        17.7  partial  \n",
       "2        33.0  partial  \n",
       "3       116.6       no  \n",
       "4         0.0      yes  \n",
       "5        20.8       no  \n",
       "6        37.6       no  \n",
       "7        20.7       no  \n",
       "8        20.5       no  \n",
       "9         NaN       no  \n",
       "10       30.9       no  \n",
       "11       45.7  partial  \n",
       "12        0.0       no  \n",
       "13        0.0      yes  \n",
       "14       41.3       no  \n",
       "15        NaN       no  \n",
       "16       35.7  partial  \n",
       "17       87.5       no  \n",
       "18       72.9       no  \n",
       "19        NaN       no  \n",
       "20        NaN       no  \n",
       "21        NaN       no  \n",
       "22        NaN       no  \n",
       "23        NaN       no  \n",
       "24        NaN       no  \n",
       "25      116.3       no  \n",
       "26      121.8       no  "
      ]
     },
     "execution_count": 91,
     "metadata": {},
     "output_type": "execute_result"
    }
   ],
   "source": [
    "output = summary[summary['age']<=720].copy()\n",
    "output = output[~((output['age']<720)&(output['age']>520))].copy()\n",
    "\n",
    "output['half-life'] = np.round((-output['age'] * np.log(2)) / (np.log(output['present/original'])),1)\n",
    "output['age'] = np.round(output['age'])\n",
    "output['original area Mm2'] = np.round(output['original area km2']/1e6,2)\n",
    "output['present area Mm2'] = np.round((output['present area km2']/1e6).astype(np.float64),2)\n",
    "output['present/original'] = np.round(output['present/original'],2)\n",
    "\n",
    "cols = ['name',\n",
    "        'age',\n",
    "        'age ref.',\n",
    "        'original area Mm2',\n",
    "        'present area Mm2',\n",
    "        'present area ref.',\n",
    "        'present/original',\n",
    "        'half-life',\n",
    "        'buried']\n",
    "\n",
    "output = output[cols]\n",
    "output.reset_index(drop=True, inplace=True)\n",
    "\n",
    "output"
   ]
  },
  {
   "cell_type": "code",
   "execution_count": 92,
   "metadata": {},
   "outputs": [],
   "source": [
    "output.to_csv('../Manuscript/Figures/LIP_Table.csv', index=False)"
   ]
  },
  {
   "cell_type": "code",
   "execution_count": 93,
   "metadata": {},
   "outputs": [],
   "source": [
    "with open('../Manuscript/Figures/LIP_Table.tex','w') as texfile:\n",
    "    texfile.write(output.to_latex(bold_rows=True, index=False))"
   ]
  }
 ],
 "metadata": {
  "kernelspec": {
   "display_name": "Python 3",
   "language": "python",
   "name": "python3"
  },
  "language_info": {
   "codemirror_mode": {
    "name": "ipython",
    "version": 3
   },
   "file_extension": ".py",
   "mimetype": "text/x-python",
   "name": "python",
   "nbconvert_exporter": "python",
   "pygments_lexer": "ipython3",
   "version": "3.6.8"
  },
  "toc": {
   "nav_menu": {},
   "number_sections": false,
   "sideBar": true,
   "skip_h1_title": false,
   "title_cell": "Table of Contents",
   "title_sidebar": "Contents",
   "toc_cell": false,
   "toc_position": {
    "height": "calc(100% - 180px)",
    "left": "10px",
    "top": "150px",
    "width": "216px"
   },
   "toc_section_display": true,
   "toc_window_display": true
  }
 },
 "nbformat": 4,
 "nbformat_minor": 2
}
