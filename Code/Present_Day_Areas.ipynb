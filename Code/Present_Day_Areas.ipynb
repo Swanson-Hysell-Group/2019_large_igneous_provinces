{
 "cells": [
  {
   "cell_type": "markdown",
   "metadata": {},
   "source": [
    "# Present Day Areas\n",
    "\n",
    "This Jupyter notebook assesses the present day areas of large igneous provinces and builds up the LIP summary table used in the manuscript."
   ]
  },
  {
   "cell_type": "code",
   "execution_count": 1,
   "metadata": {},
   "outputs": [],
   "source": [
    "import pandas as pd\n",
    "import matplotlib.pyplot as plt\n",
    "import numpy as np"
   ]
  },
  {
   "cell_type": "markdown",
   "metadata": {},
   "source": [
    "## Data Files"
   ]
  },
  {
   "cell_type": "code",
   "execution_count": 2,
   "metadata": {},
   "outputs": [],
   "source": [
    "original = pd.read_csv('../Data/LIP_Outline.csv')\n",
    "original.sort_values('AGE',inplace=True)\n",
    "original.reset_index(inplace=True,drop=True)"
   ]
  },
  {
   "cell_type": "code",
   "execution_count": 3,
   "metadata": {},
   "outputs": [],
   "source": [
    "present = pd.read_csv('../Data/LIP_current_extent.csv')\n",
    "present.sort_values('X_BARCDAGE',inplace=True)\n",
    "present.reset_index(inplace=True,drop=True)"
   ]
  },
  {
   "cell_type": "markdown",
   "metadata": {},
   "source": [
    "## LIPs"
   ]
  },
  {
   "cell_type": "markdown",
   "metadata": {},
   "source": [
    "Start a dataframe:"
   ]
  },
  {
   "cell_type": "code",
   "execution_count": 4,
   "metadata": {},
   "outputs": [],
   "source": [
    "summary = pd.DataFrame(columns=['name',\n",
    "                                'type',\n",
    "                                'age',\n",
    "                                'age ref.',\n",
    "                                'original area km2',\n",
    "                                'present area km2',\n",
    "                                'present area ref.',\n",
    "                                'present/original',\n",
    "                                'buried'])"
   ]
  },
  {
   "cell_type": "markdown",
   "metadata": {},
   "source": [
    "Template:"
   ]
  },
  {
   "cell_type": "raw",
   "metadata": {},
   "source": [
    "summary.loc[''] = \\\n",
    "    pd.Series({'name':'',\n",
    "               'type':'',\n",
    "               'age':,\n",
    "               'age ref.':'',\n",
    "               'original area km2':,\n",
    "               'present area km2':,\n",
    "               'present area ref.':'',\n",
    "               'present/original':,\n",
    "               'buried':''})"
   ]
  },
  {
   "cell_type": "markdown",
   "metadata": {},
   "source": [
    "### Columbia River Basalts\n",
    "\n",
    "Present extent shapefile has data from both Buchan and Ernst (2004) as well as the PLATES database - we chose to use the Buchan and Ernst (2004) (which has `['CAPT_SCALE']==2000000`) since they had more detail and included the Eastern Snake River Plain which is included in the original broad LIP outline."
   ]
  },
  {
   "cell_type": "code",
   "execution_count": 5,
   "metadata": {},
   "outputs": [],
   "source": [
    "original_CRB = original[original['NAME_EVENT']=='Columbia River']\n",
    "present_CRB = present[(present['X_BARCDAGE']==17)&(present['CAPT_SCALE']==2000000)]"
   ]
  },
  {
   "cell_type": "code",
   "execution_count": 6,
   "metadata": {},
   "outputs": [],
   "source": [
    "summary.loc['CRB'] = \\\n",
    "    pd.Series({'name':'Columbia River',\n",
    "               'type':'basaltic',\n",
    "               'age':16.3,\n",
    "               'age ref.':'Kasbohm and Schoene (2018)',\n",
    "               'original area km2':np.sum(original_CRB['area_km2']),\n",
    "               'present area km2':np.sum(present_CRB['area_km2']),\n",
    "               'present area ref.':'Buchan and Ernst (2004)',\n",
    "               'present/original':np.sum(present_CRB['area_km2']) / np.sum(original_CRB['area_km2']),\n",
    "               'buried':'no'})"
   ]
  },
  {
   "cell_type": "markdown",
   "metadata": {},
   "source": [
    "### Afar\n",
    "\n",
    "The present-day extent for the Afar LIP is from the PLATES database:\n",
    "\n",
    "> Coffin, M.F., Duncan, R.A., Eldholm, O., Fitton, J.G., Frey, F.A., Larsen, H.C., Mahoney, J.J., Saunders, A.D., Schlich, R., and Wallace, P.J., 2006. Large igneous provinces and scientific ocean drilling: Status quo and a look ahead, Oceanography, vol. 19(4), pp. 150-160.\n",
    "\n",
    "The original extent polygon extends much further north than the exposure of the Ethiopian Traps and includes the Red Sea and its flanks where there are no current exposures included in the PLATES polygons — despite there being some exposure of LIP-related volcanics along the Red Sea flanks. This portion of the LIP could be considered to be buried with the Ethiopian and Yemen plateau volcanics being exposed."
   ]
  },
  {
   "cell_type": "code",
   "execution_count": 7,
   "metadata": {},
   "outputs": [],
   "source": [
    "original_Afar = original[original['NAME_EVENT']=='Afro-Arabian']\n",
    "present_Afar = present[present['X_BARCDAGE']==30]"
   ]
  },
  {
   "cell_type": "code",
   "execution_count": 8,
   "metadata": {},
   "outputs": [],
   "source": [
    "summary.loc['Afar'] = \\\n",
    "    pd.Series({'name':'Afar',\n",
    "               'type':'basaltic',\n",
    "               'age':30,\n",
    "               'age ref.':'Courtillot and Renne (2003)',\n",
    "               'original area km2':np.sum(original_Afar['area_km2']),\n",
    "               'present area km2':np.sum(present_Afar['area_km2']),\n",
    "               'present area ref.':'Coffin et al. (2006)',\n",
    "               'present/original':np.sum(present_Afar['area_km2']) / np.sum(original_Afar['area_km2']),\n",
    "               'buried':'partial'})"
   ]
  },
  {
   "cell_type": "markdown",
   "metadata": {},
   "source": [
    "### Sierra Madre Occidental\n",
    "\n",
    "The Sierra Madre Occidental is a silic large igneous province, but along with the rhyolitic volcanics there was mafic and intermediate volcanism. The first major pulse of magmatism was 34 Ma (Bryan and Ferrari, 2013)."
   ]
  },
  {
   "cell_type": "code",
   "execution_count": 9,
   "metadata": {},
   "outputs": [],
   "source": [
    "original_SMO = original[original['NAME_EVENT']=='Sierra Madre Occidental (SLIP)']\n",
    "present_SMO = present[present['LIPID']==101]"
   ]
  },
  {
   "cell_type": "code",
   "execution_count": 10,
   "metadata": {},
   "outputs": [],
   "source": [
    "summary.loc['SMO'] = \\\n",
    "    pd.Series({'name':'Sierra Madre Occidental',\n",
    "               'type':'silicic/bimodal',\n",
    "               'age':34,\n",
    "               'age ref.':'Bryan and Ferrari (2013)',\n",
    "               'original area km2':np.sum(original_SMO['area_km2']),\n",
    "               'present area km2':np.sum(present_SMO['area_km2']),\n",
    "               'present area ref.':'Bryan and Ferrari (2013)',\n",
    "               'present/original':np.sum(present_SMO['area_km2']) / np.sum(original_SMO['area_km2']),\n",
    "               'buried':'no'})"
   ]
  },
  {
   "cell_type": "markdown",
   "metadata": {},
   "source": [
    "### NAIP (North Atlantic Volcanic Province)\n",
    "\n",
    "The North Atlantic Volcanic Province was associated with succesful rifting. In the Ernst current extent database there were duplicates for nearly all of the polygons with ages assigned both at 62 Ma and 60 Ma. There were also abundant polygons that are within the North Atlantic and are not exposed. These duplicates and submerged polygons were removes in order to determine area. Its extent will be anomalously low due to the potential of coverage by the Greenland ice sheet including the burial of much of it due to successful rifting.\n",
    "\n",
    "> Larsen, L., Pedersen, A., Tegner, C., Duncan, R., Hald, N. and Larsen, J., 2016. Age of Tertiary volcanic rocks on the West Greenland continental margin: volcanic evolution and event correlation to other parts of the North Atlantic Igneous Province. Geological Magazine: 1-25."
   ]
  },
  {
   "cell_type": "code",
   "execution_count": 11,
   "metadata": {},
   "outputs": [],
   "source": [
    "original_NAIP = original[original['AGE']==62]\n",
    "present_NAIP = present[present['X_BARCDAGE']==62]"
   ]
  },
  {
   "cell_type": "code",
   "execution_count": 12,
   "metadata": {},
   "outputs": [],
   "source": [
    "summary.loc['NAIP'] = \\\n",
    "    pd.Series({'name':'North Atlantic',\n",
    "               'type':'basaltic',\n",
    "               'age':62,\n",
    "               'age ref.':'Larsen et al. (2016)',\n",
    "               'original area km2':np.sum(original_NAIP['area_km2']),\n",
    "               'present area km2':np.sum(present_NAIP['area_km2']),\n",
    "               'present area ref.':'Buchan and Ernst (2004), Coffin et al. (2006)',\n",
    "               'present/original':np.sum(present_NAIP['area_km2']) / np.sum(original_NAIP['area_km2']),\n",
    "               'buried':'partial'})"
   ]
  },
  {
   "cell_type": "markdown",
   "metadata": {},
   "source": [
    "### Deccan"
   ]
  },
  {
   "cell_type": "code",
   "execution_count": 13,
   "metadata": {},
   "outputs": [],
   "source": [
    "original_Deccan = original[original['NAME_PART']=='Deccan']\n",
    "present_Deccan = present[present['X_BARCDAGE']==65]"
   ]
  },
  {
   "cell_type": "code",
   "execution_count": 14,
   "metadata": {},
   "outputs": [],
   "source": [
    "summary.loc['Deccan'] = \\\n",
    "    pd.Series({'name':'Deccan',\n",
    "               'type':'basaltic',\n",
    "               'age':66,\n",
    "               'age ref.':'Schoene (2015)',\n",
    "               'original area km2':np.sum(original_Deccan['area_km2']),\n",
    "               'present area km2':np.sum(present_Deccan['area_km2']),\n",
    "               'present area ref.':'Coffin et al. (2006)',\n",
    "               'present/original':np.sum(present_Deccan['area_km2']) / np.sum(original_Deccan['area_km2']),\n",
    "               'buried':'no'})"
   ]
  },
  {
   "cell_type": "markdown",
   "metadata": {},
   "source": [
    "### Seychelles"
   ]
  },
  {
   "cell_type": "code",
   "execution_count": 15,
   "metadata": {},
   "outputs": [],
   "source": [
    "original_Seychelles = original[original['NAME_PART']=='Chagos-Laccadive (3000M & gravity contour)']"
   ]
  },
  {
   "cell_type": "code",
   "execution_count": 16,
   "metadata": {},
   "outputs": [],
   "source": [
    "summary.loc['Seychelles'] = \\\n",
    "    pd.Series({'name':'Seychelles',\n",
    "               'type':'basaltic',\n",
    "               'age':66,\n",
    "               'age ref.':'Schoene (2015)',\n",
    "               'original area km2':np.sum(original_Seychelles['area_km2']),\n",
    "               'present area km2':0,\n",
    "               'present area ref.':'Coffin et al. (2006)',\n",
    "               'present/original':0,\n",
    "               'buried':'yes'})"
   ]
  },
  {
   "cell_type": "markdown",
   "metadata": {},
   "source": [
    "### Madagascar"
   ]
  },
  {
   "cell_type": "code",
   "execution_count": 17,
   "metadata": {},
   "outputs": [],
   "source": [
    "original_Madagascar = original[original['NAME_EVENT']=='Madagascar']\n",
    "present_Madagascar = present[present['X_BARCDAGE']==91]"
   ]
  },
  {
   "cell_type": "code",
   "execution_count": 18,
   "metadata": {},
   "outputs": [],
   "source": [
    "summary.loc['Madagascar'] = \\\n",
    "    pd.Series({'name':'Madagascar',\n",
    "               'type':'basaltic',\n",
    "               'age':90,\n",
    "               'age ref.':'Cucciniello et al. (2010)',\n",
    "               'original area km2':np.sum(original_Madagascar['area_km2']),\n",
    "               'present area km2':np.sum(present_Madagascar['area_km2']),\n",
    "               'present area ref.':'Coffin et al. (2006)',\n",
    "               'present/original':np.sum(present_Madagascar['area_km2']) / np.sum(original_Madagascar['area_km2']),\n",
    "               'buried':'no'})"
   ]
  },
  {
   "cell_type": "markdown",
   "metadata": {},
   "source": [
    "### Carribean-Columbian"
   ]
  },
  {
   "cell_type": "code",
   "execution_count": 19,
   "metadata": {},
   "outputs": [],
   "source": [
    "original_Carribean_Columbian = original[original['NAME_EVENT']=='Caribbean-Colombian']\n",
    "present_Carribean_Columbian = present[present['X_BARCDAGE']==88]"
   ]
  },
  {
   "cell_type": "code",
   "execution_count": 20,
   "metadata": {},
   "outputs": [],
   "source": [
    "summary.loc['Carribean_Columbian'] = \\\n",
    "    pd.Series({'name':'Carribean-Columbian',\n",
    "               'type':'basaltic',\n",
    "               'age':94,\n",
    "               'age ref.':'Loewen et al. (2013)',\n",
    "               'original area km2':np.sum(original_Carribean_Columbian['area_km2']),\n",
    "               'present area km2':np.sum(present_Carribean_Columbian['area_km2']),\n",
    "               'present area ref.':'Coffin et al. (2006)',\n",
    "               'present/original':np.sum(present_Carribean_Columbian['area_km2']) / np.sum(original_Carribean_Columbian['area_km2']),\n",
    "               'buried':'no'})"
   ]
  },
  {
   "cell_type": "markdown",
   "metadata": {},
   "source": [
    "### High Arctic\n",
    "\n",
    "Used LiMW to get the present day area - basaltic polygons corresponding to the HALIP."
   ]
  },
  {
   "cell_type": "code",
   "execution_count": 21,
   "metadata": {},
   "outputs": [],
   "source": [
    "original_HALIP = original[original['AGE_TEXT']=='120-90 Ma']\n",
    "present_HALIP = pd.read_csv('../Data/HALIP_extent.csv')"
   ]
  },
  {
   "cell_type": "code",
   "execution_count": 22,
   "metadata": {},
   "outputs": [],
   "source": [
    "summary.loc['HALIP'] = \\\n",
    "    pd.Series({'name':'High Arctic',\n",
    "               'type':'basaltic',\n",
    "               'age':95,\n",
    "               'age ref.':'Kingsbury et al. (2018)',\n",
    "               'original area km2':np.sum(original_HALIP['area_km2']),\n",
    "               'present area km2':np.sum(present_HALIP['area_km2']),\n",
    "               'present area ref.':'Moosdorf and Hartmann (2015)',\n",
    "               'present/original':np.sum(present_HALIP['area_km2']) / np.sum(original_HALIP['area_km2']),\n",
    "               'buried':'no'})"
   ]
  },
  {
   "cell_type": "markdown",
   "metadata": {},
   "source": [
    "### Whitsunday\n",
    "\n",
    "Not pulling present day area since silicic."
   ]
  },
  {
   "cell_type": "code",
   "execution_count": 59,
   "metadata": {},
   "outputs": [],
   "source": [
    "original_Whitsunday = original[original['AGE_TEXT']=='120-105']"
   ]
  },
  {
   "cell_type": "code",
   "execution_count": null,
   "metadata": {},
   "outputs": [],
   "source": [
    "summary.loc['Whitsunday'] = \\\n",
    "    pd.Series({'name':'Whitsunday',\n",
    "               'type':'silicic',\n",
    "               'age':120,\n",
    "               'age ref.':'Bryan et al. (2000)',\n",
    "               'original area km2':np.sum(original_Whitsunday['area_km2']),\n",
    "               'present area km2':np.nan,\n",
    "               'present area ref.':'n/a',\n",
    "               'present/original':np.nan,\n",
    "               'buried':'no'})"
   ]
  },
  {
   "cell_type": "markdown",
   "metadata": {},
   "source": [
    "### Maud Rise\n",
    "\n",
    "Does not intersect the CEED6 polygons."
   ]
  },
  {
   "cell_type": "markdown",
   "metadata": {},
   "source": [
    "### Comei\n",
    "\n",
    "Original area manually georeferenced from Ernst et al. (2017).\n",
    "\n",
    "No current compilation of present day exposure."
   ]
  },
  {
   "cell_type": "code",
   "execution_count": 23,
   "metadata": {},
   "outputs": [],
   "source": [
    "original_Comei = original[original['NAME_EVENT']=='Comei']"
   ]
  },
  {
   "cell_type": "code",
   "execution_count": 24,
   "metadata": {},
   "outputs": [],
   "source": [
    "summary.loc['Comei'] = \\\n",
    "    pd.Series({'name':'Comei',\n",
    "               'type':'basaltic',\n",
    "               'age':132,\n",
    "               'age ref.':'Zhu et al. (2009)',\n",
    "               'original area km2':np.sum(original_Comei['area_km2']),\n",
    "               'present area km2':np.nan,\n",
    "               'present area ref.':'n/a',\n",
    "               'present/original':np.nan,\n",
    "               'buried':'no'})"
   ]
  },
  {
   "cell_type": "markdown",
   "metadata": {},
   "source": [
    "### Bunbury\n",
    "\n",
    "Original area manually georeferenced from Ernst et al. (2017)."
   ]
  },
  {
   "cell_type": "code",
   "execution_count": 25,
   "metadata": {},
   "outputs": [],
   "source": [
    "original_Bunbury = original[original['NAME_EVENT']=='Bunbury']\n",
    "present_Bunbury = present[present['X_NAME_EVE']=='Bunbury']"
   ]
  },
  {
   "cell_type": "code",
   "execution_count": 26,
   "metadata": {},
   "outputs": [
    {
     "name": "stderr",
     "output_type": "stream",
     "text": [
      "/Users/yuempark/anaconda3/lib/python3.6/site-packages/ipykernel_launcher.py:8: RuntimeWarning: divide by zero encountered in true_divide\n",
      "  \n"
     ]
    }
   ],
   "source": [
    "summary.loc['Bunbury'] = \\\n",
    "    pd.Series({'name':'Bunbury',\n",
    "               'type':'basaltic',\n",
    "               'age':132,\n",
    "               'age ref.':'Zhu et al. (2009)',\n",
    "               'original area km2':np.sum(original_Bunbury['area_km2']),\n",
    "               'present area km2':np.sum(present_Bunbury['area_km2']),\n",
    "               'present area ref.':'???',\n",
    "               'present/original':np.sum(present_Bunbury['area_km2']) / np.sum(original_Bunbury['area_km2']),\n",
    "               'buried':'no'})"
   ]
  },
  {
   "cell_type": "markdown",
   "metadata": {},
   "source": [
    "### EQUAMP"
   ]
  },
  {
   "cell_type": "code",
   "execution_count": 27,
   "metadata": {},
   "outputs": [],
   "source": [
    "original_EQUAMP = original[original['NAME_EVENT']=='EQUAMP (Equatorial Atlantic Magmatic Province)']\n",
    "present_EQUAMP = present[(present['X_NAME_EVE']=='130 Ma (EQUAMP)')|(present['X_NAME_EVE']=='EQUAMP (Equatorial Atlantic Magmatic Province)')]"
   ]
  },
  {
   "cell_type": "code",
   "execution_count": 28,
   "metadata": {},
   "outputs": [],
   "source": [
    "summary.loc['EQUAMP'] = \\\n",
    "    pd.Series({'name':'Equatorial Atlantic Magmatic Province',\n",
    "               'type':'basaltic',\n",
    "               'age':131,\n",
    "               'age ref.':'Hollanda et al. (2016)',\n",
    "               'original area km2':np.sum(original_EQUAMP['area_km2']),\n",
    "               'present area km2':np.sum(present_EQUAMP['area_km2']),\n",
    "               'present area ref.':'Hollanda et al. (2016)',\n",
    "               'present/original':np.sum(present_EQUAMP['area_km2']) / np.sum(original_EQUAMP['area_km2']),\n",
    "               'buried':'no'})"
   ]
  },
  {
   "cell_type": "markdown",
   "metadata": {},
   "source": [
    "### Parana-Etendeka"
   ]
  },
  {
   "cell_type": "code",
   "execution_count": 29,
   "metadata": {},
   "outputs": [],
   "source": [
    "original_Parana_Etendeka = original[(original['AGE']==134)&(original['NAME_EVENT']!='EQUAMP (Equatorial Atlantic Magmatic Province)')]\n",
    "present_Parana = present[(present['X_BARCDAGE']==134)&(present['X_NAME_EVE']!='130 Ma (EQUAMP)')&(present['X_NAME_EVE']!='EQUAMP (Equatorial Atlantic Magmatic Province)')]\n",
    "present_Etendeka = present[present['X_BARCDAGE']==138]"
   ]
  },
  {
   "cell_type": "code",
   "execution_count": 30,
   "metadata": {},
   "outputs": [],
   "source": [
    "summary.loc['Parana_Etendeka'] = \\\n",
    "    pd.Series({'name':'Parana-Etendeka',\n",
    "               'type':'basaltic',\n",
    "               'age':135,\n",
    "               'age ref.':'Florisbal et al. (2014)',\n",
    "               'original area km2':np.sum(original_Parana_Etendeka['area_km2']),\n",
    "               'present area km2':np.sum(present_Parana['area_km2'])+np.sum(present_Etendeka['area_km2']),\n",
    "               'present area ref.':'Coffin et al. (2016), Teixeira and Albrez (2017)',\n",
    "               'present/original':(np.sum(present_Parana['area_km2'])+np.sum(present_Etendeka['area_km2'])) / np.sum(original_Parana_Etendeka['area_km2']),\n",
    "               'buried':'partial'})"
   ]
  },
  {
   "cell_type": "markdown",
   "metadata": {},
   "source": [
    "### Trap\n",
    "\n",
    "The only exposure of the Trap are dikes (no flood basalts)."
   ]
  },
  {
   "cell_type": "code",
   "execution_count": 31,
   "metadata": {},
   "outputs": [],
   "source": [
    "original_Trap = original[original['NAME_EVENT']=='Trap']"
   ]
  },
  {
   "cell_type": "code",
   "execution_count": 32,
   "metadata": {},
   "outputs": [],
   "source": [
    "summary.loc['Trap'] = \\\n",
    "    pd.Series({'name':'Trap',\n",
    "               'type':'basaltic',\n",
    "               'age':140,\n",
    "               'age ref.':'Ernst et al. (2001)',\n",
    "               'original area km2':np.sum(original_Trap['area_km2']),\n",
    "               'present area km2':0,\n",
    "               'present area ref.':'Ernst and Buchan (2001)',\n",
    "               'present/original':0,\n",
    "               'buried':'no'})"
   ]
  },
  {
   "cell_type": "markdown",
   "metadata": {},
   "source": [
    "### Sorachi\n",
    "\n",
    "Not included since it is an accreted oceanic plateau."
   ]
  },
  {
   "cell_type": "markdown",
   "metadata": {},
   "source": [
    "### NW Australia Margin\n",
    "\n",
    "There are offshore intrusions and basalts, but no current exposure on land."
   ]
  },
  {
   "cell_type": "code",
   "execution_count": 33,
   "metadata": {},
   "outputs": [],
   "source": [
    "original_NW_Aus = original[original['NAME_EVENT']=='NW Australian Margin']"
   ]
  },
  {
   "cell_type": "code",
   "execution_count": 34,
   "metadata": {},
   "outputs": [],
   "source": [
    "summary.loc['NW_Aus'] = \\\n",
    "    pd.Series({'name':'NW Australia Margin',\n",
    "               'type':'basaltic',\n",
    "               'age':160,\n",
    "               'age ref.':'',\n",
    "               'original area km2':np.sum(original_NW_Aus['area_km2']),\n",
    "               'present area km2':0,\n",
    "               'present area ref.':'Coffin et al. (2006)',\n",
    "               'present/original':0,\n",
    "               'buried':'yes'})"
   ]
  },
  {
   "cell_type": "markdown",
   "metadata": {},
   "source": [
    "### Chon Aike\n",
    "\n",
    "Original area manually georeferenced from Ernst et al. (2017).\n",
    "\n",
    "No current compilation of present day exposure."
   ]
  },
  {
   "cell_type": "code",
   "execution_count": 35,
   "metadata": {},
   "outputs": [],
   "source": [
    "original_Chon_Aike = original[original['NAME_EVENT']=='Chon Aike']"
   ]
  },
  {
   "cell_type": "code",
   "execution_count": 36,
   "metadata": {},
   "outputs": [],
   "source": [
    "summary.loc['Chon_Aike'] = \\\n",
    "    pd.Series({'name':'Chon Aike',\n",
    "               'type':'silicic',\n",
    "               'age':183,\n",
    "               'age ref.':'Pankhurst et al. (1998)',\n",
    "               'original area km2':np.sum(original_Chon_Aike['area_km2']),\n",
    "               'present area km2':np.nan,\n",
    "               'present area ref.':'n/a',\n",
    "               'present/original':np.nan,\n",
    "               'buried':'no'})"
   ]
  },
  {
   "cell_type": "markdown",
   "metadata": {},
   "source": [
    "### Karoo\n",
    "\n",
    "Present day area includes both volcanics and sills."
   ]
  },
  {
   "cell_type": "code",
   "execution_count": 37,
   "metadata": {},
   "outputs": [],
   "source": [
    "original_Karoo = original[original['NAME_EVENT']=='Karoo']\n",
    "present_Karoo = present[present['REF_LINE']=='from ArcGIS compilation produced under LIPs Project contract to M. de Kock']\n",
    "present_Karoo = present_Karoo[present_Karoo['X_NAME_EVE']=='Karoo LIP']"
   ]
  },
  {
   "cell_type": "code",
   "execution_count": 38,
   "metadata": {},
   "outputs": [],
   "source": [
    "summary.loc['Karoo'] = \\\n",
    "    pd.Series({'name':'Karoo',\n",
    "               'type':'basaltic',\n",
    "               'age':183,\n",
    "               'age ref.':'Burgess et al. (2015)',\n",
    "               'original area km2':np.sum(original_Karoo['area_km2']),\n",
    "               'present area km2':np.sum(present_Karoo['area_km2']),\n",
    "               'present area ref.':'de Kock compilation',\n",
    "               'present/original':np.sum(present_Karoo['area_km2']) / np.sum(original_Karoo['area_km2']),\n",
    "               'buried':'no'})"
   ]
  },
  {
   "cell_type": "markdown",
   "metadata": {},
   "source": [
    "### Ferrar\n",
    "\n",
    "No current compilation of present day exposure."
   ]
  },
  {
   "cell_type": "code",
   "execution_count": 39,
   "metadata": {},
   "outputs": [],
   "source": [
    "original_Ferrar = original[original['NAME_EVENT']=='Ferrar']"
   ]
  },
  {
   "cell_type": "code",
   "execution_count": 40,
   "metadata": {},
   "outputs": [],
   "source": [
    "summary.loc['Ferrar'] = \\\n",
    "    pd.Series({'name':'Ferrar',\n",
    "               'type':'basaltic',\n",
    "               'age':183,\n",
    "               'age ref.':'Burgess et al. (2015)',\n",
    "               'original area km2':np.sum(original_Ferrar['area_km2']),\n",
    "               'present area km2':np.nan,\n",
    "               'present area ref.':'n/a',\n",
    "               'present/original':np.nan,\n",
    "               'buried':'no'})"
   ]
  },
  {
   "cell_type": "markdown",
   "metadata": {},
   "source": [
    "### Angayucham\n",
    "\n",
    "Not included since it is an accreted oceanic plateau."
   ]
  },
  {
   "cell_type": "markdown",
   "metadata": {},
   "source": [
    "### Wrangellia\n",
    "\n",
    "Not included since it is an accreted oceanic plateau."
   ]
  },
  {
   "cell_type": "markdown",
   "metadata": {},
   "source": [
    "### CAMP\n",
    "\n",
    "Present day extent includes lavas and sills."
   ]
  },
  {
   "cell_type": "code",
   "execution_count": 41,
   "metadata": {},
   "outputs": [],
   "source": [
    "original_CAMP = original[original['AGE']==201]\n",
    "present_CAMP = present[present['REF_LINE']=='from ArcGIS CAMP compilation of A. Marzoli & L. Parisio produced under contract to LIPs-Reconstruction Project']"
   ]
  },
  {
   "cell_type": "code",
   "execution_count": 42,
   "metadata": {},
   "outputs": [],
   "source": [
    "summary.loc['CAMP'] = \\\n",
    "    pd.Series({'name':'CAMP',\n",
    "               'type':'basaltic',\n",
    "               'age':201,\n",
    "               'age ref.':'Blackburn et al. (2013)',\n",
    "               'original area km2':np.sum(original_CAMP['area_km2']),\n",
    "               'present area km2':np.sum(present_CAMP['area_km2']),\n",
    "               'present area ref.':'Marzoli and Parisio compilation',\n",
    "               'present/original':np.sum(present_CAMP['area_km2']) / np.sum(original_CAMP['area_km2']),\n",
    "               'buried':'partial'})"
   ]
  },
  {
   "cell_type": "markdown",
   "metadata": {},
   "source": [
    "### Siberia\n",
    "\n",
    "We are using the PLATES compilation for now, but we could perhaps do a better job using LiMW."
   ]
  },
  {
   "cell_type": "code",
   "execution_count": 43,
   "metadata": {},
   "outputs": [],
   "source": [
    "original_Siberia = original[original['NAME_EVENT']=='Siberian Trap LIP']\n",
    "present_Siberia = present[present['X_NAME_EVE']=='Siberian Trap LIP']\n",
    "present_Siberia = present_Siberia[present_Siberia['REF_LINE']=='http://www.ig.utexas.edu/research/projects/plates/data/LIPS/Data/About.Data   M.F. Coffin, U. Texas']"
   ]
  },
  {
   "cell_type": "code",
   "execution_count": 44,
   "metadata": {},
   "outputs": [],
   "source": [
    "summary.loc['Siberia'] = \\\n",
    "    pd.Series({'name':'Siberia',\n",
    "               'type':'basaltic',\n",
    "               'age':252,\n",
    "               'age ref.':'Burgess and Bowring (2015)',\n",
    "               'original area km2':np.sum(original_Siberia['area_km2']),\n",
    "               'present area km2':np.sum(present_Siberia['area_km2']),\n",
    "               'present area ref.':'Coffin et al. (2006)',\n",
    "               'present/original':np.sum(present_Siberia['area_km2']) / np.sum(original_Siberia['area_km2']),\n",
    "               'buried':'no'})"
   ]
  },
  {
   "cell_type": "markdown",
   "metadata": {},
   "source": [
    "### Emeishan\n",
    "\n",
    "Present day polygons are slightly low resolution, which may be artificially increasing their area."
   ]
  },
  {
   "cell_type": "code",
   "execution_count": 45,
   "metadata": {},
   "outputs": [],
   "source": [
    "original_Emeishan = original[original['NAME_EVENT']=='Emeishan']\n",
    "present_Emeishan = present[present['X_LIPNAME']=='Emeishan basaltic volcanics']"
   ]
  },
  {
   "cell_type": "code",
   "execution_count": 46,
   "metadata": {},
   "outputs": [],
   "source": [
    "summary.loc['Emeishan'] = \\\n",
    "    pd.Series({'name':'Emeishan',\n",
    "               'type':'basaltic',\n",
    "               'age':259,\n",
    "               'age ref.':'Zhou et al. (2002)',\n",
    "               'original area km2':np.sum(original_Emeishan['area_km2']),\n",
    "               'present area km2':np.sum(present_Emeishan['area_km2']),\n",
    "               'present area ref.':'Coffin et al. (2006)',\n",
    "               'present/original':np.sum(present_Emeishan['area_km2']) / np.sum(original_Emeishan['area_km2']),\n",
    "               'buried':'no'})"
   ]
  },
  {
   "cell_type": "markdown",
   "metadata": {},
   "source": [
    "### Tarim\n",
    "\n",
    "No current compilation of present day exposure."
   ]
  },
  {
   "cell_type": "code",
   "execution_count": 47,
   "metadata": {},
   "outputs": [],
   "source": [
    "original_Tarim = original[(original['NAME_EVENT']=='Tarim (possibly incorrectly located)')|(original['NAME_EVENT']=='Tarim')]"
   ]
  },
  {
   "cell_type": "code",
   "execution_count": 48,
   "metadata": {},
   "outputs": [],
   "source": [
    "summary.loc['Tarim'] = \\\n",
    "    pd.Series({'name':'Tarim',\n",
    "               'type':'basaltic',\n",
    "               'age':290,\n",
    "               'age ref.':'Xu et al. (2014)',\n",
    "               'original area km2':np.sum(original_Tarim['area_km2']),\n",
    "               'present area km2':np.nan,\n",
    "               'present area ref.':'n/a',\n",
    "               'present/original':np.nan,\n",
    "               'buried':'no'})"
   ]
  },
  {
   "cell_type": "markdown",
   "metadata": {},
   "source": [
    "### Panjal-Qiangtang\n",
    "\n",
    "No current compilation of present day exposure."
   ]
  },
  {
   "cell_type": "code",
   "execution_count": 49,
   "metadata": {},
   "outputs": [],
   "source": [
    "original_Panjal_Qiangtang = original[(original['NAME_EVENT']=='Panjal')|(original['NAME_EVENT']=='South Qiangtang')]"
   ]
  },
  {
   "cell_type": "code",
   "execution_count": 50,
   "metadata": {},
   "outputs": [],
   "source": [
    "summary.loc['Panjal_Qiangtang'] = \\\n",
    "    pd.Series({'name':'Panjal-Qiangtang',\n",
    "               'type':'basaltic',\n",
    "               'age':283,\n",
    "               'age ref.':'Zhai et al. (2013)',\n",
    "               'original area km2':np.sum(original_Panjal_Qiangtang['area_km2']),\n",
    "               'present area km2':np.nan,\n",
    "               'present area ref.':'n/a',\n",
    "               'present/original':np.nan,\n",
    "               'buried':'no'})"
   ]
  },
  {
   "cell_type": "markdown",
   "metadata": {},
   "source": [
    "### Kennedy-Conners-Auburn\n",
    "\n",
    "Original area manually georeferenced from Ernst et al. (2017).\n",
    "\n",
    "No current compilation of present day exposure."
   ]
  },
  {
   "cell_type": "code",
   "execution_count": 51,
   "metadata": {},
   "outputs": [],
   "source": [
    "original_KNA = original[original['NAME_EVENT']=='Kennedy-Conners-Auburn']"
   ]
  },
  {
   "cell_type": "code",
   "execution_count": 52,
   "metadata": {},
   "outputs": [],
   "source": [
    "summary.loc['KNA'] = \\\n",
    "    pd.Series({'name':'Kennedy-Conners-Auburn',\n",
    "               'type':'silicic',\n",
    "               'age':305,\n",
    "               'age ref.':'Bryan and Ferrari (2013)',\n",
    "               'original area km2':np.sum(original_KNA['area_km2']),\n",
    "               'present area km2':np.nan,\n",
    "               'present area ref.':'n/a',\n",
    "               'present/original':np.nan,\n",
    "               'buried':'no'})"
   ]
  },
  {
   "cell_type": "markdown",
   "metadata": {},
   "source": [
    "### Magdalen\n",
    "\n",
    "No current compilation of present day exposure."
   ]
  },
  {
   "cell_type": "code",
   "execution_count": 53,
   "metadata": {},
   "outputs": [],
   "source": [
    "original_Magdalen = original[original['NAME_EVENT']=='Magdalen-Maritimes']"
   ]
  },
  {
   "cell_type": "code",
   "execution_count": 54,
   "metadata": {},
   "outputs": [],
   "source": [
    "summary.loc['Magdalen'] = \\\n",
    "    pd.Series({'name':'Magdalen',\n",
    "               'type':'basaltic',\n",
    "               'age':360,\n",
    "               'age ref.':'Murphy et al. (1999)',\n",
    "               'original area km2':np.sum(original_Magdalen['area_km2']),\n",
    "               'present area km2':np.nan,\n",
    "               'present area ref.':'n/a',\n",
    "               'present/original':np.nan,\n",
    "               'buried':'no'})"
   ]
  },
  {
   "cell_type": "markdown",
   "metadata": {},
   "source": [
    "### Vilyui\n",
    "\n",
    "No current compilation of present day exposure."
   ]
  },
  {
   "cell_type": "code",
   "execution_count": 55,
   "metadata": {},
   "outputs": [],
   "source": [
    "original_Vilyui = original[original['NAME_EVENT']=='Yakutsk-Vilyui']"
   ]
  },
  {
   "cell_type": "code",
   "execution_count": 56,
   "metadata": {},
   "outputs": [],
   "source": [
    "summary.loc['Vilyui'] = \\\n",
    "    pd.Series({'name':'Vilyui',\n",
    "               'type':'basaltic',\n",
    "               'age':374,\n",
    "               'age ref.':'Renne et al. (2010)',\n",
    "               'original area km2':np.sum(original_Vilyui['area_km2']),\n",
    "               'present area km2':np.nan,\n",
    "               'present area ref.':'n/a',\n",
    "               'present/original':np.nan,\n",
    "               'buried':'no'})"
   ]
  },
  {
   "cell_type": "markdown",
   "metadata": {},
   "source": [
    "### Kola-Dnieper\n",
    "\n",
    "No current compilation of present day exposure."
   ]
  },
  {
   "cell_type": "code",
   "execution_count": 57,
   "metadata": {},
   "outputs": [],
   "source": [
    "original_Kola_Dnieper = original[original['NAME_EVENT']=='Kola-Dnieper [East European craton]']"
   ]
  },
  {
   "cell_type": "code",
   "execution_count": 58,
   "metadata": {},
   "outputs": [
    {
     "ename": "NameError",
     "evalue": "name 'original_Kola_Kneiper' is not defined",
     "output_type": "error",
     "traceback": [
      "\u001b[0;31m---------------------------------------------------------------------------\u001b[0m",
      "\u001b[0;31mNameError\u001b[0m                                 Traceback (most recent call last)",
      "\u001b[0;32m<ipython-input-58-afb16706f6fb>\u001b[0m in \u001b[0;36m<module>\u001b[0;34m()\u001b[0m\n\u001b[1;32m      3\u001b[0m                \u001b[0;34m'age'\u001b[0m\u001b[0;34m:\u001b[0m\u001b[0;36m380\u001b[0m\u001b[0;34m,\u001b[0m\u001b[0;34m\u001b[0m\u001b[0m\n\u001b[1;32m      4\u001b[0m                \u001b[0;34m'age ref.'\u001b[0m\u001b[0;34m:\u001b[0m\u001b[0;34m'Arzamastsev and Wu (2014)'\u001b[0m\u001b[0;34m,\u001b[0m\u001b[0;34m\u001b[0m\u001b[0m\n\u001b[0;32m----> 5\u001b[0;31m                \u001b[0;34m'original area km2'\u001b[0m\u001b[0;34m:\u001b[0m\u001b[0mnp\u001b[0m\u001b[0;34m.\u001b[0m\u001b[0msum\u001b[0m\u001b[0;34m(\u001b[0m\u001b[0moriginal_Kola_Kneiper\u001b[0m\u001b[0;34m[\u001b[0m\u001b[0;34m'area_km2'\u001b[0m\u001b[0;34m]\u001b[0m\u001b[0;34m)\u001b[0m\u001b[0;34m,\u001b[0m\u001b[0;34m\u001b[0m\u001b[0m\n\u001b[0m\u001b[1;32m      6\u001b[0m                \u001b[0;34m'present area km2'\u001b[0m\u001b[0;34m:\u001b[0m\u001b[0mnp\u001b[0m\u001b[0;34m.\u001b[0m\u001b[0mnan\u001b[0m\u001b[0;34m,\u001b[0m\u001b[0;34m\u001b[0m\u001b[0m\n\u001b[1;32m      7\u001b[0m                \u001b[0;34m'present area ref.'\u001b[0m\u001b[0;34m:\u001b[0m\u001b[0;34m'n/a'\u001b[0m\u001b[0;34m,\u001b[0m\u001b[0;34m\u001b[0m\u001b[0m\n",
      "\u001b[0;31mNameError\u001b[0m: name 'original_Kola_Kneiper' is not defined"
     ]
    }
   ],
   "source": [
    "summary.loc['Kola_Dnieper'] = \\\n",
    "    pd.Series({'name':'Kola-Dnieper',\n",
    "               'type':'basaltic',\n",
    "               'age':380,\n",
    "               'age ref.':'Arzamastsev and Wu (2014)',\n",
    "               'original area km2':np.sum(original_Kola_Dnieper['area_km2']),\n",
    "               'present area km2':np.nan,\n",
    "               'present area ref.':'n/a',\n",
    "               'present/original':np.nan,\n",
    "               'buried':'no'})"
   ]
  },
  {
   "cell_type": "markdown",
   "metadata": {},
   "source": [
    "### Suordakh\n",
    "\n",
    "Original area manually georeferenced from Ernst et al. (2017).\n",
    "\n",
    "No current compilation of present day exposure."
   ]
  },
  {
   "cell_type": "code",
   "execution_count": null,
   "metadata": {},
   "outputs": [],
   "source": [
    "original_Suordakh = original[original['NAME_EVENT']=='Suordakh']"
   ]
  },
  {
   "cell_type": "code",
   "execution_count": null,
   "metadata": {},
   "outputs": [],
   "source": [
    "summary.loc['Suordakh'] = \\\n",
    "    pd.Series({'name':'Suordakh',\n",
    "               'type':'basaltic',\n",
    "               'age':450,\n",
    "               'age ref.':'Khudoley et al. (2013)',\n",
    "               'original area km2':np.sum(original_Suordakh['area_km2']),\n",
    "               'present area km2':np.nan,\n",
    "               'present area ref.':'n/a',\n",
    "               'present/original':np.nan,\n",
    "               'buried':'no'})"
   ]
  },
  {
   "cell_type": "markdown",
   "metadata": {},
   "source": [
    "### Kalkarindji\n",
    "\n",
    "Patchy/incomplete current compilation of present day exposure."
   ]
  },
  {
   "cell_type": "code",
   "execution_count": null,
   "metadata": {},
   "outputs": [],
   "source": [
    "original_Kalkarindji = original[original['NAME_EVENT']=='Kalkarindji']\n",
    "present_Kalkarindji = present[present['X_NAME_EVE']=='Kalkarindji']"
   ]
  },
  {
   "cell_type": "code",
   "execution_count": null,
   "metadata": {},
   "outputs": [],
   "source": [
    "summary.loc['Kalkarindji'] = \\\n",
    "    pd.Series({'name':'Kalkarindji',\n",
    "               'type':'basaltic',\n",
    "               'age':511,\n",
    "               'age ref.':'Jourdan et al. (2014)',\n",
    "               'original area km2':np.sum(original_Kalkarindji['area_km2']),\n",
    "               'present area km2':np.sum(present_Kalkarindji['area_km2']),\n",
    "               'present area ref.':'???',\n",
    "               'present/original':np.sum(present_Kalkarindji['area_km2']) / np.sum(original_Kalkarindji['area_km2']),\n",
    "               'buried':'no'})"
   ]
  },
  {
   "cell_type": "markdown",
   "metadata": {},
   "source": [
    "### Wichita\n",
    "\n",
    "Present day extent not examined."
   ]
  },
  {
   "cell_type": "code",
   "execution_count": null,
   "metadata": {},
   "outputs": [],
   "source": [
    "original_Wichita = original[original['NAME_EVENT']=='Wichita Mountains']"
   ]
  },
  {
   "cell_type": "code",
   "execution_count": null,
   "metadata": {},
   "outputs": [],
   "source": [
    "summary.loc['Wichita'] = \\\n",
    "    pd.Series({'name':'Wichita',\n",
    "               'type':'basaltic',\n",
    "               'age':535,\n",
    "               'age ref.':'Hanson et al. (2013)',\n",
    "               'original area km2':np.sum(original_Wichita['area_km2']),\n",
    "               'present area km2':np.nan,\n",
    "               'present area ref.':'n/a',\n",
    "               'present/original':np.nan,\n",
    "               'buried':'yes'})"
   ]
  },
  {
   "cell_type": "markdown",
   "metadata": {},
   "source": [
    "### Ouarzazate\n",
    "\n",
    "Present day extent not examined."
   ]
  },
  {
   "cell_type": "code",
   "execution_count": null,
   "metadata": {},
   "outputs": [],
   "source": [
    "original_Ouarzazate = original[original['NAME_EVENT']=='Ouarzazate']"
   ]
  },
  {
   "cell_type": "code",
   "execution_count": null,
   "metadata": {},
   "outputs": [],
   "source": [
    "summary.loc['Ouarzazate'] = \\\n",
    "    pd.Series({'name':'Ouarzazate',\n",
    "               'type':'silicic',\n",
    "               'age':570,\n",
    "               'age ref.':'Thomas et al. (2002)',\n",
    "               'original area km2':np.sum(original_Ouarzazate['area_km2']),\n",
    "               'present area km2':np.nan,\n",
    "               'present area ref.':'n/a',\n",
    "               'present/original':np.nan,\n",
    "               'buried':'no'})"
   ]
  },
  {
   "cell_type": "markdown",
   "metadata": {},
   "source": [
    "### CIMP\n",
    "\n",
    "Present day extent not examined.\n",
    "\n",
    "Consists of several parts with different ages."
   ]
  },
  {
   "cell_type": "code",
   "execution_count": null,
   "metadata": {},
   "outputs": [],
   "source": [
    "original_CIMP_A = original[(original['NAME_EVENT']=='Catoctin')|\n",
    "                           (original['NAME_EVENT']=='Sept-Iles - Catoctin (Late Central-Iapetus)')|\n",
    "                           (original['NAME_EVENT']=='Grenville-Rideau (Middle Central-Iapetus)')]"
   ]
  },
  {
   "cell_type": "code",
   "execution_count": null,
   "metadata": {},
   "outputs": [],
   "source": [
    "summary.loc['CIMP_A'] = \\\n",
    "    pd.Series({'name':'CIMP - A',\n",
    "               'type':'basaltic',\n",
    "               'age':580,\n",
    "               'age ref.':'Ernst and Bell (2010)',\n",
    "               'original area km2':np.sum(original_CIMP_A['area_km2']),\n",
    "               'present area km2':np.nan,\n",
    "               'present area ref.':'n/a',\n",
    "               'present/original':np.nan,\n",
    "               'buried':'no'})"
   ]
  },
  {
   "cell_type": "code",
   "execution_count": null,
   "metadata": {},
   "outputs": [],
   "source": [
    "original_CIMP_B = original[(original['NAME_EVENT']=='Long Range (Early Central-Iapetus)')|\n",
    "                           (original['NAME_EVENT']=='Baltoscandian - Egersund')]"
   ]
  },
  {
   "cell_type": "code",
   "execution_count": null,
   "metadata": {},
   "outputs": [],
   "source": [
    "summary.loc['CIMP_B'] = \\\n",
    "    pd.Series({'name':'CIMP - B',\n",
    "               'type':'basaltic',\n",
    "               'age':615,\n",
    "               'age ref.':'Ernst and Bell (2010)',\n",
    "               'original area km2':np.sum(original_CIMP_B['area_km2']),\n",
    "               'present area km2':np.nan,\n",
    "               'present area ref.':'n/a',\n",
    "               'present/original':np.nan,\n",
    "               'buried':'no'})"
   ]
  },
  {
   "cell_type": "markdown",
   "metadata": {},
   "source": [
    "### Franklin\n",
    "\n",
    "Could be filtered by \"DESCRIPT\" field to be volcanics - including sills and volcanics right now"
   ]
  },
  {
   "cell_type": "code",
   "execution_count": null,
   "metadata": {},
   "outputs": [],
   "source": [
    "original_Franklin = original[original['NAME_EVENT']=='Franklin']\n",
    "present_Franklin = present[present['X_NAME_EVE']=='Franklin']"
   ]
  },
  {
   "cell_type": "code",
   "execution_count": null,
   "metadata": {},
   "outputs": [],
   "source": [
    "summary.loc['Franklin'] = \\\n",
    "    pd.Series({'name':'Franklin',\n",
    "               'type':'basaltic',\n",
    "               'age':720,\n",
    "               'age ref.':'Denyszyn et al. (2009)',\n",
    "               'original area km2':np.sum(original_Franklin['area_km2']),\n",
    "               'present area km2':np.sum(present_Franklin['area_km2']),\n",
    "               'present area ref.':'Buchan and Ernst (2004)',\n",
    "               'present/original':np.sum(present_Franklin['area_km2']) / np.sum(original_Franklin['area_km2']),\n",
    "               'buried':'no'})"
   ]
  },
  {
   "cell_type": "markdown",
   "metadata": {},
   "source": [
    "### Irkutsk"
   ]
  },
  {
   "cell_type": "code",
   "execution_count": null,
   "metadata": {},
   "outputs": [],
   "source": [
    "original_Irkutsk = original[original['NAME_EVENT']=='Irkutsk']"
   ]
  },
  {
   "cell_type": "code",
   "execution_count": null,
   "metadata": {},
   "outputs": [],
   "source": [
    "summary.loc['Irkutsk'] = \\\n",
    "    pd.Series({'name':'Irkutsk',\n",
    "               'type':'basaltic',\n",
    "               'age':724,\n",
    "               'age ref.':'Ernst et al. (2016)',\n",
    "               'original area km2':np.sum(original_Irkutsk['area_km2']),\n",
    "               'present area km2':np.nan,\n",
    "               'present area ref.':'n/a',\n",
    "               'present/original':np.nan,\n",
    "               'buried':'no'})"
   ]
  },
  {
   "cell_type": "markdown",
   "metadata": {},
   "source": [
    "## Analysis"
   ]
  },
  {
   "cell_type": "code",
   "execution_count": null,
   "metadata": {},
   "outputs": [],
   "source": [
    "summary"
   ]
  },
  {
   "cell_type": "markdown",
   "metadata": {},
   "source": [
    "Drop buried before exponential fit"
   ]
  },
  {
   "cell_type": "code",
   "execution_count": null,
   "metadata": {},
   "outputs": [],
   "source": [
    "from scipy.optimize import curve_fit\n",
    "\n",
    "def func(x, b):\n",
    "    return np.exp(-x / b)"
   ]
  },
  {
   "cell_type": "code",
   "execution_count": null,
   "metadata": {},
   "outputs": [],
   "source": [
    "clean_summary = summary.dropna()\n"
   ]
  },
  {
   "cell_type": "code",
   "execution_count": null,
   "metadata": {},
   "outputs": [],
   "source": [
    "ages = clean_summary['age'].tolist()\n",
    "area_ratio = clean_summary['present/original'].tolist()"
   ]
  },
  {
   "cell_type": "code",
   "execution_count": null,
   "metadata": {},
   "outputs": [],
   "source": [
    "fit_y"
   ]
  },
  {
   "cell_type": "code",
   "execution_count": null,
   "metadata": {},
   "outputs": [],
   "source": [
    "x = np.arange(0,800)\n",
    "y = np.exp(-x/50)\n",
    "\n",
    "coeffs = curve_fit(func, ages, area_ratio)\n",
    "\n",
    "plt.scatter(ages,area_ratio)\n",
    "plt.plot(x,y, c='C0')\n",
    "plt.plot(ages,func(ages, *coeffs),c='C1')\n",
    "plt.ylabel('fraction of LIP area exposed')\n",
    "plt.xlabel('time since LIP emplacement')\n",
    "plt.ylim(0,1)\n",
    "plt.xlim(0,800)\n",
    "plt.show()"
   ]
  },
  {
   "cell_type": "code",
   "execution_count": null,
   "metadata": {},
   "outputs": [],
   "source": []
  },
  {
   "cell_type": "code",
   "execution_count": null,
   "metadata": {},
   "outputs": [],
   "source": []
  }
 ],
 "metadata": {
  "kernelspec": {
   "display_name": "Python 3",
   "language": "python",
   "name": "python3"
  },
  "language_info": {
   "codemirror_mode": {
    "name": "ipython",
    "version": 3
   },
   "file_extension": ".py",
   "mimetype": "text/x-python",
   "name": "python",
   "nbconvert_exporter": "python",
   "pygments_lexer": "ipython3",
   "version": "3.6.6"
  },
  "toc": {
   "nav_menu": {},
   "number_sections": false,
   "sideBar": true,
   "skip_h1_title": false,
   "title_cell": "Table of Contents",
   "title_sidebar": "Contents",
   "toc_cell": false,
   "toc_position": {
    "height": "calc(100% - 180px)",
    "left": "10px",
    "top": "150px",
    "width": "216px"
   },
   "toc_section_display": true,
   "toc_window_display": true
  }
 },
 "nbformat": 4,
 "nbformat_minor": 2
}
